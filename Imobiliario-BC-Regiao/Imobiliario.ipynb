{
 "cells": [
  {
   "attachments": {},
   "cell_type": "markdown",
   "metadata": {},
   "source": [
    "# Web Scraping Student\n",
    "## For: Michel Souza Santana\n",
    "> Date start: 01/02/2022\n",
    "\n",
    "* The purpose of this is to record the process of learning the WebScraping technique and make it available to anyone who wants to make use of it for their own development."
   ]
  },
  {
   "attachments": {},
   "cell_type": "markdown",
   "metadata": {},
   "source": [
    "#### Instalando a biblioteca BeautifulSoup"
   ]
  },
  {
   "cell_type": "code",
   "execution_count": 110,
   "metadata": {},
   "outputs": [],
   "source": [
    "# !pip install bs4"
   ]
  },
  {
   "attachments": {},
   "cell_type": "markdown",
   "metadata": {},
   "source": [
    "#### Importando as bibliotecas"
   ]
  },
  {
   "cell_type": "code",
   "execution_count": 111,
   "metadata": {},
   "outputs": [],
   "source": [
    "from bs4 import BeautifulSoup\n",
    "from urllib.request import urlopen, Request\n",
    "import requests\n",
    "import pandas as pd\n",
    "import numpy as np"
   ]
  },
  {
   "attachments": {},
   "cell_type": "markdown",
   "metadata": {},
   "source": [
    "#### Coletando dados on-line via URL"
   ]
  },
  {
   "attachments": {},
   "cell_type": "markdown",
   "metadata": {},
   "source": [
    "> Fontes dos dados coletados\n",
    "* https://www.adimimoveis.com.br/imoveis/a-venda "
   ]
  },
  {
   "attachments": {},
   "cell_type": "markdown",
   "metadata": {},
   "source": [
    "##### OBS: A parte final desse código salva todo conteúdo em um arquivo html, assim sendo não será necessário rodar esse código a cada vêz para carregar os dados pois este será carregado a partirdo arquivo salvo polpando tempo em casos de consultas prolongadas. "
   ]
  },
  {
   "attachments": {},
   "cell_type": "markdown",
   "metadata": {},
   "source": [
    "#### Por meio da url estarei capturando a quantidade de páginas existente no site para dai então percorrer uma a uma coletando os valores de meu interesse."
   ]
  },
  {
   "cell_type": "code",
   "execution_count": 112,
   "metadata": {},
   "outputs": [
    {
     "data": {
      "text/plain": [
       "[[<div class=\"pagination-cell hidden-lg-up\"><p>1 de 52</p></div>]]"
      ]
     },
     "execution_count": 112,
     "metadata": {},
     "output_type": "execute_result"
    }
   ],
   "source": [
    "url=\"https://www.adimimoveis.com.br/imoveis/a-venda\"\n",
    "lista_paginacao = []\n",
    "req = Request(url, headers={'User-Agent': 'Mozilla/5.0'})\n",
    "html = urlopen(req)\n",
    "bs = BeautifulSoup(html.read(), 'html.parser')\n",
    "lista_paginacao.append(bs.find_all('div', {'class':'pagination-cell hidden-lg-up'}))\n",
    "lista_paginacao"
   ]
  },
  {
   "attachments": {},
   "cell_type": "markdown",
   "metadata": {},
   "source": [
    "#### Armazenando o numero de páginas em uma variável"
   ]
  },
  {
   "cell_type": "code",
   "execution_count": 113,
   "metadata": {},
   "outputs": [
    {
     "data": {
      "text/plain": [
       "52"
      ]
     },
     "execution_count": 113,
     "metadata": {},
     "output_type": "execute_result"
    }
   ],
   "source": [
    "for i in lista_paginacao:\n",
    "    number = []\n",
    "    number.append(i[0].find('p').get_text())\n",
    "number = number[0].split()\n",
    "number_page = int(number[2])\n",
    "number_page"
   ]
  },
  {
   "attachments": {},
   "cell_type": "markdown",
   "metadata": {},
   "source": [
    "#### Coletando os dados via URL"
   ]
  },
  {
   "cell_type": "code",
   "execution_count": 114,
   "metadata": {},
   "outputs": [],
   "source": [
    "url=\"https://www.adimimoveis.com.br/imoveis/a-venda\"\n",
    "html_list = []\n",
    "for page in range(1, number_page + 1):\n",
    "    lista = []\n",
    "    req = Request(url + '?pagina=' + str(page), headers={'User-Agent': 'Mozilla/5.0'})\n",
    "    html = urlopen(req)\n",
    "    bs = BeautifulSoup(html.read(), 'html.parser')\n",
    "    lista.append(bs.find_all('div', {'class':'card_split_vertically__content'}))\n",
    "    html_list.append(lista)\n",
    "\n",
    "arq_html = open('imobiliario.html', 'w')\n",
    "arq_html.write(str(html_list))\n",
    "arq_html.close()"
   ]
  },
  {
   "attachments": {},
   "cell_type": "markdown",
   "metadata": {},
   "source": [
    "#### Selecionando os dados de interesse para análise dos valores dos imóveis em Balneário Camboriú"
   ]
  },
  {
   "cell_type": "code",
   "execution_count": 115,
   "metadata": {},
   "outputs": [
    {
     "data": {
      "text/plain": [
       "<div class=\"card_split_vertically__content\"><div class=\"card_split_vertically__header\"><p class=\"card_split_vertically__type\">Apartamento</p><h3 class=\"card_split_vertically__location\">Nações - Balneário Camboriú - SC</h3><ul class=\"card_split_vertically__specs\"><li class=\"card_split_vertically__spec\">64.91 m²</li><li class=\"card_split_vertically__spec\">2 Quartos</li><li class=\"card_split_vertically__spec\">1 Suíte</li><li class=\"card_split_vertically__spec\">1 Banheiro</li><li class=\"card_split_vertically__spec\">1 Vaga</li></ul></div><div class=\"card_split_vertically__footer\"><div class=\"card_split_vertically__value-container\"><p class=\"card_split_vertically__value-title\">Venda</p><p class=\"card_split_vertically__value\">R$ 786.433,15</p></div></div></div>"
      ]
     },
     "execution_count": 115,
     "metadata": {},
     "output_type": "execute_result"
    }
   ],
   "source": [
    "tabela = []\n",
    "for dados in html_list:\n",
    "    for cont in range(len(dados[0])):\n",
    "        tabela.append(dados[0][cont])\n",
    "tabela[0]"
   ]
  },
  {
   "attachments": {},
   "cell_type": "markdown",
   "metadata": {},
   "source": [
    "#### Coletando os textos de dentro das TAGS"
   ]
  },
  {
   "cell_type": "code",
   "execution_count": 116,
   "metadata": {},
   "outputs": [
    {
     "data": {
      "text/plain": [
       "[['Apartamento',\n",
       "  'Nações - Balneário Camboriú - SC',\n",
       "  '64.91 m²',\n",
       "  '2 Quartos',\n",
       "  '1 Suíte',\n",
       "  '1 Banheiro',\n",
       "  '1 Vaga',\n",
       "  'Venda',\n",
       "  'R$ 786.433,15'],\n",
       " ['Apartamento',\n",
       "  'Nações - Balneário Camboriú - SC',\n",
       "  '98.83 m²',\n",
       "  '2 Quartos',\n",
       "  '2 Suítes',\n",
       "  '1 Banheiro',\n",
       "  '1 Vaga',\n",
       "  'Venda',\n",
       "  'R$ 907.063,86'],\n",
       " ['Apartamento',\n",
       "  'Praia Brava - Itajaí - SC',\n",
       "  '121.22 m²',\n",
       "  '3 Quartos',\n",
       "  '1 Suíte',\n",
       "  '1 Banheiro',\n",
       "  '2 Vagas',\n",
       "  'Venda',\n",
       "  'R$ 1.568.373,98']]"
      ]
     },
     "execution_count": 116,
     "metadata": {},
     "output_type": "execute_result"
    }
   ],
   "source": [
    "new_table = []\n",
    "for i in tabela:\n",
    "    new_list = []\n",
    "    new_list.append(i.find('p', {'class': 'card_split_vertically__type'}).text) # Tipo do imóvel\n",
    "    new_list.append(i.find('h3', {'class': 'card_split_vertically__location'}).text) # Endereço\n",
    "    li=i.find_all('li', {'class': 'card_split_vertically__spec'}) # m2, Quartos, Suítes e Vagas\n",
    "    for l in range(len(li)):\n",
    "        new_list.append(li[l].text) # m2, Quartos, Suítes e Vagas\n",
    "    new_list.append(i.find('p', {'class':'card_split_vertically__value-title'}).text) # Tipo de tramite\n",
    "    new_list.append(i.find('p', {'class':'card_split_vertically__value'}).text)\n",
    "    new_table.append(new_list)  \n",
    "new_table[:3]  "
   ]
  },
  {
   "cell_type": "markdown",
   "metadata": {},
   "source": [
    "#### Criando o DataFrame"
   ]
  },
  {
   "cell_type": "code",
   "execution_count": 117,
   "metadata": {},
   "outputs": [
    {
     "data": {
      "text/html": [
       "<div>\n",
       "<style scoped>\n",
       "    .dataframe tbody tr th:only-of-type {\n",
       "        vertical-align: middle;\n",
       "    }\n",
       "\n",
       "    .dataframe tbody tr th {\n",
       "        vertical-align: top;\n",
       "    }\n",
       "\n",
       "    .dataframe thead th {\n",
       "        text-align: right;\n",
       "    }\n",
       "</style>\n",
       "<table border=\"1\" class=\"dataframe\">\n",
       "  <thead>\n",
       "    <tr style=\"text-align: right;\">\n",
       "      <th></th>\n",
       "      <th>0</th>\n",
       "      <th>1</th>\n",
       "      <th>2</th>\n",
       "      <th>3</th>\n",
       "      <th>4</th>\n",
       "      <th>5</th>\n",
       "      <th>6</th>\n",
       "      <th>7</th>\n",
       "      <th>8</th>\n",
       "    </tr>\n",
       "  </thead>\n",
       "  <tbody>\n",
       "    <tr>\n",
       "      <th>0</th>\n",
       "      <td>Apartamento</td>\n",
       "      <td>Nações - Balneário Camboriú - SC</td>\n",
       "      <td>64.91 m²</td>\n",
       "      <td>2 Quartos</td>\n",
       "      <td>1 Suíte</td>\n",
       "      <td>1 Banheiro</td>\n",
       "      <td>1 Vaga</td>\n",
       "      <td>Venda</td>\n",
       "      <td>R$ 786.433,15</td>\n",
       "    </tr>\n",
       "    <tr>\n",
       "      <th>1</th>\n",
       "      <td>Apartamento</td>\n",
       "      <td>Nações - Balneário Camboriú - SC</td>\n",
       "      <td>98.83 m²</td>\n",
       "      <td>2 Quartos</td>\n",
       "      <td>2 Suítes</td>\n",
       "      <td>1 Banheiro</td>\n",
       "      <td>1 Vaga</td>\n",
       "      <td>Venda</td>\n",
       "      <td>R$ 907.063,86</td>\n",
       "    </tr>\n",
       "    <tr>\n",
       "      <th>2</th>\n",
       "      <td>Apartamento</td>\n",
       "      <td>Praia Brava - Itajaí - SC</td>\n",
       "      <td>121.22 m²</td>\n",
       "      <td>3 Quartos</td>\n",
       "      <td>1 Suíte</td>\n",
       "      <td>1 Banheiro</td>\n",
       "      <td>2 Vagas</td>\n",
       "      <td>Venda</td>\n",
       "      <td>R$ 1.568.373,98</td>\n",
       "    </tr>\n",
       "    <tr>\n",
       "      <th>3</th>\n",
       "      <td>Apartamento</td>\n",
       "      <td>Praia Brava - Itajaí - SC</td>\n",
       "      <td>93.92 m²</td>\n",
       "      <td>2 Quartos</td>\n",
       "      <td>2 Suítes</td>\n",
       "      <td>1 Banheiro</td>\n",
       "      <td>1 Vaga</td>\n",
       "      <td>Venda</td>\n",
       "      <td>R$ 1.139.371,54</td>\n",
       "    </tr>\n",
       "    <tr>\n",
       "      <th>4</th>\n",
       "      <td>Apartamento</td>\n",
       "      <td>Nações - Balneário Camboriú - SC</td>\n",
       "      <td>62.4 m²</td>\n",
       "      <td>2 Quartos</td>\n",
       "      <td>1 Suíte</td>\n",
       "      <td>1 Banheiro</td>\n",
       "      <td>1 Vaga</td>\n",
       "      <td>Venda</td>\n",
       "      <td>R$ 735.743,13</td>\n",
       "    </tr>\n",
       "    <tr>\n",
       "      <th>5</th>\n",
       "      <td>Apartamento</td>\n",
       "      <td>Praia Brava - Itajaí - SC</td>\n",
       "      <td>93.92 m²</td>\n",
       "      <td>2 Quartos</td>\n",
       "      <td>2 Suítes</td>\n",
       "      <td>1 Banheiro</td>\n",
       "      <td>1 Vaga</td>\n",
       "      <td>Venda</td>\n",
       "      <td>R$ 1.251.281,64</td>\n",
       "    </tr>\n",
       "    <tr>\n",
       "      <th>6</th>\n",
       "      <td>Apartamento</td>\n",
       "      <td>Praia Brava - Itajaí - SC</td>\n",
       "      <td>121.22 m²</td>\n",
       "      <td>3 Quartos</td>\n",
       "      <td>1 Suíte</td>\n",
       "      <td>1 Banheiro</td>\n",
       "      <td>2 Vagas</td>\n",
       "      <td>Venda</td>\n",
       "      <td>R$ 1.549.392,80</td>\n",
       "    </tr>\n",
       "    <tr>\n",
       "      <th>7</th>\n",
       "      <td>Apartamento</td>\n",
       "      <td>Praia Brava - Itajaí - SC</td>\n",
       "      <td>93.92 m²</td>\n",
       "      <td>2 Quartos</td>\n",
       "      <td>2 Suítes</td>\n",
       "      <td>1 Banheiro</td>\n",
       "      <td>1 Vaga</td>\n",
       "      <td>Venda</td>\n",
       "      <td>R$ 1.127.714,23</td>\n",
       "    </tr>\n",
       "    <tr>\n",
       "      <th>8</th>\n",
       "      <td>Sala</td>\n",
       "      <td>Nações - Balneário Camboriú - SC</td>\n",
       "      <td>53.96 m²</td>\n",
       "      <td>1 Banheiro</td>\n",
       "      <td>Venda</td>\n",
       "      <td>R$ 547.118,34</td>\n",
       "      <td>None</td>\n",
       "      <td>None</td>\n",
       "      <td>None</td>\n",
       "    </tr>\n",
       "    <tr>\n",
       "      <th>9</th>\n",
       "      <td>Sala</td>\n",
       "      <td>Nações - Balneário Camboriú - SC</td>\n",
       "      <td>54.93 m²</td>\n",
       "      <td>1 Banheiro</td>\n",
       "      <td>Venda</td>\n",
       "      <td>R$ 558.638,42</td>\n",
       "      <td>None</td>\n",
       "      <td>None</td>\n",
       "      <td>None</td>\n",
       "    </tr>\n",
       "  </tbody>\n",
       "</table>\n",
       "</div>"
      ],
      "text/plain": [
       "             0                                 1          2           3  \\\n",
       "0  Apartamento  Nações - Balneário Camboriú - SC   64.91 m²   2 Quartos   \n",
       "1  Apartamento  Nações - Balneário Camboriú - SC   98.83 m²   2 Quartos   \n",
       "2  Apartamento         Praia Brava - Itajaí - SC  121.22 m²   3 Quartos   \n",
       "3  Apartamento         Praia Brava - Itajaí - SC   93.92 m²   2 Quartos   \n",
       "4  Apartamento  Nações - Balneário Camboriú - SC    62.4 m²   2 Quartos   \n",
       "5  Apartamento         Praia Brava - Itajaí - SC   93.92 m²   2 Quartos   \n",
       "6  Apartamento         Praia Brava - Itajaí - SC  121.22 m²   3 Quartos   \n",
       "7  Apartamento         Praia Brava - Itajaí - SC   93.92 m²   2 Quartos   \n",
       "8         Sala  Nações - Balneário Camboriú - SC   53.96 m²  1 Banheiro   \n",
       "9         Sala  Nações - Balneário Camboriú - SC   54.93 m²  1 Banheiro   \n",
       "\n",
       "          4              5        6      7                8  \n",
       "0   1 Suíte     1 Banheiro   1 Vaga  Venda    R$ 786.433,15  \n",
       "1  2 Suítes     1 Banheiro   1 Vaga  Venda    R$ 907.063,86  \n",
       "2   1 Suíte     1 Banheiro  2 Vagas  Venda  R$ 1.568.373,98  \n",
       "3  2 Suítes     1 Banheiro   1 Vaga  Venda  R$ 1.139.371,54  \n",
       "4   1 Suíte     1 Banheiro   1 Vaga  Venda    R$ 735.743,13  \n",
       "5  2 Suítes     1 Banheiro   1 Vaga  Venda  R$ 1.251.281,64  \n",
       "6   1 Suíte     1 Banheiro  2 Vagas  Venda  R$ 1.549.392,80  \n",
       "7  2 Suítes     1 Banheiro   1 Vaga  Venda  R$ 1.127.714,23  \n",
       "8     Venda  R$ 547.118,34     None   None             None  \n",
       "9     Venda  R$ 558.638,42     None   None             None  "
      ]
     },
     "execution_count": 117,
     "metadata": {},
     "output_type": "execute_result"
    }
   ],
   "source": [
    "df = pd.DataFrame(new_table)\n",
    "df.head(10)"
   ]
  },
  {
   "attachments": {},
   "cell_type": "markdown",
   "metadata": {},
   "source": [
    "#### Verificando o tamanho do DF"
   ]
  },
  {
   "cell_type": "code",
   "execution_count": 118,
   "metadata": {},
   "outputs": [
    {
     "data": {
      "text/plain": [
       "(614, 9)"
      ]
     },
     "execution_count": 118,
     "metadata": {},
     "output_type": "execute_result"
    }
   ],
   "source": [
    "df.shape"
   ]
  },
  {
   "attachments": {},
   "cell_type": "markdown",
   "metadata": {},
   "source": [
    "#### Analisando as informações iniciais dos dados colhidos"
   ]
  },
  {
   "cell_type": "code",
   "execution_count": 119,
   "metadata": {},
   "outputs": [
    {
     "name": "stdout",
     "output_type": "stream",
     "text": [
      "<class 'pandas.core.frame.DataFrame'>\n",
      "RangeIndex: 614 entries, 0 to 613\n",
      "Data columns (total 9 columns):\n",
      " #   Column  Non-Null Count  Dtype \n",
      "---  ------  --------------  ----- \n",
      " 0   0       614 non-null    object\n",
      " 1   1       614 non-null    object\n",
      " 2   2       614 non-null    object\n",
      " 3   3       614 non-null    object\n",
      " 4   4       614 non-null    object\n",
      " 5   5       608 non-null    object\n",
      " 6   6       570 non-null    object\n",
      " 7   7       539 non-null    object\n",
      " 8   8       495 non-null    object\n",
      "dtypes: object(9)\n",
      "memory usage: 43.3+ KB\n"
     ]
    }
   ],
   "source": [
    "df.info()"
   ]
  },
  {
   "attachments": {},
   "cell_type": "markdown",
   "metadata": {},
   "source": [
    "#### Tratando os valores nulos"
   ]
  },
  {
   "cell_type": "code",
   "execution_count": 120,
   "metadata": {},
   "outputs": [
    {
     "data": {
      "text/plain": [
       "0      0\n",
       "1      0\n",
       "2      0\n",
       "3      0\n",
       "4      0\n",
       "5      6\n",
       "6     44\n",
       "7     75\n",
       "8    119\n",
       "dtype: int64"
      ]
     },
     "execution_count": 120,
     "metadata": {},
     "output_type": "execute_result"
    }
   ],
   "source": [
    "df.isnull().sum()"
   ]
  },
  {
   "attachments": {},
   "cell_type": "markdown",
   "metadata": {},
   "source": [
    "Eliminando os NaN da tabela"
   ]
  },
  {
   "cell_type": "code",
   "execution_count": 121,
   "metadata": {},
   "outputs": [
    {
     "data": {
      "text/plain": [
       "0    0\n",
       "1    0\n",
       "2    0\n",
       "3    0\n",
       "4    0\n",
       "5    0\n",
       "6    0\n",
       "7    0\n",
       "8    0\n",
       "dtype: int64"
      ]
     },
     "execution_count": 121,
     "metadata": {},
     "output_type": "execute_result"
    }
   ],
   "source": [
    "df.dropna(axis=0, inplace=True)\n",
    "df.isnull().sum()"
   ]
  },
  {
   "cell_type": "code",
   "execution_count": 122,
   "metadata": {},
   "outputs": [
    {
     "data": {
      "text/html": [
       "<div>\n",
       "<style scoped>\n",
       "    .dataframe tbody tr th:only-of-type {\n",
       "        vertical-align: middle;\n",
       "    }\n",
       "\n",
       "    .dataframe tbody tr th {\n",
       "        vertical-align: top;\n",
       "    }\n",
       "\n",
       "    .dataframe thead th {\n",
       "        text-align: right;\n",
       "    }\n",
       "</style>\n",
       "<table border=\"1\" class=\"dataframe\">\n",
       "  <thead>\n",
       "    <tr style=\"text-align: right;\">\n",
       "      <th></th>\n",
       "      <th>0</th>\n",
       "      <th>1</th>\n",
       "      <th>2</th>\n",
       "      <th>3</th>\n",
       "      <th>4</th>\n",
       "      <th>5</th>\n",
       "      <th>6</th>\n",
       "      <th>7</th>\n",
       "      <th>8</th>\n",
       "    </tr>\n",
       "  </thead>\n",
       "  <tbody>\n",
       "    <tr>\n",
       "      <th>0</th>\n",
       "      <td>Apartamento</td>\n",
       "      <td>Nações - Balneário Camboriú - SC</td>\n",
       "      <td>64.91 m²</td>\n",
       "      <td>2 Quartos</td>\n",
       "      <td>1 Suíte</td>\n",
       "      <td>1 Banheiro</td>\n",
       "      <td>1 Vaga</td>\n",
       "      <td>Venda</td>\n",
       "      <td>R$ 786.433,15</td>\n",
       "    </tr>\n",
       "    <tr>\n",
       "      <th>1</th>\n",
       "      <td>Apartamento</td>\n",
       "      <td>Nações - Balneário Camboriú - SC</td>\n",
       "      <td>98.83 m²</td>\n",
       "      <td>2 Quartos</td>\n",
       "      <td>2 Suítes</td>\n",
       "      <td>1 Banheiro</td>\n",
       "      <td>1 Vaga</td>\n",
       "      <td>Venda</td>\n",
       "      <td>R$ 907.063,86</td>\n",
       "    </tr>\n",
       "    <tr>\n",
       "      <th>2</th>\n",
       "      <td>Apartamento</td>\n",
       "      <td>Praia Brava - Itajaí - SC</td>\n",
       "      <td>121.22 m²</td>\n",
       "      <td>3 Quartos</td>\n",
       "      <td>1 Suíte</td>\n",
       "      <td>1 Banheiro</td>\n",
       "      <td>2 Vagas</td>\n",
       "      <td>Venda</td>\n",
       "      <td>R$ 1.568.373,98</td>\n",
       "    </tr>\n",
       "    <tr>\n",
       "      <th>3</th>\n",
       "      <td>Apartamento</td>\n",
       "      <td>Praia Brava - Itajaí - SC</td>\n",
       "      <td>93.92 m²</td>\n",
       "      <td>2 Quartos</td>\n",
       "      <td>2 Suítes</td>\n",
       "      <td>1 Banheiro</td>\n",
       "      <td>1 Vaga</td>\n",
       "      <td>Venda</td>\n",
       "      <td>R$ 1.139.371,54</td>\n",
       "    </tr>\n",
       "    <tr>\n",
       "      <th>4</th>\n",
       "      <td>Apartamento</td>\n",
       "      <td>Nações - Balneário Camboriú - SC</td>\n",
       "      <td>62.4 m²</td>\n",
       "      <td>2 Quartos</td>\n",
       "      <td>1 Suíte</td>\n",
       "      <td>1 Banheiro</td>\n",
       "      <td>1 Vaga</td>\n",
       "      <td>Venda</td>\n",
       "      <td>R$ 735.743,13</td>\n",
       "    </tr>\n",
       "  </tbody>\n",
       "</table>\n",
       "</div>"
      ],
      "text/plain": [
       "             0                                 1          2          3  \\\n",
       "0  Apartamento  Nações - Balneário Camboriú - SC   64.91 m²  2 Quartos   \n",
       "1  Apartamento  Nações - Balneário Camboriú - SC   98.83 m²  2 Quartos   \n",
       "2  Apartamento         Praia Brava - Itajaí - SC  121.22 m²  3 Quartos   \n",
       "3  Apartamento         Praia Brava - Itajaí - SC   93.92 m²  2 Quartos   \n",
       "4  Apartamento  Nações - Balneário Camboriú - SC    62.4 m²  2 Quartos   \n",
       "\n",
       "          4           5        6      7                8  \n",
       "0   1 Suíte  1 Banheiro   1 Vaga  Venda    R$ 786.433,15  \n",
       "1  2 Suítes  1 Banheiro   1 Vaga  Venda    R$ 907.063,86  \n",
       "2   1 Suíte  1 Banheiro  2 Vagas  Venda  R$ 1.568.373,98  \n",
       "3  2 Suítes  1 Banheiro   1 Vaga  Venda  R$ 1.139.371,54  \n",
       "4   1 Suíte  1 Banheiro   1 Vaga  Venda    R$ 735.743,13  "
      ]
     },
     "execution_count": 122,
     "metadata": {},
     "output_type": "execute_result"
    }
   ],
   "source": [
    "df.fillna(df, inplace=True)\n",
    "df.head()"
   ]
  },
  {
   "attachments": {},
   "cell_type": "markdown",
   "metadata": {},
   "source": [
    "#### Iniciando o processo de limpeza das Strings "
   ]
  },
  {
   "cell_type": "code",
   "execution_count": 123,
   "metadata": {},
   "outputs": [
    {
     "name": "stderr",
     "output_type": "stream",
     "text": [
      "/tmp/ipykernel_24117/1071970549.py:1: FutureWarning: The default value of regex will change from True to False in a future version.\n",
      "  df[8] = df[8].str.replace('[R$ ]', '')\n"
     ]
    }
   ],
   "source": [
    "df[8] = df[8].str.replace('[R$ ]', '')"
   ]
  },
  {
   "cell_type": "code",
   "execution_count": 124,
   "metadata": {},
   "outputs": [],
   "source": [
    "df[2] = df[2].map(lambda x: x.split()[0])\n",
    "df[3] = df[3].map(lambda x: x.split()[0])\n",
    "df[4] = df[4].map(lambda x: x.split()[0])\n",
    "df[5] = df[5].map(lambda x: x.split()[0])\n",
    "df[6] = df[6].map(lambda x: x.split()[0])"
   ]
  },
  {
   "cell_type": "code",
   "execution_count": 125,
   "metadata": {},
   "outputs": [
    {
     "data": {
      "text/html": [
       "<div>\n",
       "<style scoped>\n",
       "    .dataframe tbody tr th:only-of-type {\n",
       "        vertical-align: middle;\n",
       "    }\n",
       "\n",
       "    .dataframe tbody tr th {\n",
       "        vertical-align: top;\n",
       "    }\n",
       "\n",
       "    .dataframe thead th {\n",
       "        text-align: right;\n",
       "    }\n",
       "</style>\n",
       "<table border=\"1\" class=\"dataframe\">\n",
       "  <thead>\n",
       "    <tr style=\"text-align: right;\">\n",
       "      <th></th>\n",
       "      <th>0</th>\n",
       "      <th>2</th>\n",
       "      <th>3</th>\n",
       "      <th>4</th>\n",
       "      <th>5</th>\n",
       "      <th>6</th>\n",
       "      <th>7</th>\n",
       "      <th>8</th>\n",
       "      <th>bairro</th>\n",
       "      <th>cidade</th>\n",
       "      <th>estado</th>\n",
       "    </tr>\n",
       "  </thead>\n",
       "  <tbody>\n",
       "    <tr>\n",
       "      <th>0</th>\n",
       "      <td>Apartamento</td>\n",
       "      <td>64.91</td>\n",
       "      <td>2</td>\n",
       "      <td>1</td>\n",
       "      <td>1</td>\n",
       "      <td>1</td>\n",
       "      <td>Venda</td>\n",
       "      <td>786.433,15</td>\n",
       "      <td>Nações</td>\n",
       "      <td>Balneário Camboriú</td>\n",
       "      <td>SC</td>\n",
       "    </tr>\n",
       "    <tr>\n",
       "      <th>1</th>\n",
       "      <td>Apartamento</td>\n",
       "      <td>98.83</td>\n",
       "      <td>2</td>\n",
       "      <td>2</td>\n",
       "      <td>1</td>\n",
       "      <td>1</td>\n",
       "      <td>Venda</td>\n",
       "      <td>907.063,86</td>\n",
       "      <td>Nações</td>\n",
       "      <td>Balneário Camboriú</td>\n",
       "      <td>SC</td>\n",
       "    </tr>\n",
       "    <tr>\n",
       "      <th>2</th>\n",
       "      <td>Apartamento</td>\n",
       "      <td>121.22</td>\n",
       "      <td>3</td>\n",
       "      <td>1</td>\n",
       "      <td>1</td>\n",
       "      <td>2</td>\n",
       "      <td>Venda</td>\n",
       "      <td>1.568.373,98</td>\n",
       "      <td>Praia Brava</td>\n",
       "      <td>Itajaí</td>\n",
       "      <td>SC</td>\n",
       "    </tr>\n",
       "    <tr>\n",
       "      <th>3</th>\n",
       "      <td>Apartamento</td>\n",
       "      <td>93.92</td>\n",
       "      <td>2</td>\n",
       "      <td>2</td>\n",
       "      <td>1</td>\n",
       "      <td>1</td>\n",
       "      <td>Venda</td>\n",
       "      <td>1.139.371,54</td>\n",
       "      <td>Praia Brava</td>\n",
       "      <td>Itajaí</td>\n",
       "      <td>SC</td>\n",
       "    </tr>\n",
       "    <tr>\n",
       "      <th>4</th>\n",
       "      <td>Apartamento</td>\n",
       "      <td>62.4</td>\n",
       "      <td>2</td>\n",
       "      <td>1</td>\n",
       "      <td>1</td>\n",
       "      <td>1</td>\n",
       "      <td>Venda</td>\n",
       "      <td>735.743,13</td>\n",
       "      <td>Nações</td>\n",
       "      <td>Balneário Camboriú</td>\n",
       "      <td>SC</td>\n",
       "    </tr>\n",
       "  </tbody>\n",
       "</table>\n",
       "</div>"
      ],
      "text/plain": [
       "             0       2  3  4  5  6      7             8        bairro  \\\n",
       "0  Apartamento   64.91  2  1  1  1  Venda    786.433,15       Nações    \n",
       "1  Apartamento   98.83  2  2  1  1  Venda    907.063,86       Nações    \n",
       "2  Apartamento  121.22  3  1  1  2  Venda  1.568.373,98  Praia Brava    \n",
       "3  Apartamento   93.92  2  2  1  1  Venda  1.139.371,54  Praia Brava    \n",
       "4  Apartamento    62.4  2  1  1  1  Venda    735.743,13       Nações    \n",
       "\n",
       "                 cidade estado  \n",
       "0   Balneário Camboriú      SC  \n",
       "1   Balneário Camboriú      SC  \n",
       "2               Itajaí      SC  \n",
       "3               Itajaí      SC  \n",
       "4   Balneário Camboriú      SC  "
      ]
     },
     "execution_count": 125,
     "metadata": {},
     "output_type": "execute_result"
    }
   ],
   "source": [
    "new = df[1].str.split('-', expand=True)\n",
    "df['bairro'] = new[0]\n",
    "df['cidade'] = new[1]\n",
    "df['estado'] = new[2]\n",
    "df.drop(columns=[1], inplace=True)\n",
    "df.head()"
   ]
  },
  {
   "attachments": {},
   "cell_type": "markdown",
   "metadata": {},
   "source": [
    "#### A coluna 7 refere-se ao contem valores do tipo de tranzação (vendas). Como todos tem o mesmo valor não precisamos desses dados, não terão peso em nossa analise."
   ]
  },
  {
   "cell_type": "code",
   "execution_count": 126,
   "metadata": {},
   "outputs": [],
   "source": [
    "df.drop(columns=[7], inplace=True)"
   ]
  },
  {
   "attachments": {},
   "cell_type": "markdown",
   "metadata": {},
   "source": [
    "#### Renomeando as colunas para facilitar o entendimento"
   ]
  },
  {
   "cell_type": "code",
   "execution_count": 127,
   "metadata": {},
   "outputs": [],
   "source": [
    "df.rename(columns={0:'tipo_imovel', 2:'m2', 3:'quartos', 4:'suites', 5:'banheiros', 6:'vagas', 8:'preco'}, inplace=True)"
   ]
  },
  {
   "attachments": {},
   "cell_type": "markdown",
   "metadata": {},
   "source": [
    "#### Reorganizando a ordem das colunas para melhor assimilação"
   ]
  },
  {
   "cell_type": "code",
   "execution_count": 128,
   "metadata": {},
   "outputs": [
    {
     "data": {
      "text/html": [
       "<div>\n",
       "<style scoped>\n",
       "    .dataframe tbody tr th:only-of-type {\n",
       "        vertical-align: middle;\n",
       "    }\n",
       "\n",
       "    .dataframe tbody tr th {\n",
       "        vertical-align: top;\n",
       "    }\n",
       "\n",
       "    .dataframe thead th {\n",
       "        text-align: right;\n",
       "    }\n",
       "</style>\n",
       "<table border=\"1\" class=\"dataframe\">\n",
       "  <thead>\n",
       "    <tr style=\"text-align: right;\">\n",
       "      <th></th>\n",
       "      <th>cidade</th>\n",
       "      <th>bairro</th>\n",
       "      <th>estado</th>\n",
       "      <th>tipo_imovel</th>\n",
       "      <th>m2</th>\n",
       "      <th>quartos</th>\n",
       "      <th>suites</th>\n",
       "      <th>banheiros</th>\n",
       "      <th>vagas</th>\n",
       "      <th>preco</th>\n",
       "    </tr>\n",
       "  </thead>\n",
       "  <tbody>\n",
       "    <tr>\n",
       "      <th>0</th>\n",
       "      <td>Balneário Camboriú</td>\n",
       "      <td>Nações</td>\n",
       "      <td>SC</td>\n",
       "      <td>Apartamento</td>\n",
       "      <td>64.91</td>\n",
       "      <td>2</td>\n",
       "      <td>1</td>\n",
       "      <td>1</td>\n",
       "      <td>1</td>\n",
       "      <td>786.433,15</td>\n",
       "    </tr>\n",
       "    <tr>\n",
       "      <th>1</th>\n",
       "      <td>Balneário Camboriú</td>\n",
       "      <td>Nações</td>\n",
       "      <td>SC</td>\n",
       "      <td>Apartamento</td>\n",
       "      <td>98.83</td>\n",
       "      <td>2</td>\n",
       "      <td>2</td>\n",
       "      <td>1</td>\n",
       "      <td>1</td>\n",
       "      <td>907.063,86</td>\n",
       "    </tr>\n",
       "    <tr>\n",
       "      <th>2</th>\n",
       "      <td>Itajaí</td>\n",
       "      <td>Praia Brava</td>\n",
       "      <td>SC</td>\n",
       "      <td>Apartamento</td>\n",
       "      <td>121.22</td>\n",
       "      <td>3</td>\n",
       "      <td>1</td>\n",
       "      <td>1</td>\n",
       "      <td>2</td>\n",
       "      <td>1.568.373,98</td>\n",
       "    </tr>\n",
       "    <tr>\n",
       "      <th>3</th>\n",
       "      <td>Itajaí</td>\n",
       "      <td>Praia Brava</td>\n",
       "      <td>SC</td>\n",
       "      <td>Apartamento</td>\n",
       "      <td>93.92</td>\n",
       "      <td>2</td>\n",
       "      <td>2</td>\n",
       "      <td>1</td>\n",
       "      <td>1</td>\n",
       "      <td>1.139.371,54</td>\n",
       "    </tr>\n",
       "    <tr>\n",
       "      <th>4</th>\n",
       "      <td>Balneário Camboriú</td>\n",
       "      <td>Nações</td>\n",
       "      <td>SC</td>\n",
       "      <td>Apartamento</td>\n",
       "      <td>62.4</td>\n",
       "      <td>2</td>\n",
       "      <td>1</td>\n",
       "      <td>1</td>\n",
       "      <td>1</td>\n",
       "      <td>735.743,13</td>\n",
       "    </tr>\n",
       "  </tbody>\n",
       "</table>\n",
       "</div>"
      ],
      "text/plain": [
       "                 cidade        bairro estado  tipo_imovel      m2 quartos  \\\n",
       "0   Balneário Camboriú        Nações      SC  Apartamento   64.91       2   \n",
       "1   Balneário Camboriú        Nações      SC  Apartamento   98.83       2   \n",
       "2               Itajaí   Praia Brava      SC  Apartamento  121.22       3   \n",
       "3               Itajaí   Praia Brava      SC  Apartamento   93.92       2   \n",
       "4   Balneário Camboriú        Nações      SC  Apartamento    62.4       2   \n",
       "\n",
       "  suites banheiros vagas         preco  \n",
       "0      1         1     1    786.433,15  \n",
       "1      2         1     1    907.063,86  \n",
       "2      1         1     2  1.568.373,98  \n",
       "3      2         1     1  1.139.371,54  \n",
       "4      1         1     1    735.743,13  "
      ]
     },
     "execution_count": 128,
     "metadata": {},
     "output_type": "execute_result"
    }
   ],
   "source": [
    "df = df[['cidade', 'bairro', 'estado', 'tipo_imovel', 'm2', 'quartos', 'suites', 'banheiros', 'vagas', 'preco']]\n",
    "df.head()"
   ]
  },
  {
   "attachments": {},
   "cell_type": "markdown",
   "metadata": {},
   "source": [
    "#### Convertendo as colunas de valores numéricos para int e float de acordo com seus critérios"
   ]
  },
  {
   "cell_type": "code",
   "execution_count": 130,
   "metadata": {},
   "outputs": [],
   "source": [
    "df['m2'] = df['m2'].map(lambda x: float(x))\n",
    "df['quartos'] = df['quartos'].map(lambda x: int(x))\n",
    "df['suites'] = df['suites'].map(lambda x: int(x))\n",
    "df['banheiros'] = df['banheiros'].map(lambda x: int(x))\n",
    "df['vagas'] = df['vagas'].map(lambda x: int(x))"
   ]
  },
  {
   "cell_type": "code",
   "execution_count": 131,
   "metadata": {},
   "outputs": [
    {
     "data": {
      "text/html": [
       "<div>\n",
       "<style scoped>\n",
       "    .dataframe tbody tr th:only-of-type {\n",
       "        vertical-align: middle;\n",
       "    }\n",
       "\n",
       "    .dataframe tbody tr th {\n",
       "        vertical-align: top;\n",
       "    }\n",
       "\n",
       "    .dataframe thead th {\n",
       "        text-align: right;\n",
       "    }\n",
       "</style>\n",
       "<table border=\"1\" class=\"dataframe\">\n",
       "  <thead>\n",
       "    <tr style=\"text-align: right;\">\n",
       "      <th></th>\n",
       "      <th>cidade</th>\n",
       "      <th>bairro</th>\n",
       "      <th>estado</th>\n",
       "      <th>tipo_imovel</th>\n",
       "      <th>m2</th>\n",
       "      <th>quartos</th>\n",
       "      <th>suites</th>\n",
       "      <th>banheiros</th>\n",
       "      <th>vagas</th>\n",
       "      <th>preco</th>\n",
       "    </tr>\n",
       "  </thead>\n",
       "  <tbody>\n",
       "    <tr>\n",
       "      <th>0</th>\n",
       "      <td>Balneário Camboriú</td>\n",
       "      <td>Nações</td>\n",
       "      <td>SC</td>\n",
       "      <td>Apartamento</td>\n",
       "      <td>64.91</td>\n",
       "      <td>2</td>\n",
       "      <td>1</td>\n",
       "      <td>1</td>\n",
       "      <td>1</td>\n",
       "      <td>786.433,15</td>\n",
       "    </tr>\n",
       "    <tr>\n",
       "      <th>1</th>\n",
       "      <td>Balneário Camboriú</td>\n",
       "      <td>Nações</td>\n",
       "      <td>SC</td>\n",
       "      <td>Apartamento</td>\n",
       "      <td>98.83</td>\n",
       "      <td>2</td>\n",
       "      <td>2</td>\n",
       "      <td>1</td>\n",
       "      <td>1</td>\n",
       "      <td>907.063,86</td>\n",
       "    </tr>\n",
       "    <tr>\n",
       "      <th>2</th>\n",
       "      <td>Itajaí</td>\n",
       "      <td>Praia Brava</td>\n",
       "      <td>SC</td>\n",
       "      <td>Apartamento</td>\n",
       "      <td>121.22</td>\n",
       "      <td>3</td>\n",
       "      <td>1</td>\n",
       "      <td>1</td>\n",
       "      <td>2</td>\n",
       "      <td>1.568.373,98</td>\n",
       "    </tr>\n",
       "    <tr>\n",
       "      <th>3</th>\n",
       "      <td>Itajaí</td>\n",
       "      <td>Praia Brava</td>\n",
       "      <td>SC</td>\n",
       "      <td>Apartamento</td>\n",
       "      <td>93.92</td>\n",
       "      <td>2</td>\n",
       "      <td>2</td>\n",
       "      <td>1</td>\n",
       "      <td>1</td>\n",
       "      <td>1.139.371,54</td>\n",
       "    </tr>\n",
       "    <tr>\n",
       "      <th>4</th>\n",
       "      <td>Balneário Camboriú</td>\n",
       "      <td>Nações</td>\n",
       "      <td>SC</td>\n",
       "      <td>Apartamento</td>\n",
       "      <td>62.40</td>\n",
       "      <td>2</td>\n",
       "      <td>1</td>\n",
       "      <td>1</td>\n",
       "      <td>1</td>\n",
       "      <td>735.743,13</td>\n",
       "    </tr>\n",
       "  </tbody>\n",
       "</table>\n",
       "</div>"
      ],
      "text/plain": [
       "                 cidade        bairro estado  tipo_imovel      m2  quartos  \\\n",
       "0   Balneário Camboriú        Nações      SC  Apartamento   64.91        2   \n",
       "1   Balneário Camboriú        Nações      SC  Apartamento   98.83        2   \n",
       "2               Itajaí   Praia Brava      SC  Apartamento  121.22        3   \n",
       "3               Itajaí   Praia Brava      SC  Apartamento   93.92        2   \n",
       "4   Balneário Camboriú        Nações      SC  Apartamento   62.40        2   \n",
       "\n",
       "   suites  banheiros  vagas         preco  \n",
       "0       1          1      1    786.433,15  \n",
       "1       2          1      1    907.063,86  \n",
       "2       1          1      2  1.568.373,98  \n",
       "3       2          1      1  1.139.371,54  \n",
       "4       1          1      1    735.743,13  "
      ]
     },
     "execution_count": 131,
     "metadata": {},
     "output_type": "execute_result"
    }
   ],
   "source": [
    "df.head()"
   ]
  },
  {
   "attachments": {},
   "cell_type": "markdown",
   "metadata": {},
   "source": [
    "#### Limpando os dados da coluna \"preco\" pois nela encontram-se strings que impossibilitam a conversão para float."
   ]
  },
  {
   "cell_type": "code",
   "execution_count": 132,
   "metadata": {},
   "outputs": [
    {
     "name": "stderr",
     "output_type": "stream",
     "text": [
      "/tmp/ipykernel_24117/7449221.py:1: FutureWarning: The default value of regex will change from True to False in a future version.\n",
      "  df['preco'] = df['preco'].str.replace('[ .]', '')\n",
      "/tmp/ipykernel_24117/7449221.py:2: FutureWarning: The default value of regex will change from True to False in a future version.\n",
      "  df['preco'] = df['preco'].str.replace('[,]', '.')\n"
     ]
    }
   ],
   "source": [
    "df['preco'] = df['preco'].str.replace('[ .]', '')\n",
    "df['preco'] = df['preco'].str.replace('[,]', '.')\n",
    "df['preco'] = df['preco'].str.replace('Vendasobconsulta', '0')\n"
   ]
  },
  {
   "cell_type": "code",
   "execution_count": 133,
   "metadata": {},
   "outputs": [
    {
     "data": {
      "text/html": [
       "<div>\n",
       "<style scoped>\n",
       "    .dataframe tbody tr th:only-of-type {\n",
       "        vertical-align: middle;\n",
       "    }\n",
       "\n",
       "    .dataframe tbody tr th {\n",
       "        vertical-align: top;\n",
       "    }\n",
       "\n",
       "    .dataframe thead th {\n",
       "        text-align: right;\n",
       "    }\n",
       "</style>\n",
       "<table border=\"1\" class=\"dataframe\">\n",
       "  <thead>\n",
       "    <tr style=\"text-align: right;\">\n",
       "      <th></th>\n",
       "      <th>cidade</th>\n",
       "      <th>bairro</th>\n",
       "      <th>estado</th>\n",
       "      <th>tipo_imovel</th>\n",
       "      <th>m2</th>\n",
       "      <th>quartos</th>\n",
       "      <th>suites</th>\n",
       "      <th>banheiros</th>\n",
       "      <th>vagas</th>\n",
       "      <th>preco</th>\n",
       "    </tr>\n",
       "  </thead>\n",
       "  <tbody>\n",
       "    <tr>\n",
       "      <th>0</th>\n",
       "      <td>Balneário Camboriú</td>\n",
       "      <td>Nações</td>\n",
       "      <td>SC</td>\n",
       "      <td>Apartamento</td>\n",
       "      <td>64.91</td>\n",
       "      <td>2</td>\n",
       "      <td>1</td>\n",
       "      <td>1</td>\n",
       "      <td>1</td>\n",
       "      <td>786433.15</td>\n",
       "    </tr>\n",
       "    <tr>\n",
       "      <th>1</th>\n",
       "      <td>Balneário Camboriú</td>\n",
       "      <td>Nações</td>\n",
       "      <td>SC</td>\n",
       "      <td>Apartamento</td>\n",
       "      <td>98.83</td>\n",
       "      <td>2</td>\n",
       "      <td>2</td>\n",
       "      <td>1</td>\n",
       "      <td>1</td>\n",
       "      <td>907063.86</td>\n",
       "    </tr>\n",
       "    <tr>\n",
       "      <th>2</th>\n",
       "      <td>Itajaí</td>\n",
       "      <td>Praia Brava</td>\n",
       "      <td>SC</td>\n",
       "      <td>Apartamento</td>\n",
       "      <td>121.22</td>\n",
       "      <td>3</td>\n",
       "      <td>1</td>\n",
       "      <td>1</td>\n",
       "      <td>2</td>\n",
       "      <td>1568373.98</td>\n",
       "    </tr>\n",
       "    <tr>\n",
       "      <th>3</th>\n",
       "      <td>Itajaí</td>\n",
       "      <td>Praia Brava</td>\n",
       "      <td>SC</td>\n",
       "      <td>Apartamento</td>\n",
       "      <td>93.92</td>\n",
       "      <td>2</td>\n",
       "      <td>2</td>\n",
       "      <td>1</td>\n",
       "      <td>1</td>\n",
       "      <td>1139371.54</td>\n",
       "    </tr>\n",
       "    <tr>\n",
       "      <th>4</th>\n",
       "      <td>Balneário Camboriú</td>\n",
       "      <td>Nações</td>\n",
       "      <td>SC</td>\n",
       "      <td>Apartamento</td>\n",
       "      <td>62.40</td>\n",
       "      <td>2</td>\n",
       "      <td>1</td>\n",
       "      <td>1</td>\n",
       "      <td>1</td>\n",
       "      <td>735743.13</td>\n",
       "    </tr>\n",
       "  </tbody>\n",
       "</table>\n",
       "</div>"
      ],
      "text/plain": [
       "                 cidade        bairro estado  tipo_imovel      m2  quartos  \\\n",
       "0   Balneário Camboriú        Nações      SC  Apartamento   64.91        2   \n",
       "1   Balneário Camboriú        Nações      SC  Apartamento   98.83        2   \n",
       "2               Itajaí   Praia Brava      SC  Apartamento  121.22        3   \n",
       "3               Itajaí   Praia Brava      SC  Apartamento   93.92        2   \n",
       "4   Balneário Camboriú        Nações      SC  Apartamento   62.40        2   \n",
       "\n",
       "   suites  banheiros  vagas       preco  \n",
       "0       1          1      1   786433.15  \n",
       "1       2          1      1   907063.86  \n",
       "2       1          1      2  1568373.98  \n",
       "3       2          1      1  1139371.54  \n",
       "4       1          1      1   735743.13  "
      ]
     },
     "execution_count": 133,
     "metadata": {},
     "output_type": "execute_result"
    }
   ],
   "source": [
    "df.head()"
   ]
  },
  {
   "cell_type": "code",
   "execution_count": 134,
   "metadata": {},
   "outputs": [],
   "source": [
    "df['preco'] = df['preco'].map(lambda x: float(x))"
   ]
  },
  {
   "cell_type": "code",
   "execution_count": 135,
   "metadata": {},
   "outputs": [
    {
     "data": {
      "text/html": [
       "<div>\n",
       "<style scoped>\n",
       "    .dataframe tbody tr th:only-of-type {\n",
       "        vertical-align: middle;\n",
       "    }\n",
       "\n",
       "    .dataframe tbody tr th {\n",
       "        vertical-align: top;\n",
       "    }\n",
       "\n",
       "    .dataframe thead th {\n",
       "        text-align: right;\n",
       "    }\n",
       "</style>\n",
       "<table border=\"1\" class=\"dataframe\">\n",
       "  <thead>\n",
       "    <tr style=\"text-align: right;\">\n",
       "      <th></th>\n",
       "      <th>cidade</th>\n",
       "      <th>bairro</th>\n",
       "      <th>estado</th>\n",
       "      <th>tipo_imovel</th>\n",
       "      <th>m2</th>\n",
       "      <th>quartos</th>\n",
       "      <th>suites</th>\n",
       "      <th>banheiros</th>\n",
       "      <th>vagas</th>\n",
       "      <th>preco</th>\n",
       "    </tr>\n",
       "  </thead>\n",
       "  <tbody>\n",
       "    <tr>\n",
       "      <th>0</th>\n",
       "      <td>Balneário Camboriú</td>\n",
       "      <td>Nações</td>\n",
       "      <td>SC</td>\n",
       "      <td>Apartamento</td>\n",
       "      <td>64.91</td>\n",
       "      <td>2</td>\n",
       "      <td>1</td>\n",
       "      <td>1</td>\n",
       "      <td>1</td>\n",
       "      <td>786433.15</td>\n",
       "    </tr>\n",
       "    <tr>\n",
       "      <th>1</th>\n",
       "      <td>Balneário Camboriú</td>\n",
       "      <td>Nações</td>\n",
       "      <td>SC</td>\n",
       "      <td>Apartamento</td>\n",
       "      <td>98.83</td>\n",
       "      <td>2</td>\n",
       "      <td>2</td>\n",
       "      <td>1</td>\n",
       "      <td>1</td>\n",
       "      <td>907063.86</td>\n",
       "    </tr>\n",
       "    <tr>\n",
       "      <th>2</th>\n",
       "      <td>Itajaí</td>\n",
       "      <td>Praia Brava</td>\n",
       "      <td>SC</td>\n",
       "      <td>Apartamento</td>\n",
       "      <td>121.22</td>\n",
       "      <td>3</td>\n",
       "      <td>1</td>\n",
       "      <td>1</td>\n",
       "      <td>2</td>\n",
       "      <td>1568373.98</td>\n",
       "    </tr>\n",
       "    <tr>\n",
       "      <th>3</th>\n",
       "      <td>Itajaí</td>\n",
       "      <td>Praia Brava</td>\n",
       "      <td>SC</td>\n",
       "      <td>Apartamento</td>\n",
       "      <td>93.92</td>\n",
       "      <td>2</td>\n",
       "      <td>2</td>\n",
       "      <td>1</td>\n",
       "      <td>1</td>\n",
       "      <td>1139371.54</td>\n",
       "    </tr>\n",
       "    <tr>\n",
       "      <th>4</th>\n",
       "      <td>Balneário Camboriú</td>\n",
       "      <td>Nações</td>\n",
       "      <td>SC</td>\n",
       "      <td>Apartamento</td>\n",
       "      <td>62.40</td>\n",
       "      <td>2</td>\n",
       "      <td>1</td>\n",
       "      <td>1</td>\n",
       "      <td>1</td>\n",
       "      <td>735743.13</td>\n",
       "    </tr>\n",
       "  </tbody>\n",
       "</table>\n",
       "</div>"
      ],
      "text/plain": [
       "                 cidade        bairro estado  tipo_imovel      m2  quartos  \\\n",
       "0   Balneário Camboriú        Nações      SC  Apartamento   64.91        2   \n",
       "1   Balneário Camboriú        Nações      SC  Apartamento   98.83        2   \n",
       "2               Itajaí   Praia Brava      SC  Apartamento  121.22        3   \n",
       "3               Itajaí   Praia Brava      SC  Apartamento   93.92        2   \n",
       "4   Balneário Camboriú        Nações      SC  Apartamento   62.40        2   \n",
       "\n",
       "   suites  banheiros  vagas       preco  \n",
       "0       1          1      1   786433.15  \n",
       "1       2          1      1   907063.86  \n",
       "2       1          1      2  1568373.98  \n",
       "3       2          1      1  1139371.54  \n",
       "4       1          1      1   735743.13  "
      ]
     },
     "execution_count": 135,
     "metadata": {},
     "output_type": "execute_result"
    }
   ],
   "source": [
    "df.head()"
   ]
  },
  {
   "attachments": {},
   "cell_type": "markdown",
   "metadata": {},
   "source": [
    "#### Verificando a quantia de cidades existentes na tabela"
   ]
  },
  {
   "cell_type": "code",
   "execution_count": 136,
   "metadata": {},
   "outputs": [
    {
     "data": {
      "text/plain": [
       "array([' Balneário Camboriú ', ' Itajaí ', ' Camboriú ', ' Itapema '],\n",
       "      dtype=object)"
      ]
     },
     "execution_count": 136,
     "metadata": {},
     "output_type": "execute_result"
    }
   ],
   "source": [
    "df['cidade'].unique()"
   ]
  },
  {
   "attachments": {},
   "cell_type": "markdown",
   "metadata": {},
   "source": [
    "#### Conferindo a conversão dos tipos dos dados"
   ]
  },
  {
   "cell_type": "code",
   "execution_count": 140,
   "metadata": {},
   "outputs": [
    {
     "data": {
      "text/plain": [
       "cidade          object\n",
       "bairro          object\n",
       "estado          object\n",
       "tipo_imovel     object\n",
       "m2             float64\n",
       "quartos          int64\n",
       "suites           int64\n",
       "banheiros        int64\n",
       "vagas            int64\n",
       "preco          float64\n",
       "dtype: object"
      ]
     },
     "execution_count": 140,
     "metadata": {},
     "output_type": "execute_result"
    }
   ],
   "source": [
    "df.dtypes"
   ]
  },
  {
   "attachments": {},
   "cell_type": "markdown",
   "metadata": {},
   "source": [
    "#### Limpeza da Tabela Finalizada"
   ]
  },
  {
   "cell_type": "code",
   "execution_count": 142,
   "metadata": {},
   "outputs": [
    {
     "data": {
      "text/html": [
       "<div>\n",
       "<style scoped>\n",
       "    .dataframe tbody tr th:only-of-type {\n",
       "        vertical-align: middle;\n",
       "    }\n",
       "\n",
       "    .dataframe tbody tr th {\n",
       "        vertical-align: top;\n",
       "    }\n",
       "\n",
       "    .dataframe thead th {\n",
       "        text-align: right;\n",
       "    }\n",
       "</style>\n",
       "<table border=\"1\" class=\"dataframe\">\n",
       "  <thead>\n",
       "    <tr style=\"text-align: right;\">\n",
       "      <th></th>\n",
       "      <th>cidade</th>\n",
       "      <th>bairro</th>\n",
       "      <th>estado</th>\n",
       "      <th>tipo_imovel</th>\n",
       "      <th>m2</th>\n",
       "      <th>quartos</th>\n",
       "      <th>suites</th>\n",
       "      <th>banheiros</th>\n",
       "      <th>vagas</th>\n",
       "      <th>preco</th>\n",
       "    </tr>\n",
       "  </thead>\n",
       "  <tbody>\n",
       "    <tr>\n",
       "      <th>0</th>\n",
       "      <td>Balneário Camboriú</td>\n",
       "      <td>Nações</td>\n",
       "      <td>SC</td>\n",
       "      <td>Apartamento</td>\n",
       "      <td>64.91</td>\n",
       "      <td>2</td>\n",
       "      <td>1</td>\n",
       "      <td>1</td>\n",
       "      <td>1</td>\n",
       "      <td>786433.15</td>\n",
       "    </tr>\n",
       "    <tr>\n",
       "      <th>1</th>\n",
       "      <td>Balneário Camboriú</td>\n",
       "      <td>Nações</td>\n",
       "      <td>SC</td>\n",
       "      <td>Apartamento</td>\n",
       "      <td>98.83</td>\n",
       "      <td>2</td>\n",
       "      <td>2</td>\n",
       "      <td>1</td>\n",
       "      <td>1</td>\n",
       "      <td>907063.86</td>\n",
       "    </tr>\n",
       "    <tr>\n",
       "      <th>2</th>\n",
       "      <td>Itajaí</td>\n",
       "      <td>Praia Brava</td>\n",
       "      <td>SC</td>\n",
       "      <td>Apartamento</td>\n",
       "      <td>121.22</td>\n",
       "      <td>3</td>\n",
       "      <td>1</td>\n",
       "      <td>1</td>\n",
       "      <td>2</td>\n",
       "      <td>1568373.98</td>\n",
       "    </tr>\n",
       "    <tr>\n",
       "      <th>3</th>\n",
       "      <td>Itajaí</td>\n",
       "      <td>Praia Brava</td>\n",
       "      <td>SC</td>\n",
       "      <td>Apartamento</td>\n",
       "      <td>93.92</td>\n",
       "      <td>2</td>\n",
       "      <td>2</td>\n",
       "      <td>1</td>\n",
       "      <td>1</td>\n",
       "      <td>1139371.54</td>\n",
       "    </tr>\n",
       "    <tr>\n",
       "      <th>4</th>\n",
       "      <td>Balneário Camboriú</td>\n",
       "      <td>Nações</td>\n",
       "      <td>SC</td>\n",
       "      <td>Apartamento</td>\n",
       "      <td>62.40</td>\n",
       "      <td>2</td>\n",
       "      <td>1</td>\n",
       "      <td>1</td>\n",
       "      <td>1</td>\n",
       "      <td>735743.13</td>\n",
       "    </tr>\n",
       "  </tbody>\n",
       "</table>\n",
       "</div>"
      ],
      "text/plain": [
       "                 cidade        bairro estado  tipo_imovel      m2  quartos  \\\n",
       "0   Balneário Camboriú        Nações      SC  Apartamento   64.91        2   \n",
       "1   Balneário Camboriú        Nações      SC  Apartamento   98.83        2   \n",
       "2               Itajaí   Praia Brava      SC  Apartamento  121.22        3   \n",
       "3               Itajaí   Praia Brava      SC  Apartamento   93.92        2   \n",
       "4   Balneário Camboriú        Nações      SC  Apartamento   62.40        2   \n",
       "\n",
       "   suites  banheiros  vagas       preco  \n",
       "0       1          1      1   786433.15  \n",
       "1       2          1      1   907063.86  \n",
       "2       1          1      2  1568373.98  \n",
       "3       2          1      1  1139371.54  \n",
       "4       1          1      1   735743.13  "
      ]
     },
     "execution_count": 142,
     "metadata": {},
     "output_type": "execute_result"
    }
   ],
   "source": [
    "df.head()"
   ]
  },
  {
   "attachments": {},
   "cell_type": "markdown",
   "metadata": {},
   "source": [
    "#### Salvando em um arquivo csv"
   ]
  },
  {
   "cell_type": "code",
   "execution_count": 143,
   "metadata": {},
   "outputs": [],
   "source": [
    "df.to_csv('imobiliario.csv')"
   ]
  }
 ],
 "metadata": {
  "kernelspec": {
   "display_name": "Python 3",
   "language": "python",
   "name": "python3"
  },
  "language_info": {
   "codemirror_mode": {
    "name": "ipython",
    "version": 3
   },
   "file_extension": ".py",
   "mimetype": "text/x-python",
   "name": "python",
   "nbconvert_exporter": "python",
   "pygments_lexer": "ipython3",
   "version": "3.10.6"
  },
  "orig_nbformat": 4,
  "vscode": {
   "interpreter": {
    "hash": "916dbcbb3f70747c44a77c7bcd40155683ae19c65e1c03b4aa3499c5328201f1"
   }
  }
 },
 "nbformat": 4,
 "nbformat_minor": 2
}
