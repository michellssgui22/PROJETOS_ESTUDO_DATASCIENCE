{
 "cells": [
  {
   "attachments": {},
   "cell_type": "markdown",
   "metadata": {},
   "source": [
    "# Web Scraping Student\n",
    "## For: Michel Souza Santana\n",
    "> Date start: 01/02/2022\n",
    "\n",
    "* The purpose of this is to record the process of learning the WebScraping technique and make it available to anyone who wants to make use of it for their own development."
   ]
  },
  {
   "attachments": {},
   "cell_type": "markdown",
   "metadata": {},
   "source": [
    "#### Instalando a biblioteca BeautifulSoup"
   ]
  },
  {
   "cell_type": "code",
   "execution_count": 2,
   "metadata": {},
   "outputs": [],
   "source": [
    "# !pip install bs4"
   ]
  },
  {
   "attachments": {},
   "cell_type": "markdown",
   "metadata": {},
   "source": [
    "#### Importando as bibliotecas"
   ]
  },
  {
   "cell_type": "code",
   "execution_count": 38,
   "metadata": {},
   "outputs": [],
   "source": [
    "from bs4 import BeautifulSoup\n",
    "from urllib.request import urlopen, Request\n",
    "import requests\n",
    "import pandas as pd\n",
    "import numpy as np\n",
    "import sqlite3"
   ]
  },
  {
   "attachments": {},
   "cell_type": "markdown",
   "metadata": {},
   "source": [
    "#### Coletando dados on-line via URL"
   ]
  },
  {
   "attachments": {},
   "cell_type": "markdown",
   "metadata": {},
   "source": [
    "> Fontes dos dados coletados\n",
    "* https://www.adimimoveis.com.br/imoveis/a-venda "
   ]
  },
  {
   "attachments": {},
   "cell_type": "markdown",
   "metadata": {},
   "source": [
    "##### OBS: A parte final desse código salva todo conteúdo em um arquivo html, assim sendo não será necessário rodar esse código a cada vêz para carregar os dados pois este será carregado a partirdo arquivo salvo polpando tempo em casos de consultas prolongadas. "
   ]
  },
  {
   "attachments": {},
   "cell_type": "markdown",
   "metadata": {},
   "source": [
    "#### Por meio da url estarei capturando a quantidade de páginas existente no site para dai então percorrer uma a uma coletando os valores de meu interesse."
   ]
  },
  {
   "cell_type": "code",
   "execution_count": 4,
   "metadata": {},
   "outputs": [
    {
     "data": {
      "text/plain": [
       "[[<div class=\"pagination-cell hidden-lg-up\"><p>1 de 50</p></div>]]"
      ]
     },
     "execution_count": 4,
     "metadata": {},
     "output_type": "execute_result"
    }
   ],
   "source": [
    "url=\"https://www.adimimoveis.com.br/imoveis/a-venda\"\n",
    "lista_paginacao = []\n",
    "req = Request(url, headers={'User-Agent': 'Mozilla/5.0'})\n",
    "html = urlopen(req)\n",
    "bs = BeautifulSoup(html.read(), 'html.parser')\n",
    "lista_paginacao.append(bs.find_all('div', {'class':'pagination-cell hidden-lg-up'}))\n",
    "lista_paginacao"
   ]
  },
  {
   "attachments": {},
   "cell_type": "markdown",
   "metadata": {},
   "source": [
    "#### Armazenando o numero de páginas em uma variável"
   ]
  },
  {
   "cell_type": "code",
   "execution_count": 5,
   "metadata": {},
   "outputs": [
    {
     "data": {
      "text/plain": [
       "50"
      ]
     },
     "execution_count": 5,
     "metadata": {},
     "output_type": "execute_result"
    }
   ],
   "source": [
    "for i in lista_paginacao:\n",
    "    number = []\n",
    "    number.append(i[0].find('p').get_text())\n",
    "number = number[0].split()\n",
    "number_page = int(number[2])\n",
    "number_page"
   ]
  },
  {
   "attachments": {},
   "cell_type": "markdown",
   "metadata": {},
   "source": [
    "#### Coletando os dados via URL"
   ]
  },
  {
   "cell_type": "code",
   "execution_count": 6,
   "metadata": {},
   "outputs": [],
   "source": [
    "url=\"https://www.adimimoveis.com.br/imoveis/a-venda\"\n",
    "html_list = []\n",
    "for page in range(1, number_page + 1):\n",
    "    lista = []\n",
    "    req = Request(url + '?pagina=' + str(page), headers={'User-Agent': 'Mozilla/5.0'})\n",
    "    html = urlopen(req)\n",
    "    bs = BeautifulSoup(html.read(), 'html.parser')\n",
    "    lista.append(bs.find_all('div', {'class':'card_split_vertically__content'}))\n",
    "    html_list.append(lista)\n",
    "\n",
    "arq_html = open('imobiliario.html', 'w')\n",
    "arq_html.write(str(html_list))\n",
    "arq_html.close()"
   ]
  },
  {
   "attachments": {},
   "cell_type": "markdown",
   "metadata": {},
   "source": [
    "#### Selecionando os dados de interesse para análise dos valores dos imóveis em Balneário Camboriú"
   ]
  },
  {
   "cell_type": "code",
   "execution_count": 7,
   "metadata": {},
   "outputs": [
    {
     "data": {
      "text/plain": [
       "<div class=\"card_split_vertically__content\"><div class=\"card_split_vertically__header\"><p class=\"card_split_vertically__type\">Apartamento</p><h3 class=\"card_split_vertically__location\">Praia dos Amores - Itajaí - SC</h3><ul class=\"card_split_vertically__specs\"><li class=\"card_split_vertically__spec\">203.53 m²</li><li class=\"card_split_vertically__spec\">4 Quartos</li><li class=\"card_split_vertically__spec\">4 Suítes</li><li class=\"card_split_vertically__spec\">1 Banheiro</li><li class=\"card_split_vertically__spec\">2 Vagas</li></ul></div><div class=\"card_split_vertically__footer\"><div class=\"card_split_vertically__value-container\"><p class=\"card_split_vertically__value-title\">Venda</p><p class=\"card_split_vertically__value\">R$ 7.200.000</p></div></div></div>"
      ]
     },
     "execution_count": 7,
     "metadata": {},
     "output_type": "execute_result"
    }
   ],
   "source": [
    "tabela = []\n",
    "for dados in html_list:\n",
    "    for cont in range(len(dados[0])):\n",
    "        tabela.append(dados[0][cont])\n",
    "tabela[0]"
   ]
  },
  {
   "attachments": {},
   "cell_type": "markdown",
   "metadata": {},
   "source": [
    "#### Coletando os textos de dentro das TAGS"
   ]
  },
  {
   "cell_type": "code",
   "execution_count": 8,
   "metadata": {},
   "outputs": [
    {
     "data": {
      "text/plain": [
       "[['Apartamento',\n",
       "  'Praia dos Amores - Itajaí - SC',\n",
       "  '203.53 m²',\n",
       "  '4 Quartos',\n",
       "  '4 Suítes',\n",
       "  '1 Banheiro',\n",
       "  '2 Vagas',\n",
       "  'Venda',\n",
       "  'R$ 7.200.000'],\n",
       " ['Apartamento',\n",
       "  'Praia Brava - Itajaí - SC',\n",
       "  '185.12 m²',\n",
       "  '3 Quartos',\n",
       "  '3 Suítes',\n",
       "  '1 Banheiro',\n",
       "  '3 Vagas',\n",
       "  'Venda',\n",
       "  'R$ 5.926.273,63'],\n",
       " ['Apartamento',\n",
       "  'Praia Brava - Itajaí - SC',\n",
       "  '210 m²',\n",
       "  '4 Quartos',\n",
       "  '4 Suítes',\n",
       "  '1 Banheiro',\n",
       "  '4 Vagas',\n",
       "  'Venda',\n",
       "  'R$ 6.089.548,34']]"
      ]
     },
     "execution_count": 8,
     "metadata": {},
     "output_type": "execute_result"
    }
   ],
   "source": [
    "new_table = []\n",
    "for i in tabela:\n",
    "    new_list = []\n",
    "    new_list.append(i.find('p', {'class': 'card_split_vertically__type'}).text) # Tipo do imóvel\n",
    "    new_list.append(i.find('h3', {'class': 'card_split_vertically__location'}).text) # Endereço\n",
    "    li=i.find_all('li', {'class': 'card_split_vertically__spec'}) # m2, Quartos, Suítes e Vagas\n",
    "    for l in range(len(li)):\n",
    "        new_list.append(li[l].text) # m2, Quartos, Suítes e Vagas\n",
    "    new_list.append(i.find('p', {'class':'card_split_vertically__value-title'}).text) # Tipo de tramite\n",
    "    new_list.append(i.find('p', {'class':'card_split_vertically__value'}).text)\n",
    "    new_table.append(new_list)  \n",
    "new_table[:3]  "
   ]
  },
  {
   "cell_type": "markdown",
   "metadata": {},
   "source": [
    "#### Criando o DataFrame"
   ]
  },
  {
   "cell_type": "code",
   "execution_count": 9,
   "metadata": {},
   "outputs": [
    {
     "data": {
      "text/html": [
       "<div>\n",
       "<style scoped>\n",
       "    .dataframe tbody tr th:only-of-type {\n",
       "        vertical-align: middle;\n",
       "    }\n",
       "\n",
       "    .dataframe tbody tr th {\n",
       "        vertical-align: top;\n",
       "    }\n",
       "\n",
       "    .dataframe thead th {\n",
       "        text-align: right;\n",
       "    }\n",
       "</style>\n",
       "<table border=\"1\" class=\"dataframe\">\n",
       "  <thead>\n",
       "    <tr style=\"text-align: right;\">\n",
       "      <th></th>\n",
       "      <th>0</th>\n",
       "      <th>1</th>\n",
       "      <th>2</th>\n",
       "      <th>3</th>\n",
       "      <th>4</th>\n",
       "      <th>5</th>\n",
       "      <th>6</th>\n",
       "      <th>7</th>\n",
       "      <th>8</th>\n",
       "    </tr>\n",
       "  </thead>\n",
       "  <tbody>\n",
       "    <tr>\n",
       "      <th>0</th>\n",
       "      <td>Apartamento</td>\n",
       "      <td>Praia dos Amores - Itajaí - SC</td>\n",
       "      <td>203.53 m²</td>\n",
       "      <td>4 Quartos</td>\n",
       "      <td>4 Suítes</td>\n",
       "      <td>1 Banheiro</td>\n",
       "      <td>2 Vagas</td>\n",
       "      <td>Venda</td>\n",
       "      <td>R$ 7.200.000</td>\n",
       "    </tr>\n",
       "    <tr>\n",
       "      <th>1</th>\n",
       "      <td>Apartamento</td>\n",
       "      <td>Praia Brava - Itajaí - SC</td>\n",
       "      <td>185.12 m²</td>\n",
       "      <td>3 Quartos</td>\n",
       "      <td>3 Suítes</td>\n",
       "      <td>1 Banheiro</td>\n",
       "      <td>3 Vagas</td>\n",
       "      <td>Venda</td>\n",
       "      <td>R$ 5.926.273,63</td>\n",
       "    </tr>\n",
       "    <tr>\n",
       "      <th>2</th>\n",
       "      <td>Apartamento</td>\n",
       "      <td>Praia Brava - Itajaí - SC</td>\n",
       "      <td>210 m²</td>\n",
       "      <td>4 Quartos</td>\n",
       "      <td>4 Suítes</td>\n",
       "      <td>1 Banheiro</td>\n",
       "      <td>4 Vagas</td>\n",
       "      <td>Venda</td>\n",
       "      <td>R$ 6.089.548,34</td>\n",
       "    </tr>\n",
       "    <tr>\n",
       "      <th>3</th>\n",
       "      <td>Apartamento</td>\n",
       "      <td>Centro - Balneário Camboriú - SC</td>\n",
       "      <td>317.1 m²</td>\n",
       "      <td>4 Quartos</td>\n",
       "      <td>2 Suítes</td>\n",
       "      <td>1 Banheiro</td>\n",
       "      <td>2 Vagas</td>\n",
       "      <td>Venda</td>\n",
       "      <td>R$ 3.300.000</td>\n",
       "    </tr>\n",
       "    <tr>\n",
       "      <th>4</th>\n",
       "      <td>Apartamento</td>\n",
       "      <td>Centro - Balneário Camboriú - SC</td>\n",
       "      <td>185.63 m²</td>\n",
       "      <td>3 Quartos</td>\n",
       "      <td>3 Suítes</td>\n",
       "      <td>4 Banheiros</td>\n",
       "      <td>4 Vagas</td>\n",
       "      <td>Venda</td>\n",
       "      <td>R$ 6.950.000</td>\n",
       "    </tr>\n",
       "    <tr>\n",
       "      <th>5</th>\n",
       "      <td>Casa</td>\n",
       "      <td>Praia do Estaleiro - Balneário Camboriú - SC</td>\n",
       "      <td>458 m²</td>\n",
       "      <td>5 Quartos</td>\n",
       "      <td>4 Suítes</td>\n",
       "      <td>1 Banheiro</td>\n",
       "      <td>4 Vagas</td>\n",
       "      <td>Venda</td>\n",
       "      <td>R$ 20.000.000</td>\n",
       "    </tr>\n",
       "    <tr>\n",
       "      <th>6</th>\n",
       "      <td>Casa</td>\n",
       "      <td>Praia do Estaleiro - Balneário Camboriú - SC</td>\n",
       "      <td>458 m²</td>\n",
       "      <td>5 Quartos</td>\n",
       "      <td>4 Suítes</td>\n",
       "      <td>1 Banheiro</td>\n",
       "      <td>Venda</td>\n",
       "      <td>R$ 20.000.000</td>\n",
       "      <td>None</td>\n",
       "    </tr>\n",
       "    <tr>\n",
       "      <th>7</th>\n",
       "      <td>Apartamento</td>\n",
       "      <td>Centro - Balneário Camboriú - SC</td>\n",
       "      <td>190.17 m²</td>\n",
       "      <td>3 Quartos</td>\n",
       "      <td>3 Suítes</td>\n",
       "      <td>4 Banheiros</td>\n",
       "      <td>2 Vagas</td>\n",
       "      <td>Venda</td>\n",
       "      <td>R$ 1.980.000</td>\n",
       "    </tr>\n",
       "    <tr>\n",
       "      <th>8</th>\n",
       "      <td>Apartamento</td>\n",
       "      <td>Centro - Balneário Camboriú - SC</td>\n",
       "      <td>68.83 m²</td>\n",
       "      <td>2 Quartos</td>\n",
       "      <td>1 Suíte</td>\n",
       "      <td>2 Banheiros</td>\n",
       "      <td>1 Vaga</td>\n",
       "      <td>Venda</td>\n",
       "      <td>R$ 950.000</td>\n",
       "    </tr>\n",
       "    <tr>\n",
       "      <th>9</th>\n",
       "      <td>Apartamento</td>\n",
       "      <td>Pioneiros - Balneário Camboriú - SC</td>\n",
       "      <td>126.85 m²</td>\n",
       "      <td>3 Quartos</td>\n",
       "      <td>3 Suítes</td>\n",
       "      <td>1 Banheiro</td>\n",
       "      <td>2 Vagas</td>\n",
       "      <td>Venda</td>\n",
       "      <td>R$ 2.550.000</td>\n",
       "    </tr>\n",
       "  </tbody>\n",
       "</table>\n",
       "</div>"
      ],
      "text/plain": [
       "             0                                             1          2  \\\n",
       "0  Apartamento                Praia dos Amores - Itajaí - SC  203.53 m²   \n",
       "1  Apartamento                     Praia Brava - Itajaí - SC  185.12 m²   \n",
       "2  Apartamento                     Praia Brava - Itajaí - SC     210 m²   \n",
       "3  Apartamento              Centro - Balneário Camboriú - SC   317.1 m²   \n",
       "4  Apartamento              Centro - Balneário Camboriú - SC  185.63 m²   \n",
       "5         Casa  Praia do Estaleiro - Balneário Camboriú - SC     458 m²   \n",
       "6         Casa  Praia do Estaleiro - Balneário Camboriú - SC     458 m²   \n",
       "7  Apartamento              Centro - Balneário Camboriú - SC  190.17 m²   \n",
       "8  Apartamento              Centro - Balneário Camboriú - SC   68.83 m²   \n",
       "9  Apartamento           Pioneiros - Balneário Camboriú - SC  126.85 m²   \n",
       "\n",
       "           3         4            5        6              7                8  \n",
       "0  4 Quartos  4 Suítes   1 Banheiro  2 Vagas          Venda     R$ 7.200.000  \n",
       "1  3 Quartos  3 Suítes   1 Banheiro  3 Vagas          Venda  R$ 5.926.273,63  \n",
       "2  4 Quartos  4 Suítes   1 Banheiro  4 Vagas          Venda  R$ 6.089.548,34  \n",
       "3  4 Quartos  2 Suítes   1 Banheiro  2 Vagas          Venda     R$ 3.300.000  \n",
       "4  3 Quartos  3 Suítes  4 Banheiros  4 Vagas          Venda     R$ 6.950.000  \n",
       "5  5 Quartos  4 Suítes   1 Banheiro  4 Vagas          Venda    R$ 20.000.000  \n",
       "6  5 Quartos  4 Suítes   1 Banheiro    Venda  R$ 20.000.000             None  \n",
       "7  3 Quartos  3 Suítes  4 Banheiros  2 Vagas          Venda     R$ 1.980.000  \n",
       "8  2 Quartos   1 Suíte  2 Banheiros   1 Vaga          Venda       R$ 950.000  \n",
       "9  3 Quartos  3 Suítes   1 Banheiro  2 Vagas          Venda     R$ 2.550.000  "
      ]
     },
     "execution_count": 9,
     "metadata": {},
     "output_type": "execute_result"
    }
   ],
   "source": [
    "df = pd.DataFrame(new_table)\n",
    "df.head(10)"
   ]
  },
  {
   "attachments": {},
   "cell_type": "markdown",
   "metadata": {},
   "source": [
    "#### Verificando o tamanho do DF"
   ]
  },
  {
   "cell_type": "code",
   "execution_count": 10,
   "metadata": {},
   "outputs": [
    {
     "data": {
      "text/plain": [
       "(592, 9)"
      ]
     },
     "execution_count": 10,
     "metadata": {},
     "output_type": "execute_result"
    }
   ],
   "source": [
    "df.shape"
   ]
  },
  {
   "attachments": {},
   "cell_type": "markdown",
   "metadata": {},
   "source": [
    "#### Analisando as informações iniciais dos dados colhidos"
   ]
  },
  {
   "cell_type": "code",
   "execution_count": 11,
   "metadata": {},
   "outputs": [
    {
     "name": "stdout",
     "output_type": "stream",
     "text": [
      "<class 'pandas.core.frame.DataFrame'>\n",
      "RangeIndex: 592 entries, 0 to 591\n",
      "Data columns (total 9 columns):\n",
      " #   Column  Non-Null Count  Dtype \n",
      "---  ------  --------------  ----- \n",
      " 0   0       592 non-null    object\n",
      " 1   1       592 non-null    object\n",
      " 2   2       592 non-null    object\n",
      " 3   3       592 non-null    object\n",
      " 4   4       592 non-null    object\n",
      " 5   5       586 non-null    object\n",
      " 6   6       555 non-null    object\n",
      " 7   7       526 non-null    object\n",
      " 8   8       483 non-null    object\n",
      "dtypes: object(9)\n",
      "memory usage: 41.8+ KB\n"
     ]
    }
   ],
   "source": [
    "df.info()"
   ]
  },
  {
   "attachments": {},
   "cell_type": "markdown",
   "metadata": {},
   "source": [
    "#### Tratando os valores nulos"
   ]
  },
  {
   "cell_type": "code",
   "execution_count": 12,
   "metadata": {},
   "outputs": [
    {
     "data": {
      "text/plain": [
       "0      0\n",
       "1      0\n",
       "2      0\n",
       "3      0\n",
       "4      0\n",
       "5      6\n",
       "6     37\n",
       "7     66\n",
       "8    109\n",
       "dtype: int64"
      ]
     },
     "execution_count": 12,
     "metadata": {},
     "output_type": "execute_result"
    }
   ],
   "source": [
    "df.isnull().sum()"
   ]
  },
  {
   "attachments": {},
   "cell_type": "markdown",
   "metadata": {},
   "source": [
    "Eliminando os NaN da tabela"
   ]
  },
  {
   "cell_type": "code",
   "execution_count": 13,
   "metadata": {},
   "outputs": [
    {
     "data": {
      "text/plain": [
       "0    0\n",
       "1    0\n",
       "2    0\n",
       "3    0\n",
       "4    0\n",
       "5    0\n",
       "6    0\n",
       "7    0\n",
       "8    0\n",
       "dtype: int64"
      ]
     },
     "execution_count": 13,
     "metadata": {},
     "output_type": "execute_result"
    }
   ],
   "source": [
    "df.dropna(axis=0, inplace=True)\n",
    "df.isnull().sum()"
   ]
  },
  {
   "cell_type": "code",
   "execution_count": 14,
   "metadata": {},
   "outputs": [
    {
     "data": {
      "text/html": [
       "<div>\n",
       "<style scoped>\n",
       "    .dataframe tbody tr th:only-of-type {\n",
       "        vertical-align: middle;\n",
       "    }\n",
       "\n",
       "    .dataframe tbody tr th {\n",
       "        vertical-align: top;\n",
       "    }\n",
       "\n",
       "    .dataframe thead th {\n",
       "        text-align: right;\n",
       "    }\n",
       "</style>\n",
       "<table border=\"1\" class=\"dataframe\">\n",
       "  <thead>\n",
       "    <tr style=\"text-align: right;\">\n",
       "      <th></th>\n",
       "      <th>0</th>\n",
       "      <th>1</th>\n",
       "      <th>2</th>\n",
       "      <th>3</th>\n",
       "      <th>4</th>\n",
       "      <th>5</th>\n",
       "      <th>6</th>\n",
       "      <th>7</th>\n",
       "      <th>8</th>\n",
       "    </tr>\n",
       "  </thead>\n",
       "  <tbody>\n",
       "    <tr>\n",
       "      <th>0</th>\n",
       "      <td>Apartamento</td>\n",
       "      <td>Praia dos Amores - Itajaí - SC</td>\n",
       "      <td>203.53 m²</td>\n",
       "      <td>4 Quartos</td>\n",
       "      <td>4 Suítes</td>\n",
       "      <td>1 Banheiro</td>\n",
       "      <td>2 Vagas</td>\n",
       "      <td>Venda</td>\n",
       "      <td>R$ 7.200.000</td>\n",
       "    </tr>\n",
       "    <tr>\n",
       "      <th>1</th>\n",
       "      <td>Apartamento</td>\n",
       "      <td>Praia Brava - Itajaí - SC</td>\n",
       "      <td>185.12 m²</td>\n",
       "      <td>3 Quartos</td>\n",
       "      <td>3 Suítes</td>\n",
       "      <td>1 Banheiro</td>\n",
       "      <td>3 Vagas</td>\n",
       "      <td>Venda</td>\n",
       "      <td>R$ 5.926.273,63</td>\n",
       "    </tr>\n",
       "    <tr>\n",
       "      <th>2</th>\n",
       "      <td>Apartamento</td>\n",
       "      <td>Praia Brava - Itajaí - SC</td>\n",
       "      <td>210 m²</td>\n",
       "      <td>4 Quartos</td>\n",
       "      <td>4 Suítes</td>\n",
       "      <td>1 Banheiro</td>\n",
       "      <td>4 Vagas</td>\n",
       "      <td>Venda</td>\n",
       "      <td>R$ 6.089.548,34</td>\n",
       "    </tr>\n",
       "    <tr>\n",
       "      <th>3</th>\n",
       "      <td>Apartamento</td>\n",
       "      <td>Centro - Balneário Camboriú - SC</td>\n",
       "      <td>317.1 m²</td>\n",
       "      <td>4 Quartos</td>\n",
       "      <td>2 Suítes</td>\n",
       "      <td>1 Banheiro</td>\n",
       "      <td>2 Vagas</td>\n",
       "      <td>Venda</td>\n",
       "      <td>R$ 3.300.000</td>\n",
       "    </tr>\n",
       "    <tr>\n",
       "      <th>4</th>\n",
       "      <td>Apartamento</td>\n",
       "      <td>Centro - Balneário Camboriú - SC</td>\n",
       "      <td>185.63 m²</td>\n",
       "      <td>3 Quartos</td>\n",
       "      <td>3 Suítes</td>\n",
       "      <td>4 Banheiros</td>\n",
       "      <td>4 Vagas</td>\n",
       "      <td>Venda</td>\n",
       "      <td>R$ 6.950.000</td>\n",
       "    </tr>\n",
       "  </tbody>\n",
       "</table>\n",
       "</div>"
      ],
      "text/plain": [
       "             0                                 1          2          3  \\\n",
       "0  Apartamento    Praia dos Amores - Itajaí - SC  203.53 m²  4 Quartos   \n",
       "1  Apartamento         Praia Brava - Itajaí - SC  185.12 m²  3 Quartos   \n",
       "2  Apartamento         Praia Brava - Itajaí - SC     210 m²  4 Quartos   \n",
       "3  Apartamento  Centro - Balneário Camboriú - SC   317.1 m²  4 Quartos   \n",
       "4  Apartamento  Centro - Balneário Camboriú - SC  185.63 m²  3 Quartos   \n",
       "\n",
       "          4            5        6      7                8  \n",
       "0  4 Suítes   1 Banheiro  2 Vagas  Venda     R$ 7.200.000  \n",
       "1  3 Suítes   1 Banheiro  3 Vagas  Venda  R$ 5.926.273,63  \n",
       "2  4 Suítes   1 Banheiro  4 Vagas  Venda  R$ 6.089.548,34  \n",
       "3  2 Suítes   1 Banheiro  2 Vagas  Venda     R$ 3.300.000  \n",
       "4  3 Suítes  4 Banheiros  4 Vagas  Venda     R$ 6.950.000  "
      ]
     },
     "execution_count": 14,
     "metadata": {},
     "output_type": "execute_result"
    }
   ],
   "source": [
    "df.fillna(df, inplace=True)\n",
    "df.head()"
   ]
  },
  {
   "attachments": {},
   "cell_type": "markdown",
   "metadata": {},
   "source": [
    "#### Iniciando o processo de limpeza das Strings "
   ]
  },
  {
   "cell_type": "code",
   "execution_count": 15,
   "metadata": {},
   "outputs": [
    {
     "name": "stderr",
     "output_type": "stream",
     "text": [
      "/tmp/ipykernel_45163/1071970549.py:1: FutureWarning: The default value of regex will change from True to False in a future version.\n",
      "  df[8] = df[8].str.replace('[R$ ]', '')\n"
     ]
    }
   ],
   "source": [
    "df[8] = df[8].str.replace('[R$ ]', '')"
   ]
  },
  {
   "cell_type": "code",
   "execution_count": 16,
   "metadata": {},
   "outputs": [],
   "source": [
    "df[2] = df[2].map(lambda x: x.split()[0])\n",
    "df[3] = df[3].map(lambda x: x.split()[0])\n",
    "df[4] = df[4].map(lambda x: x.split()[0])\n",
    "df[5] = df[5].map(lambda x: x.split()[0])\n",
    "df[6] = df[6].map(lambda x: x.split()[0])"
   ]
  },
  {
   "cell_type": "code",
   "execution_count": 17,
   "metadata": {},
   "outputs": [
    {
     "data": {
      "text/html": [
       "<div>\n",
       "<style scoped>\n",
       "    .dataframe tbody tr th:only-of-type {\n",
       "        vertical-align: middle;\n",
       "    }\n",
       "\n",
       "    .dataframe tbody tr th {\n",
       "        vertical-align: top;\n",
       "    }\n",
       "\n",
       "    .dataframe thead th {\n",
       "        text-align: right;\n",
       "    }\n",
       "</style>\n",
       "<table border=\"1\" class=\"dataframe\">\n",
       "  <thead>\n",
       "    <tr style=\"text-align: right;\">\n",
       "      <th></th>\n",
       "      <th>0</th>\n",
       "      <th>2</th>\n",
       "      <th>3</th>\n",
       "      <th>4</th>\n",
       "      <th>5</th>\n",
       "      <th>6</th>\n",
       "      <th>7</th>\n",
       "      <th>8</th>\n",
       "      <th>bairro</th>\n",
       "      <th>cidade</th>\n",
       "      <th>estado</th>\n",
       "    </tr>\n",
       "  </thead>\n",
       "  <tbody>\n",
       "    <tr>\n",
       "      <th>0</th>\n",
       "      <td>Apartamento</td>\n",
       "      <td>203.53</td>\n",
       "      <td>4</td>\n",
       "      <td>4</td>\n",
       "      <td>1</td>\n",
       "      <td>2</td>\n",
       "      <td>Venda</td>\n",
       "      <td>7.200.000</td>\n",
       "      <td>Praia dos Amores</td>\n",
       "      <td>Itajaí</td>\n",
       "      <td>SC</td>\n",
       "    </tr>\n",
       "    <tr>\n",
       "      <th>1</th>\n",
       "      <td>Apartamento</td>\n",
       "      <td>185.12</td>\n",
       "      <td>3</td>\n",
       "      <td>3</td>\n",
       "      <td>1</td>\n",
       "      <td>3</td>\n",
       "      <td>Venda</td>\n",
       "      <td>5.926.273,63</td>\n",
       "      <td>Praia Brava</td>\n",
       "      <td>Itajaí</td>\n",
       "      <td>SC</td>\n",
       "    </tr>\n",
       "    <tr>\n",
       "      <th>2</th>\n",
       "      <td>Apartamento</td>\n",
       "      <td>210</td>\n",
       "      <td>4</td>\n",
       "      <td>4</td>\n",
       "      <td>1</td>\n",
       "      <td>4</td>\n",
       "      <td>Venda</td>\n",
       "      <td>6.089.548,34</td>\n",
       "      <td>Praia Brava</td>\n",
       "      <td>Itajaí</td>\n",
       "      <td>SC</td>\n",
       "    </tr>\n",
       "    <tr>\n",
       "      <th>3</th>\n",
       "      <td>Apartamento</td>\n",
       "      <td>317.1</td>\n",
       "      <td>4</td>\n",
       "      <td>2</td>\n",
       "      <td>1</td>\n",
       "      <td>2</td>\n",
       "      <td>Venda</td>\n",
       "      <td>3.300.000</td>\n",
       "      <td>Centro</td>\n",
       "      <td>Balneário Camboriú</td>\n",
       "      <td>SC</td>\n",
       "    </tr>\n",
       "    <tr>\n",
       "      <th>4</th>\n",
       "      <td>Apartamento</td>\n",
       "      <td>185.63</td>\n",
       "      <td>3</td>\n",
       "      <td>3</td>\n",
       "      <td>4</td>\n",
       "      <td>4</td>\n",
       "      <td>Venda</td>\n",
       "      <td>6.950.000</td>\n",
       "      <td>Centro</td>\n",
       "      <td>Balneário Camboriú</td>\n",
       "      <td>SC</td>\n",
       "    </tr>\n",
       "  </tbody>\n",
       "</table>\n",
       "</div>"
      ],
      "text/plain": [
       "             0       2  3  4  5  6      7             8             bairro  \\\n",
       "0  Apartamento  203.53  4  4  1  2  Venda     7.200.000  Praia dos Amores    \n",
       "1  Apartamento  185.12  3  3  1  3  Venda  5.926.273,63       Praia Brava    \n",
       "2  Apartamento     210  4  4  1  4  Venda  6.089.548,34       Praia Brava    \n",
       "3  Apartamento   317.1  4  2  1  2  Venda     3.300.000            Centro    \n",
       "4  Apartamento  185.63  3  3  4  4  Venda     6.950.000            Centro    \n",
       "\n",
       "                 cidade estado  \n",
       "0               Itajaí      SC  \n",
       "1               Itajaí      SC  \n",
       "2               Itajaí      SC  \n",
       "3   Balneário Camboriú      SC  \n",
       "4   Balneário Camboriú      SC  "
      ]
     },
     "execution_count": 17,
     "metadata": {},
     "output_type": "execute_result"
    }
   ],
   "source": [
    "new = df[1].str.split('-', expand=True)\n",
    "df['bairro'] = new[0]\n",
    "df['cidade'] = new[1]\n",
    "df['estado'] = new[2]\n",
    "df.drop(columns=[1], inplace=True)\n",
    "df.head()"
   ]
  },
  {
   "attachments": {},
   "cell_type": "markdown",
   "metadata": {},
   "source": [
    "#### A coluna 7 refere-se ao contem valores do tipo de tranzação (vendas). Como todos tem o mesmo valor não precisamos desses dados, não terão peso em nossa analise."
   ]
  },
  {
   "cell_type": "code",
   "execution_count": 18,
   "metadata": {},
   "outputs": [],
   "source": [
    "df.drop(columns=[7], inplace=True)"
   ]
  },
  {
   "attachments": {},
   "cell_type": "markdown",
   "metadata": {},
   "source": [
    "#### Renomeando as colunas para facilitar o entendimento"
   ]
  },
  {
   "cell_type": "code",
   "execution_count": 19,
   "metadata": {},
   "outputs": [],
   "source": [
    "df.rename(columns={0:'tipo_imovel', 2:'m2', 3:'quartos', 4:'suites', 5:'banheiros', 6:'vagas', 8:'preco'}, inplace=True)"
   ]
  },
  {
   "attachments": {},
   "cell_type": "markdown",
   "metadata": {},
   "source": [
    "#### Reorganizando a ordem das colunas para melhor assimilação"
   ]
  },
  {
   "cell_type": "code",
   "execution_count": 20,
   "metadata": {},
   "outputs": [
    {
     "data": {
      "text/html": [
       "<div>\n",
       "<style scoped>\n",
       "    .dataframe tbody tr th:only-of-type {\n",
       "        vertical-align: middle;\n",
       "    }\n",
       "\n",
       "    .dataframe tbody tr th {\n",
       "        vertical-align: top;\n",
       "    }\n",
       "\n",
       "    .dataframe thead th {\n",
       "        text-align: right;\n",
       "    }\n",
       "</style>\n",
       "<table border=\"1\" class=\"dataframe\">\n",
       "  <thead>\n",
       "    <tr style=\"text-align: right;\">\n",
       "      <th></th>\n",
       "      <th>cidade</th>\n",
       "      <th>bairro</th>\n",
       "      <th>estado</th>\n",
       "      <th>tipo_imovel</th>\n",
       "      <th>m2</th>\n",
       "      <th>quartos</th>\n",
       "      <th>suites</th>\n",
       "      <th>banheiros</th>\n",
       "      <th>vagas</th>\n",
       "      <th>preco</th>\n",
       "    </tr>\n",
       "  </thead>\n",
       "  <tbody>\n",
       "    <tr>\n",
       "      <th>0</th>\n",
       "      <td>Itajaí</td>\n",
       "      <td>Praia dos Amores</td>\n",
       "      <td>SC</td>\n",
       "      <td>Apartamento</td>\n",
       "      <td>203.53</td>\n",
       "      <td>4</td>\n",
       "      <td>4</td>\n",
       "      <td>1</td>\n",
       "      <td>2</td>\n",
       "      <td>7.200.000</td>\n",
       "    </tr>\n",
       "    <tr>\n",
       "      <th>1</th>\n",
       "      <td>Itajaí</td>\n",
       "      <td>Praia Brava</td>\n",
       "      <td>SC</td>\n",
       "      <td>Apartamento</td>\n",
       "      <td>185.12</td>\n",
       "      <td>3</td>\n",
       "      <td>3</td>\n",
       "      <td>1</td>\n",
       "      <td>3</td>\n",
       "      <td>5.926.273,63</td>\n",
       "    </tr>\n",
       "    <tr>\n",
       "      <th>2</th>\n",
       "      <td>Itajaí</td>\n",
       "      <td>Praia Brava</td>\n",
       "      <td>SC</td>\n",
       "      <td>Apartamento</td>\n",
       "      <td>210</td>\n",
       "      <td>4</td>\n",
       "      <td>4</td>\n",
       "      <td>1</td>\n",
       "      <td>4</td>\n",
       "      <td>6.089.548,34</td>\n",
       "    </tr>\n",
       "    <tr>\n",
       "      <th>3</th>\n",
       "      <td>Balneário Camboriú</td>\n",
       "      <td>Centro</td>\n",
       "      <td>SC</td>\n",
       "      <td>Apartamento</td>\n",
       "      <td>317.1</td>\n",
       "      <td>4</td>\n",
       "      <td>2</td>\n",
       "      <td>1</td>\n",
       "      <td>2</td>\n",
       "      <td>3.300.000</td>\n",
       "    </tr>\n",
       "    <tr>\n",
       "      <th>4</th>\n",
       "      <td>Balneário Camboriú</td>\n",
       "      <td>Centro</td>\n",
       "      <td>SC</td>\n",
       "      <td>Apartamento</td>\n",
       "      <td>185.63</td>\n",
       "      <td>3</td>\n",
       "      <td>3</td>\n",
       "      <td>4</td>\n",
       "      <td>4</td>\n",
       "      <td>6.950.000</td>\n",
       "    </tr>\n",
       "  </tbody>\n",
       "</table>\n",
       "</div>"
      ],
      "text/plain": [
       "                 cidade             bairro estado  tipo_imovel      m2  \\\n",
       "0               Itajaí   Praia dos Amores      SC  Apartamento  203.53   \n",
       "1               Itajaí        Praia Brava      SC  Apartamento  185.12   \n",
       "2               Itajaí        Praia Brava      SC  Apartamento     210   \n",
       "3   Balneário Camboriú             Centro      SC  Apartamento   317.1   \n",
       "4   Balneário Camboriú             Centro      SC  Apartamento  185.63   \n",
       "\n",
       "  quartos suites banheiros vagas         preco  \n",
       "0       4      4         1     2     7.200.000  \n",
       "1       3      3         1     3  5.926.273,63  \n",
       "2       4      4         1     4  6.089.548,34  \n",
       "3       4      2         1     2     3.300.000  \n",
       "4       3      3         4     4     6.950.000  "
      ]
     },
     "execution_count": 20,
     "metadata": {},
     "output_type": "execute_result"
    }
   ],
   "source": [
    "df = df[['cidade', 'bairro', 'estado', 'tipo_imovel', 'm2', 'quartos', 'suites', 'banheiros', 'vagas', 'preco']]\n",
    "df.head()"
   ]
  },
  {
   "attachments": {},
   "cell_type": "markdown",
   "metadata": {},
   "source": [
    "#### Convertendo as colunas de valores numéricos para int e float de acordo com seus critérios"
   ]
  },
  {
   "cell_type": "code",
   "execution_count": 21,
   "metadata": {},
   "outputs": [],
   "source": [
    "df['m2'] = df['m2'].map(lambda x: float(x))\n",
    "df['quartos'] = df['quartos'].map(lambda x: int(x))\n",
    "df['suites'] = df['suites'].map(lambda x: int(x))\n",
    "df['banheiros'] = df['banheiros'].map(lambda x: int(x))\n",
    "df['vagas'] = df['vagas'].map(lambda x: int(x))"
   ]
  },
  {
   "cell_type": "code",
   "execution_count": 22,
   "metadata": {},
   "outputs": [
    {
     "data": {
      "text/html": [
       "<div>\n",
       "<style scoped>\n",
       "    .dataframe tbody tr th:only-of-type {\n",
       "        vertical-align: middle;\n",
       "    }\n",
       "\n",
       "    .dataframe tbody tr th {\n",
       "        vertical-align: top;\n",
       "    }\n",
       "\n",
       "    .dataframe thead th {\n",
       "        text-align: right;\n",
       "    }\n",
       "</style>\n",
       "<table border=\"1\" class=\"dataframe\">\n",
       "  <thead>\n",
       "    <tr style=\"text-align: right;\">\n",
       "      <th></th>\n",
       "      <th>cidade</th>\n",
       "      <th>bairro</th>\n",
       "      <th>estado</th>\n",
       "      <th>tipo_imovel</th>\n",
       "      <th>m2</th>\n",
       "      <th>quartos</th>\n",
       "      <th>suites</th>\n",
       "      <th>banheiros</th>\n",
       "      <th>vagas</th>\n",
       "      <th>preco</th>\n",
       "    </tr>\n",
       "  </thead>\n",
       "  <tbody>\n",
       "    <tr>\n",
       "      <th>0</th>\n",
       "      <td>Itajaí</td>\n",
       "      <td>Praia dos Amores</td>\n",
       "      <td>SC</td>\n",
       "      <td>Apartamento</td>\n",
       "      <td>203.53</td>\n",
       "      <td>4</td>\n",
       "      <td>4</td>\n",
       "      <td>1</td>\n",
       "      <td>2</td>\n",
       "      <td>7.200.000</td>\n",
       "    </tr>\n",
       "    <tr>\n",
       "      <th>1</th>\n",
       "      <td>Itajaí</td>\n",
       "      <td>Praia Brava</td>\n",
       "      <td>SC</td>\n",
       "      <td>Apartamento</td>\n",
       "      <td>185.12</td>\n",
       "      <td>3</td>\n",
       "      <td>3</td>\n",
       "      <td>1</td>\n",
       "      <td>3</td>\n",
       "      <td>5.926.273,63</td>\n",
       "    </tr>\n",
       "    <tr>\n",
       "      <th>2</th>\n",
       "      <td>Itajaí</td>\n",
       "      <td>Praia Brava</td>\n",
       "      <td>SC</td>\n",
       "      <td>Apartamento</td>\n",
       "      <td>210.00</td>\n",
       "      <td>4</td>\n",
       "      <td>4</td>\n",
       "      <td>1</td>\n",
       "      <td>4</td>\n",
       "      <td>6.089.548,34</td>\n",
       "    </tr>\n",
       "    <tr>\n",
       "      <th>3</th>\n",
       "      <td>Balneário Camboriú</td>\n",
       "      <td>Centro</td>\n",
       "      <td>SC</td>\n",
       "      <td>Apartamento</td>\n",
       "      <td>317.10</td>\n",
       "      <td>4</td>\n",
       "      <td>2</td>\n",
       "      <td>1</td>\n",
       "      <td>2</td>\n",
       "      <td>3.300.000</td>\n",
       "    </tr>\n",
       "    <tr>\n",
       "      <th>4</th>\n",
       "      <td>Balneário Camboriú</td>\n",
       "      <td>Centro</td>\n",
       "      <td>SC</td>\n",
       "      <td>Apartamento</td>\n",
       "      <td>185.63</td>\n",
       "      <td>3</td>\n",
       "      <td>3</td>\n",
       "      <td>4</td>\n",
       "      <td>4</td>\n",
       "      <td>6.950.000</td>\n",
       "    </tr>\n",
       "  </tbody>\n",
       "</table>\n",
       "</div>"
      ],
      "text/plain": [
       "                 cidade             bairro estado  tipo_imovel      m2  \\\n",
       "0               Itajaí   Praia dos Amores      SC  Apartamento  203.53   \n",
       "1               Itajaí        Praia Brava      SC  Apartamento  185.12   \n",
       "2               Itajaí        Praia Brava      SC  Apartamento  210.00   \n",
       "3   Balneário Camboriú             Centro      SC  Apartamento  317.10   \n",
       "4   Balneário Camboriú             Centro      SC  Apartamento  185.63   \n",
       "\n",
       "   quartos  suites  banheiros  vagas         preco  \n",
       "0        4       4          1      2     7.200.000  \n",
       "1        3       3          1      3  5.926.273,63  \n",
       "2        4       4          1      4  6.089.548,34  \n",
       "3        4       2          1      2     3.300.000  \n",
       "4        3       3          4      4     6.950.000  "
      ]
     },
     "execution_count": 22,
     "metadata": {},
     "output_type": "execute_result"
    }
   ],
   "source": [
    "df.head()"
   ]
  },
  {
   "attachments": {},
   "cell_type": "markdown",
   "metadata": {},
   "source": [
    "#### Limpando os dados da coluna \"preco\" pois nela encontram-se strings que impossibilitam a conversão para float."
   ]
  },
  {
   "cell_type": "code",
   "execution_count": 23,
   "metadata": {},
   "outputs": [
    {
     "name": "stderr",
     "output_type": "stream",
     "text": [
      "/tmp/ipykernel_45163/7449221.py:1: FutureWarning: The default value of regex will change from True to False in a future version.\n",
      "  df['preco'] = df['preco'].str.replace('[ .]', '')\n",
      "/tmp/ipykernel_45163/7449221.py:2: FutureWarning: The default value of regex will change from True to False in a future version.\n",
      "  df['preco'] = df['preco'].str.replace('[,]', '.')\n"
     ]
    }
   ],
   "source": [
    "df['preco'] = df['preco'].str.replace('[ .]', '')\n",
    "df['preco'] = df['preco'].str.replace('[,]', '.')\n",
    "df['preco'] = df['preco'].str.replace('Vendasobconsulta', '0')\n"
   ]
  },
  {
   "cell_type": "code",
   "execution_count": 24,
   "metadata": {},
   "outputs": [
    {
     "data": {
      "text/html": [
       "<div>\n",
       "<style scoped>\n",
       "    .dataframe tbody tr th:only-of-type {\n",
       "        vertical-align: middle;\n",
       "    }\n",
       "\n",
       "    .dataframe tbody tr th {\n",
       "        vertical-align: top;\n",
       "    }\n",
       "\n",
       "    .dataframe thead th {\n",
       "        text-align: right;\n",
       "    }\n",
       "</style>\n",
       "<table border=\"1\" class=\"dataframe\">\n",
       "  <thead>\n",
       "    <tr style=\"text-align: right;\">\n",
       "      <th></th>\n",
       "      <th>cidade</th>\n",
       "      <th>bairro</th>\n",
       "      <th>estado</th>\n",
       "      <th>tipo_imovel</th>\n",
       "      <th>m2</th>\n",
       "      <th>quartos</th>\n",
       "      <th>suites</th>\n",
       "      <th>banheiros</th>\n",
       "      <th>vagas</th>\n",
       "      <th>preco</th>\n",
       "    </tr>\n",
       "  </thead>\n",
       "  <tbody>\n",
       "    <tr>\n",
       "      <th>0</th>\n",
       "      <td>Itajaí</td>\n",
       "      <td>Praia dos Amores</td>\n",
       "      <td>SC</td>\n",
       "      <td>Apartamento</td>\n",
       "      <td>203.53</td>\n",
       "      <td>4</td>\n",
       "      <td>4</td>\n",
       "      <td>1</td>\n",
       "      <td>2</td>\n",
       "      <td>7200000</td>\n",
       "    </tr>\n",
       "    <tr>\n",
       "      <th>1</th>\n",
       "      <td>Itajaí</td>\n",
       "      <td>Praia Brava</td>\n",
       "      <td>SC</td>\n",
       "      <td>Apartamento</td>\n",
       "      <td>185.12</td>\n",
       "      <td>3</td>\n",
       "      <td>3</td>\n",
       "      <td>1</td>\n",
       "      <td>3</td>\n",
       "      <td>5926273.63</td>\n",
       "    </tr>\n",
       "    <tr>\n",
       "      <th>2</th>\n",
       "      <td>Itajaí</td>\n",
       "      <td>Praia Brava</td>\n",
       "      <td>SC</td>\n",
       "      <td>Apartamento</td>\n",
       "      <td>210.00</td>\n",
       "      <td>4</td>\n",
       "      <td>4</td>\n",
       "      <td>1</td>\n",
       "      <td>4</td>\n",
       "      <td>6089548.34</td>\n",
       "    </tr>\n",
       "    <tr>\n",
       "      <th>3</th>\n",
       "      <td>Balneário Camboriú</td>\n",
       "      <td>Centro</td>\n",
       "      <td>SC</td>\n",
       "      <td>Apartamento</td>\n",
       "      <td>317.10</td>\n",
       "      <td>4</td>\n",
       "      <td>2</td>\n",
       "      <td>1</td>\n",
       "      <td>2</td>\n",
       "      <td>3300000</td>\n",
       "    </tr>\n",
       "    <tr>\n",
       "      <th>4</th>\n",
       "      <td>Balneário Camboriú</td>\n",
       "      <td>Centro</td>\n",
       "      <td>SC</td>\n",
       "      <td>Apartamento</td>\n",
       "      <td>185.63</td>\n",
       "      <td>3</td>\n",
       "      <td>3</td>\n",
       "      <td>4</td>\n",
       "      <td>4</td>\n",
       "      <td>6950000</td>\n",
       "    </tr>\n",
       "  </tbody>\n",
       "</table>\n",
       "</div>"
      ],
      "text/plain": [
       "                 cidade             bairro estado  tipo_imovel      m2  \\\n",
       "0               Itajaí   Praia dos Amores      SC  Apartamento  203.53   \n",
       "1               Itajaí        Praia Brava      SC  Apartamento  185.12   \n",
       "2               Itajaí        Praia Brava      SC  Apartamento  210.00   \n",
       "3   Balneário Camboriú             Centro      SC  Apartamento  317.10   \n",
       "4   Balneário Camboriú             Centro      SC  Apartamento  185.63   \n",
       "\n",
       "   quartos  suites  banheiros  vagas       preco  \n",
       "0        4       4          1      2     7200000  \n",
       "1        3       3          1      3  5926273.63  \n",
       "2        4       4          1      4  6089548.34  \n",
       "3        4       2          1      2     3300000  \n",
       "4        3       3          4      4     6950000  "
      ]
     },
     "execution_count": 24,
     "metadata": {},
     "output_type": "execute_result"
    }
   ],
   "source": [
    "df.head()"
   ]
  },
  {
   "cell_type": "code",
   "execution_count": 25,
   "metadata": {},
   "outputs": [],
   "source": [
    "df['preco'] = df['preco'].map(lambda x: float(x))"
   ]
  },
  {
   "cell_type": "code",
   "execution_count": 26,
   "metadata": {},
   "outputs": [
    {
     "data": {
      "text/html": [
       "<div>\n",
       "<style scoped>\n",
       "    .dataframe tbody tr th:only-of-type {\n",
       "        vertical-align: middle;\n",
       "    }\n",
       "\n",
       "    .dataframe tbody tr th {\n",
       "        vertical-align: top;\n",
       "    }\n",
       "\n",
       "    .dataframe thead th {\n",
       "        text-align: right;\n",
       "    }\n",
       "</style>\n",
       "<table border=\"1\" class=\"dataframe\">\n",
       "  <thead>\n",
       "    <tr style=\"text-align: right;\">\n",
       "      <th></th>\n",
       "      <th>cidade</th>\n",
       "      <th>bairro</th>\n",
       "      <th>estado</th>\n",
       "      <th>tipo_imovel</th>\n",
       "      <th>m2</th>\n",
       "      <th>quartos</th>\n",
       "      <th>suites</th>\n",
       "      <th>banheiros</th>\n",
       "      <th>vagas</th>\n",
       "      <th>preco</th>\n",
       "    </tr>\n",
       "  </thead>\n",
       "  <tbody>\n",
       "    <tr>\n",
       "      <th>0</th>\n",
       "      <td>Itajaí</td>\n",
       "      <td>Praia dos Amores</td>\n",
       "      <td>SC</td>\n",
       "      <td>Apartamento</td>\n",
       "      <td>203.53</td>\n",
       "      <td>4</td>\n",
       "      <td>4</td>\n",
       "      <td>1</td>\n",
       "      <td>2</td>\n",
       "      <td>7200000.00</td>\n",
       "    </tr>\n",
       "    <tr>\n",
       "      <th>1</th>\n",
       "      <td>Itajaí</td>\n",
       "      <td>Praia Brava</td>\n",
       "      <td>SC</td>\n",
       "      <td>Apartamento</td>\n",
       "      <td>185.12</td>\n",
       "      <td>3</td>\n",
       "      <td>3</td>\n",
       "      <td>1</td>\n",
       "      <td>3</td>\n",
       "      <td>5926273.63</td>\n",
       "    </tr>\n",
       "    <tr>\n",
       "      <th>2</th>\n",
       "      <td>Itajaí</td>\n",
       "      <td>Praia Brava</td>\n",
       "      <td>SC</td>\n",
       "      <td>Apartamento</td>\n",
       "      <td>210.00</td>\n",
       "      <td>4</td>\n",
       "      <td>4</td>\n",
       "      <td>1</td>\n",
       "      <td>4</td>\n",
       "      <td>6089548.34</td>\n",
       "    </tr>\n",
       "    <tr>\n",
       "      <th>3</th>\n",
       "      <td>Balneário Camboriú</td>\n",
       "      <td>Centro</td>\n",
       "      <td>SC</td>\n",
       "      <td>Apartamento</td>\n",
       "      <td>317.10</td>\n",
       "      <td>4</td>\n",
       "      <td>2</td>\n",
       "      <td>1</td>\n",
       "      <td>2</td>\n",
       "      <td>3300000.00</td>\n",
       "    </tr>\n",
       "    <tr>\n",
       "      <th>4</th>\n",
       "      <td>Balneário Camboriú</td>\n",
       "      <td>Centro</td>\n",
       "      <td>SC</td>\n",
       "      <td>Apartamento</td>\n",
       "      <td>185.63</td>\n",
       "      <td>3</td>\n",
       "      <td>3</td>\n",
       "      <td>4</td>\n",
       "      <td>4</td>\n",
       "      <td>6950000.00</td>\n",
       "    </tr>\n",
       "  </tbody>\n",
       "</table>\n",
       "</div>"
      ],
      "text/plain": [
       "                 cidade             bairro estado  tipo_imovel      m2  \\\n",
       "0               Itajaí   Praia dos Amores      SC  Apartamento  203.53   \n",
       "1               Itajaí        Praia Brava      SC  Apartamento  185.12   \n",
       "2               Itajaí        Praia Brava      SC  Apartamento  210.00   \n",
       "3   Balneário Camboriú             Centro      SC  Apartamento  317.10   \n",
       "4   Balneário Camboriú             Centro      SC  Apartamento  185.63   \n",
       "\n",
       "   quartos  suites  banheiros  vagas       preco  \n",
       "0        4       4          1      2  7200000.00  \n",
       "1        3       3          1      3  5926273.63  \n",
       "2        4       4          1      4  6089548.34  \n",
       "3        4       2          1      2  3300000.00  \n",
       "4        3       3          4      4  6950000.00  "
      ]
     },
     "execution_count": 26,
     "metadata": {},
     "output_type": "execute_result"
    }
   ],
   "source": [
    "df.head()"
   ]
  },
  {
   "attachments": {},
   "cell_type": "markdown",
   "metadata": {},
   "source": [
    "#### Verificando a quantia de cidades existentes na tabela"
   ]
  },
  {
   "cell_type": "code",
   "execution_count": 27,
   "metadata": {},
   "outputs": [
    {
     "data": {
      "text/plain": [
       "array([' Itajaí ', ' Balneário Camboriú ', ' Camboriú ', ' Itapema '],\n",
       "      dtype=object)"
      ]
     },
     "execution_count": 27,
     "metadata": {},
     "output_type": "execute_result"
    }
   ],
   "source": [
    "df['cidade'].unique()"
   ]
  },
  {
   "attachments": {},
   "cell_type": "markdown",
   "metadata": {},
   "source": [
    "#### Conferindo a conversão dos tipos dos dados"
   ]
  },
  {
   "cell_type": "code",
   "execution_count": 28,
   "metadata": {},
   "outputs": [
    {
     "data": {
      "text/plain": [
       "cidade          object\n",
       "bairro          object\n",
       "estado          object\n",
       "tipo_imovel     object\n",
       "m2             float64\n",
       "quartos          int64\n",
       "suites           int64\n",
       "banheiros        int64\n",
       "vagas            int64\n",
       "preco          float64\n",
       "dtype: object"
      ]
     },
     "execution_count": 28,
     "metadata": {},
     "output_type": "execute_result"
    }
   ],
   "source": [
    "df.dtypes"
   ]
  },
  {
   "attachments": {},
   "cell_type": "markdown",
   "metadata": {},
   "source": [
    "#### Limpeza da Tabela Finalizada"
   ]
  },
  {
   "cell_type": "code",
   "execution_count": 29,
   "metadata": {},
   "outputs": [
    {
     "data": {
      "text/html": [
       "<div>\n",
       "<style scoped>\n",
       "    .dataframe tbody tr th:only-of-type {\n",
       "        vertical-align: middle;\n",
       "    }\n",
       "\n",
       "    .dataframe tbody tr th {\n",
       "        vertical-align: top;\n",
       "    }\n",
       "\n",
       "    .dataframe thead th {\n",
       "        text-align: right;\n",
       "    }\n",
       "</style>\n",
       "<table border=\"1\" class=\"dataframe\">\n",
       "  <thead>\n",
       "    <tr style=\"text-align: right;\">\n",
       "      <th></th>\n",
       "      <th>cidade</th>\n",
       "      <th>bairro</th>\n",
       "      <th>estado</th>\n",
       "      <th>tipo_imovel</th>\n",
       "      <th>m2</th>\n",
       "      <th>quartos</th>\n",
       "      <th>suites</th>\n",
       "      <th>banheiros</th>\n",
       "      <th>vagas</th>\n",
       "      <th>preco</th>\n",
       "    </tr>\n",
       "  </thead>\n",
       "  <tbody>\n",
       "    <tr>\n",
       "      <th>0</th>\n",
       "      <td>Itajaí</td>\n",
       "      <td>Praia dos Amores</td>\n",
       "      <td>SC</td>\n",
       "      <td>Apartamento</td>\n",
       "      <td>203.53</td>\n",
       "      <td>4</td>\n",
       "      <td>4</td>\n",
       "      <td>1</td>\n",
       "      <td>2</td>\n",
       "      <td>7200000.00</td>\n",
       "    </tr>\n",
       "    <tr>\n",
       "      <th>1</th>\n",
       "      <td>Itajaí</td>\n",
       "      <td>Praia Brava</td>\n",
       "      <td>SC</td>\n",
       "      <td>Apartamento</td>\n",
       "      <td>185.12</td>\n",
       "      <td>3</td>\n",
       "      <td>3</td>\n",
       "      <td>1</td>\n",
       "      <td>3</td>\n",
       "      <td>5926273.63</td>\n",
       "    </tr>\n",
       "    <tr>\n",
       "      <th>2</th>\n",
       "      <td>Itajaí</td>\n",
       "      <td>Praia Brava</td>\n",
       "      <td>SC</td>\n",
       "      <td>Apartamento</td>\n",
       "      <td>210.00</td>\n",
       "      <td>4</td>\n",
       "      <td>4</td>\n",
       "      <td>1</td>\n",
       "      <td>4</td>\n",
       "      <td>6089548.34</td>\n",
       "    </tr>\n",
       "    <tr>\n",
       "      <th>3</th>\n",
       "      <td>Balneário Camboriú</td>\n",
       "      <td>Centro</td>\n",
       "      <td>SC</td>\n",
       "      <td>Apartamento</td>\n",
       "      <td>317.10</td>\n",
       "      <td>4</td>\n",
       "      <td>2</td>\n",
       "      <td>1</td>\n",
       "      <td>2</td>\n",
       "      <td>3300000.00</td>\n",
       "    </tr>\n",
       "    <tr>\n",
       "      <th>4</th>\n",
       "      <td>Balneário Camboriú</td>\n",
       "      <td>Centro</td>\n",
       "      <td>SC</td>\n",
       "      <td>Apartamento</td>\n",
       "      <td>185.63</td>\n",
       "      <td>3</td>\n",
       "      <td>3</td>\n",
       "      <td>4</td>\n",
       "      <td>4</td>\n",
       "      <td>6950000.00</td>\n",
       "    </tr>\n",
       "  </tbody>\n",
       "</table>\n",
       "</div>"
      ],
      "text/plain": [
       "                 cidade             bairro estado  tipo_imovel      m2  \\\n",
       "0               Itajaí   Praia dos Amores      SC  Apartamento  203.53   \n",
       "1               Itajaí        Praia Brava      SC  Apartamento  185.12   \n",
       "2               Itajaí        Praia Brava      SC  Apartamento  210.00   \n",
       "3   Balneário Camboriú             Centro      SC  Apartamento  317.10   \n",
       "4   Balneário Camboriú             Centro      SC  Apartamento  185.63   \n",
       "\n",
       "   quartos  suites  banheiros  vagas       preco  \n",
       "0        4       4          1      2  7200000.00  \n",
       "1        3       3          1      3  5926273.63  \n",
       "2        4       4          1      4  6089548.34  \n",
       "3        4       2          1      2  3300000.00  \n",
       "4        3       3          4      4  6950000.00  "
      ]
     },
     "execution_count": 29,
     "metadata": {},
     "output_type": "execute_result"
    }
   ],
   "source": [
    "df.head()"
   ]
  },
  {
   "attachments": {},
   "cell_type": "markdown",
   "metadata": {},
   "source": [
    "#### Salvando em um arquivo csv"
   ]
  },
  {
   "cell_type": "code",
   "execution_count": 34,
   "metadata": {},
   "outputs": [],
   "source": [
    "df.to_csv('imobiliario.csv')"
   ]
  }
 ],
 "metadata": {
  "kernelspec": {
   "display_name": "Python 3",
   "language": "python",
   "name": "python3"
  },
  "language_info": {
   "codemirror_mode": {
    "name": "ipython",
    "version": 3
   },
   "file_extension": ".py",
   "mimetype": "text/x-python",
   "name": "python",
   "nbconvert_exporter": "python",
   "pygments_lexer": "ipython3",
   "version": "3.11.1"
  },
  "orig_nbformat": 4,
  "vscode": {
   "interpreter": {
    "hash": "ead1b95f633dc9c51826328e1846203f51a198c6fb5f2884a80417ba131d4e82"
   }
  }
 },
 "nbformat": 4,
 "nbformat_minor": 2
}
