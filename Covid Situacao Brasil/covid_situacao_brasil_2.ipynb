{
 "cells": [
  {
   "attachments": {},
   "cell_type": "markdown",
   "metadata": {},
   "source": [
    "# Projeto Covid - Situação Brasil\n",
    "## Por: Michel Souza Santana\n",
    "> Data: 23/01/2023\n",
    "\n",
    "### Objetivos\n",
    "* Requisitar de um sites on-line via url dados sobre a covid19, vacinação, população, estados mais afetados, casos x mortes, etc.\n",
    "* Armazenar os dados capturados em uma tabela.\n",
    "* Organizar e limpar os dados.\n",
    "* Anlisar os dados e selecionar os mais relevantes para o projeto.\n",
    "\n",
    "### Análise dos dados\n",
    "* Letalidade\n",
    "* Taxa de mortalidade\n",
    "* Índice de vacinação\n",
    "* Casos X Mortes X Vacinação\n",
    "* estados mais afetados\n",
    "* População total"
   ]
  },
  {
   "attachments": {},
   "cell_type": "markdown",
   "metadata": {},
   "source": [
    "## Questão de Negócio\n",
    "> Com base na ánálise verificar a contribuição das vacinas no resultado geeral de casos x mortes."
   ]
  },
  {
   "attachments": {},
   "cell_type": "markdown",
   "metadata": {},
   "source": [
    "## Entendimento do Negócio\n",
    "> ..."
   ]
  },
  {
   "attachments": {},
   "cell_type": "markdown",
   "metadata": {},
   "source": [
    "## Carregamento das bibliotecas Python"
   ]
  },
  {
   "cell_type": "code",
   "execution_count": 359,
   "metadata": {},
   "outputs": [],
   "source": [
    "import pandas as pd\n",
    "import numpy as np\n",
    "from urllib.request import urlopen\n",
    "from bs4 import BeautifulSoup\n",
    "import seaborn as sns\n",
    "import matplotlib.pyplot as plt\n",
    "import plotly.express as px"
   ]
  },
  {
   "attachments": {},
   "cell_type": "markdown",
   "metadata": {},
   "source": [
    "## Coleta de Dados & Limpeza dos Dados\n",
    "> (Casos x Morte): https://news.google.com/covid19/map?hl=pt-BR&mid=%2Fm%2F015fr&gl=BR&ceid=BR%3Apt-419 (Dados atualizados em: 21/01/2023)\n",
    "\n",
    "> (Vacinação): https://especiais.g1.globo.com/bemestar/vacina/2021/mapa-brasil-vacina-covid/ (Dados atualizado em: 23/01/2023)"
   ]
  },
  {
   "attachments": {},
   "cell_type": "markdown",
   "metadata": {},
   "source": [
    "### Coletando dados de casos x mortes"
   ]
  },
  {
   "cell_type": "code",
   "execution_count": 360,
   "metadata": {},
   "outputs": [
    {
     "data": {
      "text/plain": [
       "[<tr class=\"sgXwHf wdLSAe YvL7re\" data-id=\"/m/01hd58\" jsaction=\"click:KoQL8\" jslog=\"110764; track:click\"><th class=\"l3HOY\" role=\"rowheader\" scope=\"row\"><div class=\"TWa0lb\"><div class=\"ggJ3df\" jsaction=\"JIbuQc:ROTNpb\" jslog=\"113725; track:click\"><button aria-label=\"Liberada\" class=\"VfPpkd-Bz112c-LgbsSe yHy1rc eT1oJ mN1ivc Vs1w5b\" data-disable-idom=\"true\" data-n-mid=\"/m/01hd58\" jsaction=\"click:cOuCgd; mousedown:UX7yZ; mouseup:lbsD7e; mouseenter:tfO1Yc; mouseleave:JywGue; touchstart:p6p2H; touchmove:FwuNnf; touchend:yfqBxc; touchcancel:JMtRjd; focus:AHmuwe; blur:O22p3e; contextmenu:mg9Pef;mlnRJb:fLiPzd;\" jscontroller=\"soHxf\"><div class=\"VfPpkd-Bz112c-Jh9lGc\" jsname=\"s3Eaab\"></div><div class=\"VfPpkd-Bz112c-J1Ukfc-LhBDec\"></div><span aria-hidden=\"true\" class=\"VfPpkd-kBDsod gsIK3e\"><svg class=\"Xa3RBb NMm5M\" focusable=\"false\" height=\"16\" viewbox=\"0 0 24 24\" width=\"16\"><path d=\"M0 0h24v24H0z\" fill=\"none\" stroke=\"#000\" stroke-opacity=\".008\" stroke-width=\"0\"></path><path d=\"M17 4v7l2 3v2h-6v5l-1 1-1-1v-5H5v-2l2-3V4c0-1.1.9-2 2-2h6c1.11 0 2 .89 2 2zM9 4v7.75L7.5 14h9L15 11.75V4H9z\"></path></svg></span></button></div><div class=\"pcAJd\">São Paulo</div></div></th><td class=\"l3HOY\">6.389.460</td><td class=\"l3HOY\">0</td><td class=\"l3HOY\"><img alt=\"Gráfico de tendências de 60 dias\" aria-label=\"Gráfico de tendências de 60 dias\" class=\"dt3Iuf zC7z7b nBjBX\" loading=\"lazy\" src=\"//www.gstatic.com/covid-trends/images/NC60/_m_01hd58.svg\"/><img alt=\"Gráfico de tendências de 60 dias\" aria-label=\"Gráfico de tendências de 60 dias\" class=\"dt3Iuf krHqHb nBjBX\" loading=\"lazy\" src=\"//www.gstatic.com/covid-trends/images/NC60/_m_01hd58_dark.svg\"/></td><td class=\"l3HOY\">145.099</td><td class=\"l3HOY\">178.178</td></tr>,\n",
       " <tr class=\"sgXwHf wdLSAe YvL7re\" data-id=\"/m/01gh6z\" jsaction=\"click:KoQL8\" jslog=\"110764; track:click\"><th class=\"l3HOY\" role=\"rowheader\" scope=\"row\"><div class=\"TWa0lb\"><div class=\"ggJ3df\" jsaction=\"JIbuQc:ROTNpb\" jslog=\"113725; track:click\"><button aria-label=\"Liberada\" class=\"VfPpkd-Bz112c-LgbsSe yHy1rc eT1oJ mN1ivc Vs1w5b\" data-disable-idom=\"true\" data-n-mid=\"/m/01gh6z\" jsaction=\"click:cOuCgd; mousedown:UX7yZ; mouseup:lbsD7e; mouseenter:tfO1Yc; mouseleave:JywGue; touchstart:p6p2H; touchmove:FwuNnf; touchend:yfqBxc; touchcancel:JMtRjd; focus:AHmuwe; blur:O22p3e; contextmenu:mg9Pef;mlnRJb:fLiPzd;\" jscontroller=\"soHxf\"><div class=\"VfPpkd-Bz112c-Jh9lGc\" jsname=\"s3Eaab\"></div><div class=\"VfPpkd-Bz112c-J1Ukfc-LhBDec\"></div><span aria-hidden=\"true\" class=\"VfPpkd-kBDsod gsIK3e\"><svg class=\"Xa3RBb NMm5M\" focusable=\"false\" height=\"16\" viewbox=\"0 0 24 24\" width=\"16\"><path d=\"M0 0h24v24H0z\" fill=\"none\" stroke=\"#000\" stroke-opacity=\".008\" stroke-width=\"0\"></path><path d=\"M17 4v7l2 3v2h-6v5l-1 1-1-1v-5H5v-2l2-3V4c0-1.1.9-2 2-2h6c1.11 0 2 .89 2 2zM9 4v7.75L7.5 14h9L15 11.75V4H9z\"></path></svg></span></button></div><div class=\"pcAJd\">Minas Gerais</div></div></th><td class=\"l3HOY\">4.122.029</td><td class=\"l3HOY\">0</td><td class=\"l3HOY\"><img alt=\"Gráfico de tendências de 60 dias\" aria-label=\"Gráfico de tendências de 60 dias\" class=\"dt3Iuf zC7z7b nBjBX\" loading=\"lazy\" src=\"//www.gstatic.com/covid-trends/images/NC60/_m_01gh6z.svg\"/><img alt=\"Gráfico de tendências de 60 dias\" aria-label=\"Gráfico de tendências de 60 dias\" class=\"dt3Iuf krHqHb nBjBX\" loading=\"lazy\" src=\"//www.gstatic.com/covid-trends/images/NC60/_m_01gh6z_dark.svg\"/></td><td class=\"l3HOY\">197.518</td><td class=\"l3HOY\">64.799</td></tr>]"
      ]
     },
     "execution_count": 360,
     "metadata": {},
     "output_type": "execute_result"
    }
   ],
   "source": [
    "html = urlopen('https://news.google.com/covid19/map?hl=pt-BR&mid=%2Fm%2F015fr&gl=BR&ceid=BR%3Apt-419')\n",
    "bs = BeautifulSoup(html.read(), 'html.parser')\n",
    "dados = bs.findAll('tr', {'class': 'sgXwHf wdLSAe YvL7re'})\n",
    "dados[:2]"
   ]
  },
  {
   "attachments": {},
   "cell_type": "markdown",
   "metadata": {},
   "source": [
    "> Criando DataFrame (Casos x Mortes)"
   ]
  },
  {
   "cell_type": "code",
   "execution_count": 361,
   "metadata": {},
   "outputs": [
    {
     "data": {
      "text/plain": [
       "[['São Paulo', '6.389.460', '0', '145.099', '178.178'],\n",
       " ['Minas Gerais', '4.122.029', '0', '197.518', '64.799'],\n",
       " ['Rio Grande do Sul', '2.940.791', '0', '260.558', '41.716'],\n",
       " ['Paraná', '2.904.979', '179', '262.142', '45.929'],\n",
       " ['Rio de Janeiro', '2.719.059', '0', '165.180', '76.636']]"
      ]
     },
     "execution_count": 361,
     "metadata": {},
     "output_type": "execute_result"
    }
   ],
   "source": [
    "new_data = []\n",
    "for d in dados:\n",
    "    data = []\n",
    "    td = []\n",
    "    data.append(d.find('div', {'class': 'pcAJd'}).get_text())\n",
    "    td = d.findAll('td', {'class': 'l3HOY'})\n",
    "    data.append(td[0].get_text())\n",
    "    data.append(td[1].get_text())\n",
    "    data.append(td[3].get_text())\n",
    "    data.append(td[4].get_text())\n",
    "    new_data.append(data)\n",
    "new_data[:5]"
   ]
  },
  {
   "cell_type": "code",
   "execution_count": 362,
   "metadata": {},
   "outputs": [
    {
     "data": {
      "text/html": [
       "<div>\n",
       "<style scoped>\n",
       "    .dataframe tbody tr th:only-of-type {\n",
       "        vertical-align: middle;\n",
       "    }\n",
       "\n",
       "    .dataframe tbody tr th {\n",
       "        vertical-align: top;\n",
       "    }\n",
       "\n",
       "    .dataframe thead th {\n",
       "        text-align: right;\n",
       "    }\n",
       "</style>\n",
       "<table border=\"1\" class=\"dataframe\">\n",
       "  <thead>\n",
       "    <tr style=\"text-align: right;\">\n",
       "      <th></th>\n",
       "      <th>0</th>\n",
       "      <th>1</th>\n",
       "      <th>2</th>\n",
       "      <th>3</th>\n",
       "      <th>4</th>\n",
       "    </tr>\n",
       "  </thead>\n",
       "  <tbody>\n",
       "    <tr>\n",
       "      <th>0</th>\n",
       "      <td>São Paulo</td>\n",
       "      <td>6.389.460</td>\n",
       "      <td>0</td>\n",
       "      <td>145.099</td>\n",
       "      <td>178.178</td>\n",
       "    </tr>\n",
       "    <tr>\n",
       "      <th>1</th>\n",
       "      <td>Minas Gerais</td>\n",
       "      <td>4.122.029</td>\n",
       "      <td>0</td>\n",
       "      <td>197.518</td>\n",
       "      <td>64.799</td>\n",
       "    </tr>\n",
       "    <tr>\n",
       "      <th>2</th>\n",
       "      <td>Rio Grande do Sul</td>\n",
       "      <td>2.940.791</td>\n",
       "      <td>0</td>\n",
       "      <td>260.558</td>\n",
       "      <td>41.716</td>\n",
       "    </tr>\n",
       "    <tr>\n",
       "      <th>3</th>\n",
       "      <td>Paraná</td>\n",
       "      <td>2.904.979</td>\n",
       "      <td>179</td>\n",
       "      <td>262.142</td>\n",
       "      <td>45.929</td>\n",
       "    </tr>\n",
       "    <tr>\n",
       "      <th>4</th>\n",
       "      <td>Rio de Janeiro</td>\n",
       "      <td>2.719.059</td>\n",
       "      <td>0</td>\n",
       "      <td>165.180</td>\n",
       "      <td>76.636</td>\n",
       "    </tr>\n",
       "  </tbody>\n",
       "</table>\n",
       "</div>"
      ],
      "text/plain": [
       "                   0          1    2        3        4\n",
       "0          São Paulo  6.389.460    0  145.099  178.178\n",
       "1       Minas Gerais  4.122.029    0  197.518   64.799\n",
       "2  Rio Grande do Sul  2.940.791    0  260.558   41.716\n",
       "3             Paraná  2.904.979  179  262.142   45.929\n",
       "4     Rio de Janeiro  2.719.059    0  165.180   76.636"
      ]
     },
     "execution_count": 362,
     "metadata": {},
     "output_type": "execute_result"
    }
   ],
   "source": [
    "df_casos = pd.DataFrame(new_data)\n",
    "df_casos.head()"
   ]
  },
  {
   "cell_type": "code",
   "execution_count": 363,
   "metadata": {},
   "outputs": [
    {
     "data": {
      "text/html": [
       "<div>\n",
       "<style scoped>\n",
       "    .dataframe tbody tr th:only-of-type {\n",
       "        vertical-align: middle;\n",
       "    }\n",
       "\n",
       "    .dataframe tbody tr th {\n",
       "        vertical-align: top;\n",
       "    }\n",
       "\n",
       "    .dataframe thead th {\n",
       "        text-align: right;\n",
       "    }\n",
       "</style>\n",
       "<table border=\"1\" class=\"dataframe\">\n",
       "  <thead>\n",
       "    <tr style=\"text-align: right;\">\n",
       "      <th></th>\n",
       "      <th>local</th>\n",
       "      <th>total_casos</th>\n",
       "      <th>novos_por_dia</th>\n",
       "      <th>a_cada_milhao</th>\n",
       "      <th>total_mortes</th>\n",
       "    </tr>\n",
       "  </thead>\n",
       "  <tbody>\n",
       "    <tr>\n",
       "      <th>0</th>\n",
       "      <td>São Paulo</td>\n",
       "      <td>6.389.460</td>\n",
       "      <td>0</td>\n",
       "      <td>145.099</td>\n",
       "      <td>178.178</td>\n",
       "    </tr>\n",
       "    <tr>\n",
       "      <th>1</th>\n",
       "      <td>Minas Gerais</td>\n",
       "      <td>4.122.029</td>\n",
       "      <td>0</td>\n",
       "      <td>197.518</td>\n",
       "      <td>64.799</td>\n",
       "    </tr>\n",
       "    <tr>\n",
       "      <th>2</th>\n",
       "      <td>Rio Grande do Sul</td>\n",
       "      <td>2.940.791</td>\n",
       "      <td>0</td>\n",
       "      <td>260.558</td>\n",
       "      <td>41.716</td>\n",
       "    </tr>\n",
       "    <tr>\n",
       "      <th>3</th>\n",
       "      <td>Paraná</td>\n",
       "      <td>2.904.979</td>\n",
       "      <td>179</td>\n",
       "      <td>262.142</td>\n",
       "      <td>45.929</td>\n",
       "    </tr>\n",
       "    <tr>\n",
       "      <th>4</th>\n",
       "      <td>Rio de Janeiro</td>\n",
       "      <td>2.719.059</td>\n",
       "      <td>0</td>\n",
       "      <td>165.180</td>\n",
       "      <td>76.636</td>\n",
       "    </tr>\n",
       "  </tbody>\n",
       "</table>\n",
       "</div>"
      ],
      "text/plain": [
       "               local total_casos novos_por_dia a_cada_milhao total_mortes\n",
       "0          São Paulo   6.389.460             0       145.099      178.178\n",
       "1       Minas Gerais   4.122.029             0       197.518       64.799\n",
       "2  Rio Grande do Sul   2.940.791             0       260.558       41.716\n",
       "3             Paraná   2.904.979           179       262.142       45.929\n",
       "4     Rio de Janeiro   2.719.059             0       165.180       76.636"
      ]
     },
     "execution_count": 363,
     "metadata": {},
     "output_type": "execute_result"
    }
   ],
   "source": [
    "df_casos = pd.DataFrame(new_data, columns=['local', 'total_casos', 'novos_por_dia', 'a_cada_milhao', 'total_mortes' ])\n",
    "df_casos.head()"
   ]
  },
  {
   "cell_type": "code",
   "execution_count": 364,
   "metadata": {},
   "outputs": [
    {
     "name": "stderr",
     "output_type": "stream",
     "text": [
      "/tmp/ipykernel_1028820/1065707230.py:1: FutureWarning:\n",
      "\n",
      "The default value of regex will change from True to False in a future version. In addition, single character regular expressions will *not* be treated as literal strings when regex=True.\n",
      "\n",
      "/tmp/ipykernel_1028820/1065707230.py:2: FutureWarning:\n",
      "\n",
      "The default value of regex will change from True to False in a future version. In addition, single character regular expressions will *not* be treated as literal strings when regex=True.\n",
      "\n",
      "/tmp/ipykernel_1028820/1065707230.py:4: FutureWarning:\n",
      "\n",
      "The default value of regex will change from True to False in a future version. In addition, single character regular expressions will *not* be treated as literal strings when regex=True.\n",
      "\n"
     ]
    }
   ],
   "source": [
    "df_casos['total_casos'] = df_casos['total_casos'].str.replace('.', '')\n",
    "df_casos['a_cada_milhao'] = df_casos['a_cada_milhao'].str.replace('.', '')\n",
    "df_casos['a_cada_milhao'] = df_casos['a_cada_milhao'].str.replace('Não há dados', '0')\n",
    "df_casos['total_mortes'] = df_casos['total_mortes'].str.replace('.', '')"
   ]
  },
  {
   "cell_type": "code",
   "execution_count": 365,
   "metadata": {},
   "outputs": [],
   "source": [
    "df_casos['total_casos'] = df_casos['total_casos'].astype('int64')\n",
    "df_casos['a_cada_milhao'] = df_casos['a_cada_milhao'].astype('int64')\n",
    "df_casos['total_mortes'] = df_casos['total_mortes'].astype('int64')"
   ]
  },
  {
   "cell_type": "code",
   "execution_count": 366,
   "metadata": {},
   "outputs": [],
   "source": [
    "df_casos.to_csv('csv/casosXmortes.csv')"
   ]
  },
  {
   "attachments": {},
   "cell_type": "markdown",
   "metadata": {},
   "source": [
    "### Coletando dados das vascinas"
   ]
  },
  {
   "attachments": {},
   "cell_type": "markdown",
   "metadata": {},
   "source": [
    "> Devido à dificuldade de interação sobre os dados via url, copiei manualmente o html da página e extrair os dados necessários."
   ]
  },
  {
   "cell_type": "code",
   "execution_count": 367,
   "metadata": {},
   "outputs": [
    {
     "data": {
      "text/html": [
       "<div>\n",
       "<style scoped>\n",
       "    .dataframe tbody tr th:only-of-type {\n",
       "        vertical-align: middle;\n",
       "    }\n",
       "\n",
       "    .dataframe tbody tr th {\n",
       "        vertical-align: top;\n",
       "    }\n",
       "\n",
       "    .dataframe thead th {\n",
       "        text-align: right;\n",
       "    }\n",
       "</style>\n",
       "<table border=\"1\" class=\"dataframe\">\n",
       "  <thead>\n",
       "    <tr style=\"text-align: right;\">\n",
       "      <th></th>\n",
       "      <th>Estado</th>\n",
       "      <th>2ª doseou doseúnica(Unidades)</th>\n",
       "      <th>2ª doseou doseúnica(Em %)</th>\n",
       "      <th>Dose dereforço*(Unidades)</th>\n",
       "      <th>Dose dereforço*(Em %)</th>\n",
       "      <th>1ª dose(Unidade)</th>\n",
       "      <th>1ª dose(Em %)</th>\n",
       "      <th>Total devacinasaplicadas</th>\n",
       "    </tr>\n",
       "  </thead>\n",
       "  <tbody>\n",
       "    <tr>\n",
       "      <th>0</th>\n",
       "      <td>Acre</td>\n",
       "      <td>597.935</td>\n",
       "      <td>65,05%</td>\n",
       "      <td>284.813</td>\n",
       "      <td>30,99%</td>\n",
       "      <td>696.619</td>\n",
       "      <td>75,79%</td>\n",
       "      <td>1.280.931</td>\n",
       "    </tr>\n",
       "    <tr>\n",
       "      <th>1</th>\n",
       "      <td>Alagoas</td>\n",
       "      <td>2.355.718</td>\n",
       "      <td>69,73%</td>\n",
       "      <td>1.272.731</td>\n",
       "      <td>37,67%</td>\n",
       "      <td>2.642.076</td>\n",
       "      <td>78,21%</td>\n",
       "      <td>4.941.707</td>\n",
       "    </tr>\n",
       "    <tr>\n",
       "      <th>2</th>\n",
       "      <td>Amazonas</td>\n",
       "      <td>2.922.899</td>\n",
       "      <td>67,48%</td>\n",
       "      <td>1.691.944</td>\n",
       "      <td>39,06%</td>\n",
       "      <td>3.361.647</td>\n",
       "      <td>77,61%</td>\n",
       "      <td>6.209.127</td>\n",
       "    </tr>\n",
       "    <tr>\n",
       "      <th>3</th>\n",
       "      <td>Amapá</td>\n",
       "      <td>514.824</td>\n",
       "      <td>57,63%</td>\n",
       "      <td>269.240</td>\n",
       "      <td>30,14%</td>\n",
       "      <td>614.022</td>\n",
       "      <td>68,74%</td>\n",
       "      <td>1.111.564</td>\n",
       "    </tr>\n",
       "    <tr>\n",
       "      <th>4</th>\n",
       "      <td>Bahia</td>\n",
       "      <td>11.226.993</td>\n",
       "      <td>74,66%</td>\n",
       "      <td>7.710.188</td>\n",
       "      <td>51,28%</td>\n",
       "      <td>11.717.323</td>\n",
       "      <td>77,93%</td>\n",
       "      <td>22.679.938</td>\n",
       "    </tr>\n",
       "  </tbody>\n",
       "</table>\n",
       "</div>"
      ],
      "text/plain": [
       "     Estado 2ª doseou doseúnica(Unidades) 2ª doseou doseúnica(Em %)  \\\n",
       "0      Acre                       597.935                    65,05%   \n",
       "1   Alagoas                     2.355.718                    69,73%   \n",
       "2  Amazonas                     2.922.899                    67,48%   \n",
       "3     Amapá                       514.824                    57,63%   \n",
       "4     Bahia                    11.226.993                    74,66%   \n",
       "\n",
       "  Dose dereforço*(Unidades) Dose dereforço*(Em %) 1ª dose(Unidade)  \\\n",
       "0                   284.813                30,99%          696.619   \n",
       "1                 1.272.731                37,67%        2.642.076   \n",
       "2                 1.691.944                39,06%        3.361.647   \n",
       "3                   269.240                30,14%          614.022   \n",
       "4                 7.710.188                51,28%       11.717.323   \n",
       "\n",
       "  1ª dose(Em %) Total devacinasaplicadas  \n",
       "0        75,79%                1.280.931  \n",
       "1        78,21%                4.941.707  \n",
       "2        77,61%                6.209.127  \n",
       "3        68,74%                1.111.564  \n",
       "4        77,93%               22.679.938  "
      ]
     },
     "execution_count": 367,
     "metadata": {},
     "output_type": "execute_result"
    }
   ],
   "source": [
    "html = pd.read_html('html_vacinacao.html')\n",
    "df_vacinas = pd.DataFrame(html[0])\n",
    "df_vacinas.head()"
   ]
  },
  {
   "cell_type": "code",
   "execution_count": 368,
   "metadata": {},
   "outputs": [
    {
     "name": "stderr",
     "output_type": "stream",
     "text": [
      "/tmp/ipykernel_1028820/3013469470.py:1: FutureWarning:\n",
      "\n",
      "The default value of regex will change from True to False in a future version. In addition, single character regular expressions will *not* be treated as literal strings when regex=True.\n",
      "\n",
      "/tmp/ipykernel_1028820/3013469470.py:6: FutureWarning:\n",
      "\n",
      "The default value of regex will change from True to False in a future version. In addition, single character regular expressions will *not* be treated as literal strings when regex=True.\n",
      "\n",
      "/tmp/ipykernel_1028820/3013469470.py:11: FutureWarning:\n",
      "\n",
      "The default value of regex will change from True to False in a future version. In addition, single character regular expressions will *not* be treated as literal strings when regex=True.\n",
      "\n",
      "/tmp/ipykernel_1028820/3013469470.py:16: FutureWarning:\n",
      "\n",
      "The default value of regex will change from True to False in a future version. In addition, single character regular expressions will *not* be treated as literal strings when regex=True.\n",
      "\n"
     ]
    }
   ],
   "source": [
    "df_vacinas['2ª doseou doseúnica(Unidades)'] = df_vacinas['2ª doseou doseúnica(Unidades)'].str.replace('.', '')\n",
    "df_vacinas['2ª doseou doseúnica(Unidades)'] = df_vacinas['2ª doseou doseúnica(Unidades)'].astype('int64')\n",
    "df_vacinas['2ª doseou doseúnica(Em %)'] = df_vacinas['2ª doseou doseúnica(Em %)'].str.replace(',', '.')\n",
    "df_vacinas['2ª doseou doseúnica(Em %)'] = df_vacinas['2ª doseou doseúnica(Em %)'].str.replace('%', '')\n",
    "df_vacinas['2ª doseou doseúnica(Em %)'] = df_vacinas['2ª doseou doseúnica(Em %)'].astype(float)\n",
    "df_vacinas['Dose dereforço*(Unidades)'] = df_vacinas['Dose dereforço*(Unidades)'].str.replace('.', '')\n",
    "df_vacinas['Dose dereforço*(Unidades)'] = df_vacinas['Dose dereforço*(Unidades)'].astype('int64')\n",
    "df_vacinas['Dose dereforço*(Em %)'] = df_vacinas['Dose dereforço*(Em %)'].str.replace(',', '.')\n",
    "df_vacinas['Dose dereforço*(Em %)'] = df_vacinas['Dose dereforço*(Em %)'].str.replace('%', '')\n",
    "df_vacinas['Dose dereforço*(Em %)'] = df_vacinas['Dose dereforço*(Em %)'].astype(float)\n",
    "df_vacinas['1ª dose(Unidade)'] = df_vacinas['1ª dose(Unidade)'].str.replace('.', '')\n",
    "df_vacinas['1ª dose(Unidade)'] = df_vacinas['1ª dose(Unidade)'].astype('int64')\n",
    "df_vacinas['1ª dose(Em %)'] = df_vacinas['1ª dose(Em %)'].str.replace(',', '.')\n",
    "df_vacinas['1ª dose(Em %)'] = df_vacinas['1ª dose(Em %)'].str.replace('%', '')\n",
    "df_vacinas['1ª dose(Em %)'] = df_vacinas['1ª dose(Em %)'].astype(float)\n",
    "df_vacinas['Total devacinasaplicadas'] = df_vacinas['Total devacinasaplicadas'].str.replace('.', '')\n",
    "df_vacinas['Total devacinasaplicadas'] = df_vacinas['Total devacinasaplicadas'].astype('int64')"
   ]
  },
  {
   "cell_type": "code",
   "execution_count": 369,
   "metadata": {},
   "outputs": [],
   "source": [
    "df_vacinas = df_vacinas.rename(columns={'Estado': 'estado', \n",
    "                   '2ª doseou doseúnica(Unidades)': '2ª dose', \n",
    "                   '2ª doseou doseúnica(Unidades)': '2ª dose',\n",
    "                   '2ª doseou doseúnica(Em %)': '2ª dose %',\n",
    "                   'Dose dereforço*(Unidades)': 'reforco',\n",
    "                   'Dose dereforço*(Em %)': 'reforco %',\n",
    "                   '1ª dose(Unidade)': '1ª dose',\n",
    "                   '1ª dose(Em %)': '1ª dose %',\n",
    "                   'Total devacinasaplicadas': 'total vascinas'\n",
    "                   }) "
   ]
  },
  {
   "cell_type": "code",
   "execution_count": 370,
   "metadata": {},
   "outputs": [
    {
     "data": {
      "text/html": [
       "<div>\n",
       "<style scoped>\n",
       "    .dataframe tbody tr th:only-of-type {\n",
       "        vertical-align: middle;\n",
       "    }\n",
       "\n",
       "    .dataframe tbody tr th {\n",
       "        vertical-align: top;\n",
       "    }\n",
       "\n",
       "    .dataframe thead th {\n",
       "        text-align: right;\n",
       "    }\n",
       "</style>\n",
       "<table border=\"1\" class=\"dataframe\">\n",
       "  <thead>\n",
       "    <tr style=\"text-align: right;\">\n",
       "      <th></th>\n",
       "      <th>estado</th>\n",
       "      <th>2ª dose</th>\n",
       "      <th>2ª dose %</th>\n",
       "      <th>reforco</th>\n",
       "      <th>reforco %</th>\n",
       "      <th>1ª dose</th>\n",
       "      <th>1ª dose %</th>\n",
       "      <th>total vascinas</th>\n",
       "    </tr>\n",
       "  </thead>\n",
       "  <tbody>\n",
       "    <tr>\n",
       "      <th>0</th>\n",
       "      <td>Acre</td>\n",
       "      <td>597935</td>\n",
       "      <td>65.05</td>\n",
       "      <td>284813</td>\n",
       "      <td>30.99</td>\n",
       "      <td>696619</td>\n",
       "      <td>75.79</td>\n",
       "      <td>1280931</td>\n",
       "    </tr>\n",
       "    <tr>\n",
       "      <th>1</th>\n",
       "      <td>Alagoas</td>\n",
       "      <td>2355718</td>\n",
       "      <td>69.73</td>\n",
       "      <td>1272731</td>\n",
       "      <td>37.67</td>\n",
       "      <td>2642076</td>\n",
       "      <td>78.21</td>\n",
       "      <td>4941707</td>\n",
       "    </tr>\n",
       "    <tr>\n",
       "      <th>2</th>\n",
       "      <td>Amazonas</td>\n",
       "      <td>2922899</td>\n",
       "      <td>67.48</td>\n",
       "      <td>1691944</td>\n",
       "      <td>39.06</td>\n",
       "      <td>3361647</td>\n",
       "      <td>77.61</td>\n",
       "      <td>6209127</td>\n",
       "    </tr>\n",
       "    <tr>\n",
       "      <th>3</th>\n",
       "      <td>Amapá</td>\n",
       "      <td>514824</td>\n",
       "      <td>57.63</td>\n",
       "      <td>269240</td>\n",
       "      <td>30.14</td>\n",
       "      <td>614022</td>\n",
       "      <td>68.74</td>\n",
       "      <td>1111564</td>\n",
       "    </tr>\n",
       "    <tr>\n",
       "      <th>4</th>\n",
       "      <td>Bahia</td>\n",
       "      <td>11226993</td>\n",
       "      <td>74.66</td>\n",
       "      <td>7710188</td>\n",
       "      <td>51.28</td>\n",
       "      <td>11717323</td>\n",
       "      <td>77.93</td>\n",
       "      <td>22679938</td>\n",
       "    </tr>\n",
       "  </tbody>\n",
       "</table>\n",
       "</div>"
      ],
      "text/plain": [
       "     estado   2ª dose  2ª dose %  reforco  reforco %   1ª dose  1ª dose %  \\\n",
       "0      Acre    597935      65.05   284813      30.99    696619      75.79   \n",
       "1   Alagoas   2355718      69.73  1272731      37.67   2642076      78.21   \n",
       "2  Amazonas   2922899      67.48  1691944      39.06   3361647      77.61   \n",
       "3     Amapá    514824      57.63   269240      30.14    614022      68.74   \n",
       "4     Bahia  11226993      74.66  7710188      51.28  11717323      77.93   \n",
       "\n",
       "   total vascinas  \n",
       "0         1280931  \n",
       "1         4941707  \n",
       "2         6209127  \n",
       "3         1111564  \n",
       "4        22679938  "
      ]
     },
     "execution_count": 370,
     "metadata": {},
     "output_type": "execute_result"
    }
   ],
   "source": [
    "df_vacinas.head()"
   ]
  },
  {
   "cell_type": "code",
   "execution_count": 371,
   "metadata": {},
   "outputs": [],
   "source": [
    "df_vacinas.to_csv('csv/vascinas.csv')"
   ]
  },
  {
   "attachments": {},
   "cell_type": "markdown",
   "metadata": {},
   "source": [
    "### Coletando dados da população"
   ]
  },
  {
   "cell_type": "code",
   "execution_count": 372,
   "metadata": {},
   "outputs": [],
   "source": [
    "html = urlopen('https://www.amunes.org.br/noticia/ler/173/ibge-divulga-nova-estimativa-populacional-dos-estados-e-municipios')\n",
    "bs = BeautifulSoup(html.read(), 'html.parser')\n",
    "populacao = bs.findAll('tr')"
   ]
  },
  {
   "cell_type": "code",
   "execution_count": 373,
   "metadata": {},
   "outputs": [],
   "source": [
    "tabela = []\n",
    "for t in range(len(populacao)):\n",
    "    tabela.append(populacao[t])"
   ]
  },
  {
   "cell_type": "code",
   "execution_count": 374,
   "metadata": {},
   "outputs": [
    {
     "name": "stderr",
     "output_type": "stream",
     "text": [
      "/usr/lib/python3/dist-packages/pandas/core/internals/construction.py:540: VisibleDeprecationWarning:\n",
      "\n",
      "Creating an ndarray from ragged nested sequences (which is a list-or-tuple of lists-or-tuples-or ndarrays with different lengths or shapes) is deprecated. If you meant to do this, you must specify 'dtype=object' when creating the ndarray.\n",
      "\n"
     ]
    }
   ],
   "source": [
    "df_populacao = pd.DataFrame(tabela)\n",
    "df_populacao.drop(index=([0, 1]), inplace=True)\n",
    "df_populacao = df_populacao.reset_index()\n",
    "df_populacao.drop(columns=['index'], inplace=True)"
   ]
  },
  {
   "cell_type": "code",
   "execution_count": 375,
   "metadata": {},
   "outputs": [
    {
     "data": {
      "text/html": [
       "<div>\n",
       "<style scoped>\n",
       "    .dataframe tbody tr th:only-of-type {\n",
       "        vertical-align: middle;\n",
       "    }\n",
       "\n",
       "    .dataframe tbody tr th {\n",
       "        vertical-align: top;\n",
       "    }\n",
       "\n",
       "    .dataframe thead th {\n",
       "        text-align: right;\n",
       "    }\n",
       "</style>\n",
       "<table border=\"1\" class=\"dataframe\">\n",
       "  <thead>\n",
       "    <tr style=\"text-align: right;\">\n",
       "      <th></th>\n",
       "      <th>0</th>\n",
       "      <th>1</th>\n",
       "    </tr>\n",
       "  </thead>\n",
       "  <tbody>\n",
       "    <tr>\n",
       "      <th>0</th>\n",
       "      <td>São Paulo</td>\n",
       "      <td>43.663.672</td>\n",
       "    </tr>\n",
       "    <tr>\n",
       "      <th>1</th>\n",
       "      <td>Minas Gerais</td>\n",
       "      <td>20.593.366</td>\n",
       "    </tr>\n",
       "    <tr>\n",
       "      <th>2</th>\n",
       "      <td>Rio de Janeiro</td>\n",
       "      <td>16.369.178</td>\n",
       "    </tr>\n",
       "    <tr>\n",
       "      <th>3</th>\n",
       "      <td>Espírito Santo</td>\n",
       "      <td>3.839.363</td>\n",
       "    </tr>\n",
       "    <tr>\n",
       "      <th>4</th>\n",
       "      <td>Região Nordeste</td>\n",
       "      <td></td>\n",
       "    </tr>\n",
       "  </tbody>\n",
       "</table>\n",
       "</div>"
      ],
      "text/plain": [
       "                 0           1\n",
       "0        São Paulo  43.663.672\n",
       "1     Minas Gerais  20.593.366\n",
       "2   Rio de Janeiro  16.369.178\n",
       "3   Espírito Santo   3.839.363\n",
       "4  Região Nordeste            "
      ]
     },
     "execution_count": 375,
     "metadata": {},
     "output_type": "execute_result"
    }
   ],
   "source": [
    "for i in range(len(df_populacao[0])):\n",
    "    df_populacao[0][i] = df_populacao[0][i].get_text()\n",
    "    df_populacao[1][i] = df_populacao[1][i].get_text()\n",
    "df_populacao.head()"
   ]
  },
  {
   "cell_type": "code",
   "execution_count": 376,
   "metadata": {},
   "outputs": [
    {
     "name": "stderr",
     "output_type": "stream",
     "text": [
      "/tmp/ipykernel_1028820/1068304898.py:1: FutureWarning:\n",
      "\n",
      "The default value of regex will change from True to False in a future version. In addition, single character regular expressions will *not* be treated as literal strings when regex=True.\n",
      "\n"
     ]
    },
    {
     "data": {
      "text/html": [
       "<div>\n",
       "<style scoped>\n",
       "    .dataframe tbody tr th:only-of-type {\n",
       "        vertical-align: middle;\n",
       "    }\n",
       "\n",
       "    .dataframe tbody tr th {\n",
       "        vertical-align: top;\n",
       "    }\n",
       "\n",
       "    .dataframe thead th {\n",
       "        text-align: right;\n",
       "    }\n",
       "</style>\n",
       "<table border=\"1\" class=\"dataframe\">\n",
       "  <thead>\n",
       "    <tr style=\"text-align: right;\">\n",
       "      <th></th>\n",
       "      <th>0</th>\n",
       "      <th>1</th>\n",
       "    </tr>\n",
       "  </thead>\n",
       "  <tbody>\n",
       "    <tr>\n",
       "      <th>0</th>\n",
       "      <td>São Paulo</td>\n",
       "      <td>43663672</td>\n",
       "    </tr>\n",
       "    <tr>\n",
       "      <th>1</th>\n",
       "      <td>Minas Gerais</td>\n",
       "      <td>20593366</td>\n",
       "    </tr>\n",
       "    <tr>\n",
       "      <th>2</th>\n",
       "      <td>Rio de Janeiro</td>\n",
       "      <td>16369178</td>\n",
       "    </tr>\n",
       "    <tr>\n",
       "      <th>3</th>\n",
       "      <td>Espírito Santo</td>\n",
       "      <td>3839363</td>\n",
       "    </tr>\n",
       "    <tr>\n",
       "      <th>4</th>\n",
       "      <td>Região Nordeste</td>\n",
       "      <td></td>\n",
       "    </tr>\n",
       "  </tbody>\n",
       "</table>\n",
       "</div>"
      ],
      "text/plain": [
       "                 0         1\n",
       "0        São Paulo  43663672\n",
       "1     Minas Gerais  20593366\n",
       "2   Rio de Janeiro  16369178\n",
       "3   Espírito Santo   3839363\n",
       "4  Região Nordeste          "
      ]
     },
     "execution_count": 376,
     "metadata": {},
     "output_type": "execute_result"
    }
   ],
   "source": [
    "df_populacao[1] = df_populacao[1].str.replace('.', '')\n",
    "df_populacao = df_populacao.fillna(0)\n",
    "df_populacao.head()"
   ]
  },
  {
   "cell_type": "code",
   "execution_count": 377,
   "metadata": {},
   "outputs": [],
   "source": [
    "for i in range(len(df_populacao[0])):\n",
    "    if df_populacao[1][i] == '' or df_populacao[1][i] == ' ':\n",
    "        df_populacao[1][i] = 0"
   ]
  },
  {
   "cell_type": "code",
   "execution_count": 378,
   "metadata": {},
   "outputs": [
    {
     "data": {
      "text/html": [
       "<div>\n",
       "<style scoped>\n",
       "    .dataframe tbody tr th:only-of-type {\n",
       "        vertical-align: middle;\n",
       "    }\n",
       "\n",
       "    .dataframe tbody tr th {\n",
       "        vertical-align: top;\n",
       "    }\n",
       "\n",
       "    .dataframe thead th {\n",
       "        text-align: right;\n",
       "    }\n",
       "</style>\n",
       "<table border=\"1\" class=\"dataframe\">\n",
       "  <thead>\n",
       "    <tr style=\"text-align: right;\">\n",
       "      <th></th>\n",
       "      <th>0</th>\n",
       "      <th>1</th>\n",
       "    </tr>\n",
       "  </thead>\n",
       "  <tbody>\n",
       "    <tr>\n",
       "      <th>0</th>\n",
       "      <td>São Paulo</td>\n",
       "      <td>43663672</td>\n",
       "    </tr>\n",
       "    <tr>\n",
       "      <th>1</th>\n",
       "      <td>Minas Gerais</td>\n",
       "      <td>20593366</td>\n",
       "    </tr>\n",
       "    <tr>\n",
       "      <th>2</th>\n",
       "      <td>Rio de Janeiro</td>\n",
       "      <td>16369178</td>\n",
       "    </tr>\n",
       "    <tr>\n",
       "      <th>3</th>\n",
       "      <td>Espírito Santo</td>\n",
       "      <td>3839363</td>\n",
       "    </tr>\n",
       "    <tr>\n",
       "      <th>4</th>\n",
       "      <td>Região Nordeste</td>\n",
       "      <td>0</td>\n",
       "    </tr>\n",
       "  </tbody>\n",
       "</table>\n",
       "</div>"
      ],
      "text/plain": [
       "                 0         1\n",
       "0        São Paulo  43663672\n",
       "1     Minas Gerais  20593366\n",
       "2   Rio de Janeiro  16369178\n",
       "3   Espírito Santo   3839363\n",
       "4  Região Nordeste         0"
      ]
     },
     "execution_count": 378,
     "metadata": {},
     "output_type": "execute_result"
    }
   ],
   "source": [
    "df_populacao[1] = df_populacao[1].astype('int64')\n",
    "df_populacao.head()"
   ]
  },
  {
   "cell_type": "code",
   "execution_count": 379,
   "metadata": {},
   "outputs": [
    {
     "data": {
      "text/html": [
       "<div>\n",
       "<style scoped>\n",
       "    .dataframe tbody tr th:only-of-type {\n",
       "        vertical-align: middle;\n",
       "    }\n",
       "\n",
       "    .dataframe tbody tr th {\n",
       "        vertical-align: top;\n",
       "    }\n",
       "\n",
       "    .dataframe thead th {\n",
       "        text-align: right;\n",
       "    }\n",
       "</style>\n",
       "<table border=\"1\" class=\"dataframe\">\n",
       "  <thead>\n",
       "    <tr style=\"text-align: right;\">\n",
       "      <th></th>\n",
       "      <th>0</th>\n",
       "      <th>1</th>\n",
       "    </tr>\n",
       "  </thead>\n",
       "  <tbody>\n",
       "    <tr>\n",
       "      <th>0</th>\n",
       "      <td>São Paulo</td>\n",
       "      <td>43663672</td>\n",
       "    </tr>\n",
       "    <tr>\n",
       "      <th>1</th>\n",
       "      <td>Minas Gerais</td>\n",
       "      <td>20593366</td>\n",
       "    </tr>\n",
       "    <tr>\n",
       "      <th>2</th>\n",
       "      <td>Rio de Janeiro</td>\n",
       "      <td>16369178</td>\n",
       "    </tr>\n",
       "    <tr>\n",
       "      <th>3</th>\n",
       "      <td>Espírito Santo</td>\n",
       "      <td>3839363</td>\n",
       "    </tr>\n",
       "    <tr>\n",
       "      <th>5</th>\n",
       "      <td>Bahia</td>\n",
       "      <td>15044127</td>\n",
       "    </tr>\n",
       "  </tbody>\n",
       "</table>\n",
       "</div>"
      ],
      "text/plain": [
       "                0         1\n",
       "0       São Paulo  43663672\n",
       "1    Minas Gerais  20593366\n",
       "2  Rio de Janeiro  16369178\n",
       "3  Espírito Santo   3839363\n",
       "5           Bahia  15044127"
      ]
     },
     "execution_count": 379,
     "metadata": {},
     "output_type": "execute_result"
    }
   ],
   "source": [
    "df_populacao = df_populacao[df_populacao[1] != 0]\n",
    "df_populacao.head()"
   ]
  },
  {
   "cell_type": "code",
   "execution_count": 380,
   "metadata": {},
   "outputs": [
    {
     "data": {
      "text/html": [
       "<div>\n",
       "<style scoped>\n",
       "    .dataframe tbody tr th:only-of-type {\n",
       "        vertical-align: middle;\n",
       "    }\n",
       "\n",
       "    .dataframe tbody tr th {\n",
       "        vertical-align: top;\n",
       "    }\n",
       "\n",
       "    .dataframe thead th {\n",
       "        text-align: right;\n",
       "    }\n",
       "</style>\n",
       "<table border=\"1\" class=\"dataframe\">\n",
       "  <thead>\n",
       "    <tr style=\"text-align: right;\">\n",
       "      <th></th>\n",
       "      <th>estado</th>\n",
       "      <th>populacao</th>\n",
       "    </tr>\n",
       "  </thead>\n",
       "  <tbody>\n",
       "    <tr>\n",
       "      <th>0</th>\n",
       "      <td>Acre</td>\n",
       "      <td>776463</td>\n",
       "    </tr>\n",
       "    <tr>\n",
       "      <th>1</th>\n",
       "      <td>Alagoas</td>\n",
       "      <td>3300938</td>\n",
       "    </tr>\n",
       "    <tr>\n",
       "      <th>2</th>\n",
       "      <td>Amapá</td>\n",
       "      <td>734995</td>\n",
       "    </tr>\n",
       "    <tr>\n",
       "      <th>3</th>\n",
       "      <td>Amazonas</td>\n",
       "      <td>3807923</td>\n",
       "    </tr>\n",
       "    <tr>\n",
       "      <th>4</th>\n",
       "      <td>Bahia</td>\n",
       "      <td>15044127</td>\n",
       "    </tr>\n",
       "  </tbody>\n",
       "</table>\n",
       "</div>"
      ],
      "text/plain": [
       "     estado  populacao\n",
       "0      Acre     776463\n",
       "1   Alagoas    3300938\n",
       "2     Amapá     734995\n",
       "3  Amazonas    3807923\n",
       "4     Bahia   15044127"
      ]
     },
     "execution_count": 380,
     "metadata": {},
     "output_type": "execute_result"
    }
   ],
   "source": [
    "df_populacao = df_populacao.reset_index()\n",
    "df_populacao.drop(columns=['index'], inplace=True)\n",
    "df_populacao = df_populacao.rename(columns={df_populacao.columns[0]:'estado'})\n",
    "df_populacao = df_populacao.rename(columns={df_populacao.columns[1]:'populacao'})\n",
    "\n",
    "df_populacao = df_populacao.sort_values(by=['estado'])\n",
    "df_populacao = df_populacao.reset_index()\n",
    "df_populacao.drop(columns=['index'], inplace=True)\n",
    "df_populacao.head()"
   ]
  },
  {
   "cell_type": "code",
   "execution_count": 381,
   "metadata": {},
   "outputs": [],
   "source": [
    "df_populacao.to_csv('csv/populacao.csv')"
   ]
  },
  {
   "attachments": {},
   "cell_type": "markdown",
   "metadata": {},
   "source": [
    "### Carregando todas as tabelas para merge"
   ]
  },
  {
   "cell_type": "code",
   "execution_count": 382,
   "metadata": {},
   "outputs": [],
   "source": [
    "casos = pd.read_csv('csv/casosXmortes.csv')\n",
    "vascinas = pd.read_csv('csv/vascinas.csv')\n",
    "populacao = pd.read_csv('csv/populacao.csv')"
   ]
  },
  {
   "cell_type": "code",
   "execution_count": 383,
   "metadata": {},
   "outputs": [
    {
     "data": {
      "text/html": [
       "<div>\n",
       "<style scoped>\n",
       "    .dataframe tbody tr th:only-of-type {\n",
       "        vertical-align: middle;\n",
       "    }\n",
       "\n",
       "    .dataframe tbody tr th {\n",
       "        vertical-align: top;\n",
       "    }\n",
       "\n",
       "    .dataframe thead th {\n",
       "        text-align: right;\n",
       "    }\n",
       "</style>\n",
       "<table border=\"1\" class=\"dataframe\">\n",
       "  <thead>\n",
       "    <tr style=\"text-align: right;\">\n",
       "      <th></th>\n",
       "      <th>Unnamed: 0</th>\n",
       "      <th>estado</th>\n",
       "      <th>populacao</th>\n",
       "    </tr>\n",
       "  </thead>\n",
       "  <tbody>\n",
       "    <tr>\n",
       "      <th>0</th>\n",
       "      <td>0</td>\n",
       "      <td>Acre</td>\n",
       "      <td>776463</td>\n",
       "    </tr>\n",
       "  </tbody>\n",
       "</table>\n",
       "</div>"
      ],
      "text/plain": [
       "   Unnamed: 0 estado  populacao\n",
       "0           0   Acre     776463"
      ]
     },
     "execution_count": 383,
     "metadata": {},
     "output_type": "execute_result"
    }
   ],
   "source": [
    "populacao.head(1)"
   ]
  },
  {
   "cell_type": "code",
   "execution_count": 384,
   "metadata": {},
   "outputs": [
    {
     "data": {
      "text/html": [
       "<div>\n",
       "<style scoped>\n",
       "    .dataframe tbody tr th:only-of-type {\n",
       "        vertical-align: middle;\n",
       "    }\n",
       "\n",
       "    .dataframe tbody tr th {\n",
       "        vertical-align: top;\n",
       "    }\n",
       "\n",
       "    .dataframe thead th {\n",
       "        text-align: right;\n",
       "    }\n",
       "</style>\n",
       "<table border=\"1\" class=\"dataframe\">\n",
       "  <thead>\n",
       "    <tr style=\"text-align: right;\">\n",
       "      <th></th>\n",
       "      <th>Unnamed: 0</th>\n",
       "      <th>local</th>\n",
       "      <th>total_casos</th>\n",
       "      <th>novos_por_dia</th>\n",
       "      <th>a_cada_milhao</th>\n",
       "      <th>total_mortes</th>\n",
       "    </tr>\n",
       "  </thead>\n",
       "  <tbody>\n",
       "    <tr>\n",
       "      <th>0</th>\n",
       "      <td>0</td>\n",
       "      <td>São Paulo</td>\n",
       "      <td>6389460</td>\n",
       "      <td>0</td>\n",
       "      <td>145099</td>\n",
       "      <td>178178</td>\n",
       "    </tr>\n",
       "  </tbody>\n",
       "</table>\n",
       "</div>"
      ],
      "text/plain": [
       "   Unnamed: 0      local  total_casos  novos_por_dia  a_cada_milhao  \\\n",
       "0           0  São Paulo      6389460              0         145099   \n",
       "\n",
       "   total_mortes  \n",
       "0        178178  "
      ]
     },
     "execution_count": 384,
     "metadata": {},
     "output_type": "execute_result"
    }
   ],
   "source": [
    "casos.head(1)"
   ]
  },
  {
   "cell_type": "code",
   "execution_count": 385,
   "metadata": {},
   "outputs": [
    {
     "data": {
      "text/html": [
       "<div>\n",
       "<style scoped>\n",
       "    .dataframe tbody tr th:only-of-type {\n",
       "        vertical-align: middle;\n",
       "    }\n",
       "\n",
       "    .dataframe tbody tr th {\n",
       "        vertical-align: top;\n",
       "    }\n",
       "\n",
       "    .dataframe thead th {\n",
       "        text-align: right;\n",
       "    }\n",
       "</style>\n",
       "<table border=\"1\" class=\"dataframe\">\n",
       "  <thead>\n",
       "    <tr style=\"text-align: right;\">\n",
       "      <th></th>\n",
       "      <th>Unnamed: 0</th>\n",
       "      <th>estado</th>\n",
       "      <th>2ª dose</th>\n",
       "      <th>2ª dose %</th>\n",
       "      <th>reforco</th>\n",
       "      <th>reforco %</th>\n",
       "      <th>1ª dose</th>\n",
       "      <th>1ª dose %</th>\n",
       "      <th>total vascinas</th>\n",
       "    </tr>\n",
       "  </thead>\n",
       "  <tbody>\n",
       "    <tr>\n",
       "      <th>0</th>\n",
       "      <td>0</td>\n",
       "      <td>Acre</td>\n",
       "      <td>597935</td>\n",
       "      <td>65.05</td>\n",
       "      <td>284813</td>\n",
       "      <td>30.99</td>\n",
       "      <td>696619</td>\n",
       "      <td>75.79</td>\n",
       "      <td>1280931</td>\n",
       "    </tr>\n",
       "  </tbody>\n",
       "</table>\n",
       "</div>"
      ],
      "text/plain": [
       "   Unnamed: 0 estado  2ª dose  2ª dose %  reforco  reforco %  1ª dose  \\\n",
       "0           0   Acre   597935      65.05   284813      30.99   696619   \n",
       "\n",
       "   1ª dose %  total vascinas  \n",
       "0      75.79         1280931  "
      ]
     },
     "execution_count": 385,
     "metadata": {},
     "output_type": "execute_result"
    }
   ],
   "source": [
    "vascinas.head(1)"
   ]
  },
  {
   "cell_type": "code",
   "execution_count": 386,
   "metadata": {},
   "outputs": [
    {
     "data": {
      "text/html": [
       "<div>\n",
       "<style scoped>\n",
       "    .dataframe tbody tr th:only-of-type {\n",
       "        vertical-align: middle;\n",
       "    }\n",
       "\n",
       "    .dataframe tbody tr th {\n",
       "        vertical-align: top;\n",
       "    }\n",
       "\n",
       "    .dataframe thead th {\n",
       "        text-align: right;\n",
       "    }\n",
       "</style>\n",
       "<table border=\"1\" class=\"dataframe\">\n",
       "  <thead>\n",
       "    <tr style=\"text-align: right;\">\n",
       "      <th></th>\n",
       "      <th>Unnamed: 0_x</th>\n",
       "      <th>estado</th>\n",
       "      <th>populacao</th>\n",
       "      <th>Unnamed: 0_y</th>\n",
       "      <th>local</th>\n",
       "      <th>total_casos</th>\n",
       "      <th>novos_por_dia</th>\n",
       "      <th>a_cada_milhao</th>\n",
       "      <th>total_mortes</th>\n",
       "    </tr>\n",
       "  </thead>\n",
       "  <tbody>\n",
       "    <tr>\n",
       "      <th>0</th>\n",
       "      <td>0</td>\n",
       "      <td>Acre</td>\n",
       "      <td>776463</td>\n",
       "      <td>26</td>\n",
       "      <td>Acre</td>\n",
       "      <td>160113</td>\n",
       "      <td>2</td>\n",
       "      <td>202649</td>\n",
       "      <td>2041</td>\n",
       "    </tr>\n",
       "    <tr>\n",
       "      <th>1</th>\n",
       "      <td>1</td>\n",
       "      <td>Alagoas</td>\n",
       "      <td>3300938</td>\n",
       "      <td>23</td>\n",
       "      <td>Alagoas</td>\n",
       "      <td>336822</td>\n",
       "      <td>11</td>\n",
       "      <td>101400</td>\n",
       "      <td>7230</td>\n",
       "    </tr>\n",
       "    <tr>\n",
       "      <th>2</th>\n",
       "      <td>2</td>\n",
       "      <td>Amapá</td>\n",
       "      <td>734995</td>\n",
       "      <td>24</td>\n",
       "      <td>Amapá</td>\n",
       "      <td>183667</td>\n",
       "      <td>0</td>\n",
       "      <td>244563</td>\n",
       "      <td>2167</td>\n",
       "    </tr>\n",
       "    <tr>\n",
       "      <th>3</th>\n",
       "      <td>3</td>\n",
       "      <td>Amazonas</td>\n",
       "      <td>3807923</td>\n",
       "      <td>15</td>\n",
       "      <td>Amazonas</td>\n",
       "      <td>625274</td>\n",
       "      <td>3</td>\n",
       "      <td>161413</td>\n",
       "      <td>14421</td>\n",
       "    </tr>\n",
       "    <tr>\n",
       "      <th>4</th>\n",
       "      <td>4</td>\n",
       "      <td>Bahia</td>\n",
       "      <td>15044127</td>\n",
       "      <td>7</td>\n",
       "      <td>Bahia</td>\n",
       "      <td>1783601</td>\n",
       "      <td>16</td>\n",
       "      <td>117908</td>\n",
       "      <td>31353</td>\n",
       "    </tr>\n",
       "  </tbody>\n",
       "</table>\n",
       "</div>"
      ],
      "text/plain": [
       "   Unnamed: 0_x    estado  populacao  Unnamed: 0_y     local  total_casos  \\\n",
       "0             0      Acre     776463            26      Acre       160113   \n",
       "1             1   Alagoas    3300938            23   Alagoas       336822   \n",
       "2             2     Amapá     734995            24     Amapá       183667   \n",
       "3             3  Amazonas    3807923            15  Amazonas       625274   \n",
       "4             4     Bahia   15044127             7     Bahia      1783601   \n",
       "\n",
       "   novos_por_dia  a_cada_milhao  total_mortes  \n",
       "0              2         202649          2041  \n",
       "1             11         101400          7230  \n",
       "2              0         244563          2167  \n",
       "3              3         161413         14421  \n",
       "4             16         117908         31353  "
      ]
     },
     "execution_count": 386,
     "metadata": {},
     "output_type": "execute_result"
    }
   ],
   "source": [
    "df = populacao.merge(casos, left_on='estado', right_on='local')\n",
    "df.head()"
   ]
  },
  {
   "cell_type": "code",
   "execution_count": 387,
   "metadata": {},
   "outputs": [],
   "source": [
    "df.drop(columns=['Unnamed: 0_x', 'Unnamed: 0_y', 'local'], inplace=True)"
   ]
  },
  {
   "cell_type": "code",
   "execution_count": 388,
   "metadata": {},
   "outputs": [
    {
     "data": {
      "text/html": [
       "<div>\n",
       "<style scoped>\n",
       "    .dataframe tbody tr th:only-of-type {\n",
       "        vertical-align: middle;\n",
       "    }\n",
       "\n",
       "    .dataframe tbody tr th {\n",
       "        vertical-align: top;\n",
       "    }\n",
       "\n",
       "    .dataframe thead th {\n",
       "        text-align: right;\n",
       "    }\n",
       "</style>\n",
       "<table border=\"1\" class=\"dataframe\">\n",
       "  <thead>\n",
       "    <tr style=\"text-align: right;\">\n",
       "      <th></th>\n",
       "      <th>estado</th>\n",
       "      <th>populacao</th>\n",
       "      <th>total_casos</th>\n",
       "      <th>novos_por_dia</th>\n",
       "      <th>a_cada_milhao</th>\n",
       "      <th>total_mortes</th>\n",
       "      <th>Unnamed: 0</th>\n",
       "      <th>2ª dose</th>\n",
       "      <th>2ª dose %</th>\n",
       "      <th>reforco</th>\n",
       "      <th>reforco %</th>\n",
       "      <th>1ª dose</th>\n",
       "      <th>1ª dose %</th>\n",
       "      <th>total vascinas</th>\n",
       "    </tr>\n",
       "  </thead>\n",
       "  <tbody>\n",
       "    <tr>\n",
       "      <th>0</th>\n",
       "      <td>Acre</td>\n",
       "      <td>776463</td>\n",
       "      <td>160113</td>\n",
       "      <td>2</td>\n",
       "      <td>202649</td>\n",
       "      <td>2041</td>\n",
       "      <td>0</td>\n",
       "      <td>597935</td>\n",
       "      <td>65.05</td>\n",
       "      <td>284813</td>\n",
       "      <td>30.99</td>\n",
       "      <td>696619</td>\n",
       "      <td>75.79</td>\n",
       "      <td>1280931</td>\n",
       "    </tr>\n",
       "    <tr>\n",
       "      <th>1</th>\n",
       "      <td>Alagoas</td>\n",
       "      <td>3300938</td>\n",
       "      <td>336822</td>\n",
       "      <td>11</td>\n",
       "      <td>101400</td>\n",
       "      <td>7230</td>\n",
       "      <td>1</td>\n",
       "      <td>2355718</td>\n",
       "      <td>69.73</td>\n",
       "      <td>1272731</td>\n",
       "      <td>37.67</td>\n",
       "      <td>2642076</td>\n",
       "      <td>78.21</td>\n",
       "      <td>4941707</td>\n",
       "    </tr>\n",
       "    <tr>\n",
       "      <th>2</th>\n",
       "      <td>Amapá</td>\n",
       "      <td>734995</td>\n",
       "      <td>183667</td>\n",
       "      <td>0</td>\n",
       "      <td>244563</td>\n",
       "      <td>2167</td>\n",
       "      <td>3</td>\n",
       "      <td>514824</td>\n",
       "      <td>57.63</td>\n",
       "      <td>269240</td>\n",
       "      <td>30.14</td>\n",
       "      <td>614022</td>\n",
       "      <td>68.74</td>\n",
       "      <td>1111564</td>\n",
       "    </tr>\n",
       "    <tr>\n",
       "      <th>3</th>\n",
       "      <td>Amazonas</td>\n",
       "      <td>3807923</td>\n",
       "      <td>625274</td>\n",
       "      <td>3</td>\n",
       "      <td>161413</td>\n",
       "      <td>14421</td>\n",
       "      <td>2</td>\n",
       "      <td>2922899</td>\n",
       "      <td>67.48</td>\n",
       "      <td>1691944</td>\n",
       "      <td>39.06</td>\n",
       "      <td>3361647</td>\n",
       "      <td>77.61</td>\n",
       "      <td>6209127</td>\n",
       "    </tr>\n",
       "    <tr>\n",
       "      <th>4</th>\n",
       "      <td>Bahia</td>\n",
       "      <td>15044127</td>\n",
       "      <td>1783601</td>\n",
       "      <td>16</td>\n",
       "      <td>117908</td>\n",
       "      <td>31353</td>\n",
       "      <td>4</td>\n",
       "      <td>11226993</td>\n",
       "      <td>74.66</td>\n",
       "      <td>7710188</td>\n",
       "      <td>51.28</td>\n",
       "      <td>11717323</td>\n",
       "      <td>77.93</td>\n",
       "      <td>22679938</td>\n",
       "    </tr>\n",
       "  </tbody>\n",
       "</table>\n",
       "</div>"
      ],
      "text/plain": [
       "     estado  populacao  total_casos  novos_por_dia  a_cada_milhao  \\\n",
       "0      Acre     776463       160113              2         202649   \n",
       "1   Alagoas    3300938       336822             11         101400   \n",
       "2     Amapá     734995       183667              0         244563   \n",
       "3  Amazonas    3807923       625274              3         161413   \n",
       "4     Bahia   15044127      1783601             16         117908   \n",
       "\n",
       "   total_mortes  Unnamed: 0   2ª dose  2ª dose %  reforco  reforco %  \\\n",
       "0          2041           0    597935      65.05   284813      30.99   \n",
       "1          7230           1   2355718      69.73  1272731      37.67   \n",
       "2          2167           3    514824      57.63   269240      30.14   \n",
       "3         14421           2   2922899      67.48  1691944      39.06   \n",
       "4         31353           4  11226993      74.66  7710188      51.28   \n",
       "\n",
       "    1ª dose  1ª dose %  total vascinas  \n",
       "0    696619      75.79         1280931  \n",
       "1   2642076      78.21         4941707  \n",
       "2    614022      68.74         1111564  \n",
       "3   3361647      77.61         6209127  \n",
       "4  11717323      77.93        22679938  "
      ]
     },
     "execution_count": 388,
     "metadata": {},
     "output_type": "execute_result"
    }
   ],
   "source": [
    "df = df.merge(vascinas, left_on='estado', right_on='estado')\n",
    "df.head()"
   ]
  },
  {
   "cell_type": "code",
   "execution_count": 389,
   "metadata": {},
   "outputs": [
    {
     "data": {
      "text/html": [
       "<div>\n",
       "<style scoped>\n",
       "    .dataframe tbody tr th:only-of-type {\n",
       "        vertical-align: middle;\n",
       "    }\n",
       "\n",
       "    .dataframe tbody tr th {\n",
       "        vertical-align: top;\n",
       "    }\n",
       "\n",
       "    .dataframe thead th {\n",
       "        text-align: right;\n",
       "    }\n",
       "</style>\n",
       "<table border=\"1\" class=\"dataframe\">\n",
       "  <thead>\n",
       "    <tr style=\"text-align: right;\">\n",
       "      <th></th>\n",
       "      <th>estado</th>\n",
       "      <th>populacao</th>\n",
       "      <th>total_casos</th>\n",
       "      <th>novos_por_dia</th>\n",
       "      <th>a_cada_milhao</th>\n",
       "      <th>total_mortes</th>\n",
       "      <th>2ª dose</th>\n",
       "      <th>2ª dose %</th>\n",
       "      <th>reforco</th>\n",
       "      <th>reforco %</th>\n",
       "      <th>1ª dose</th>\n",
       "      <th>1ª dose %</th>\n",
       "      <th>total vascinas</th>\n",
       "    </tr>\n",
       "  </thead>\n",
       "  <tbody>\n",
       "    <tr>\n",
       "      <th>0</th>\n",
       "      <td>Acre</td>\n",
       "      <td>776463</td>\n",
       "      <td>160113</td>\n",
       "      <td>2</td>\n",
       "      <td>202649</td>\n",
       "      <td>2041</td>\n",
       "      <td>597935</td>\n",
       "      <td>65.05</td>\n",
       "      <td>284813</td>\n",
       "      <td>30.99</td>\n",
       "      <td>696619</td>\n",
       "      <td>75.79</td>\n",
       "      <td>1280931</td>\n",
       "    </tr>\n",
       "    <tr>\n",
       "      <th>1</th>\n",
       "      <td>Alagoas</td>\n",
       "      <td>3300938</td>\n",
       "      <td>336822</td>\n",
       "      <td>11</td>\n",
       "      <td>101400</td>\n",
       "      <td>7230</td>\n",
       "      <td>2355718</td>\n",
       "      <td>69.73</td>\n",
       "      <td>1272731</td>\n",
       "      <td>37.67</td>\n",
       "      <td>2642076</td>\n",
       "      <td>78.21</td>\n",
       "      <td>4941707</td>\n",
       "    </tr>\n",
       "    <tr>\n",
       "      <th>2</th>\n",
       "      <td>Amapá</td>\n",
       "      <td>734995</td>\n",
       "      <td>183667</td>\n",
       "      <td>0</td>\n",
       "      <td>244563</td>\n",
       "      <td>2167</td>\n",
       "      <td>514824</td>\n",
       "      <td>57.63</td>\n",
       "      <td>269240</td>\n",
       "      <td>30.14</td>\n",
       "      <td>614022</td>\n",
       "      <td>68.74</td>\n",
       "      <td>1111564</td>\n",
       "    </tr>\n",
       "    <tr>\n",
       "      <th>3</th>\n",
       "      <td>Amazonas</td>\n",
       "      <td>3807923</td>\n",
       "      <td>625274</td>\n",
       "      <td>3</td>\n",
       "      <td>161413</td>\n",
       "      <td>14421</td>\n",
       "      <td>2922899</td>\n",
       "      <td>67.48</td>\n",
       "      <td>1691944</td>\n",
       "      <td>39.06</td>\n",
       "      <td>3361647</td>\n",
       "      <td>77.61</td>\n",
       "      <td>6209127</td>\n",
       "    </tr>\n",
       "    <tr>\n",
       "      <th>4</th>\n",
       "      <td>Bahia</td>\n",
       "      <td>15044127</td>\n",
       "      <td>1783601</td>\n",
       "      <td>16</td>\n",
       "      <td>117908</td>\n",
       "      <td>31353</td>\n",
       "      <td>11226993</td>\n",
       "      <td>74.66</td>\n",
       "      <td>7710188</td>\n",
       "      <td>51.28</td>\n",
       "      <td>11717323</td>\n",
       "      <td>77.93</td>\n",
       "      <td>22679938</td>\n",
       "    </tr>\n",
       "  </tbody>\n",
       "</table>\n",
       "</div>"
      ],
      "text/plain": [
       "     estado  populacao  total_casos  novos_por_dia  a_cada_milhao  \\\n",
       "0      Acre     776463       160113              2         202649   \n",
       "1   Alagoas    3300938       336822             11         101400   \n",
       "2     Amapá     734995       183667              0         244563   \n",
       "3  Amazonas    3807923       625274              3         161413   \n",
       "4     Bahia   15044127      1783601             16         117908   \n",
       "\n",
       "   total_mortes   2ª dose  2ª dose %  reforco  reforco %   1ª dose  1ª dose %  \\\n",
       "0          2041    597935      65.05   284813      30.99    696619      75.79   \n",
       "1          7230   2355718      69.73  1272731      37.67   2642076      78.21   \n",
       "2          2167    514824      57.63   269240      30.14    614022      68.74   \n",
       "3         14421   2922899      67.48  1691944      39.06   3361647      77.61   \n",
       "4         31353  11226993      74.66  7710188      51.28  11717323      77.93   \n",
       "\n",
       "   total vascinas  \n",
       "0         1280931  \n",
       "1         4941707  \n",
       "2         1111564  \n",
       "3         6209127  \n",
       "4        22679938  "
      ]
     },
     "execution_count": 389,
     "metadata": {},
     "output_type": "execute_result"
    }
   ],
   "source": [
    "df.drop(columns=['Unnamed: 0'], inplace=True)\n",
    "df.head()"
   ]
  },
  {
   "cell_type": "code",
   "execution_count": 390,
   "metadata": {},
   "outputs": [],
   "source": [
    "df.to_csv('csv/df_covid_full.csv')"
   ]
  },
  {
   "attachments": {},
   "cell_type": "markdown",
   "metadata": {},
   "source": [
    "## Exploração dos Dados\n",
    "> ..."
   ]
  },
  {
   "cell_type": "code",
   "execution_count": 391,
   "metadata": {},
   "outputs": [
    {
     "data": {
      "text/html": [
       "<div>\n",
       "<style scoped>\n",
       "    .dataframe tbody tr th:only-of-type {\n",
       "        vertical-align: middle;\n",
       "    }\n",
       "\n",
       "    .dataframe tbody tr th {\n",
       "        vertical-align: top;\n",
       "    }\n",
       "\n",
       "    .dataframe thead th {\n",
       "        text-align: right;\n",
       "    }\n",
       "</style>\n",
       "<table border=\"1\" class=\"dataframe\">\n",
       "  <thead>\n",
       "    <tr style=\"text-align: right;\">\n",
       "      <th></th>\n",
       "      <th>Unnamed: 0</th>\n",
       "      <th>estado</th>\n",
       "      <th>populacao</th>\n",
       "      <th>total_casos</th>\n",
       "      <th>novos_por_dia</th>\n",
       "      <th>a_cada_milhao</th>\n",
       "      <th>total_mortes</th>\n",
       "      <th>2ª dose</th>\n",
       "      <th>2ª dose %</th>\n",
       "      <th>reforco</th>\n",
       "      <th>reforco %</th>\n",
       "      <th>1ª dose</th>\n",
       "      <th>1ª dose %</th>\n",
       "      <th>total vascinas</th>\n",
       "    </tr>\n",
       "  </thead>\n",
       "  <tbody>\n",
       "    <tr>\n",
       "      <th>0</th>\n",
       "      <td>0</td>\n",
       "      <td>Acre</td>\n",
       "      <td>776463</td>\n",
       "      <td>160113</td>\n",
       "      <td>2</td>\n",
       "      <td>202649</td>\n",
       "      <td>2041</td>\n",
       "      <td>597935</td>\n",
       "      <td>65.05</td>\n",
       "      <td>284813</td>\n",
       "      <td>30.99</td>\n",
       "      <td>696619</td>\n",
       "      <td>75.79</td>\n",
       "      <td>1280931</td>\n",
       "    </tr>\n",
       "    <tr>\n",
       "      <th>1</th>\n",
       "      <td>1</td>\n",
       "      <td>Alagoas</td>\n",
       "      <td>3300938</td>\n",
       "      <td>336822</td>\n",
       "      <td>11</td>\n",
       "      <td>101400</td>\n",
       "      <td>7230</td>\n",
       "      <td>2355718</td>\n",
       "      <td>69.73</td>\n",
       "      <td>1272731</td>\n",
       "      <td>37.67</td>\n",
       "      <td>2642076</td>\n",
       "      <td>78.21</td>\n",
       "      <td>4941707</td>\n",
       "    </tr>\n",
       "    <tr>\n",
       "      <th>2</th>\n",
       "      <td>2</td>\n",
       "      <td>Amapá</td>\n",
       "      <td>734995</td>\n",
       "      <td>183667</td>\n",
       "      <td>0</td>\n",
       "      <td>244563</td>\n",
       "      <td>2167</td>\n",
       "      <td>514824</td>\n",
       "      <td>57.63</td>\n",
       "      <td>269240</td>\n",
       "      <td>30.14</td>\n",
       "      <td>614022</td>\n",
       "      <td>68.74</td>\n",
       "      <td>1111564</td>\n",
       "    </tr>\n",
       "    <tr>\n",
       "      <th>3</th>\n",
       "      <td>3</td>\n",
       "      <td>Amazonas</td>\n",
       "      <td>3807923</td>\n",
       "      <td>625274</td>\n",
       "      <td>3</td>\n",
       "      <td>161413</td>\n",
       "      <td>14421</td>\n",
       "      <td>2922899</td>\n",
       "      <td>67.48</td>\n",
       "      <td>1691944</td>\n",
       "      <td>39.06</td>\n",
       "      <td>3361647</td>\n",
       "      <td>77.61</td>\n",
       "      <td>6209127</td>\n",
       "    </tr>\n",
       "    <tr>\n",
       "      <th>4</th>\n",
       "      <td>4</td>\n",
       "      <td>Bahia</td>\n",
       "      <td>15044127</td>\n",
       "      <td>1783601</td>\n",
       "      <td>16</td>\n",
       "      <td>117908</td>\n",
       "      <td>31353</td>\n",
       "      <td>11226993</td>\n",
       "      <td>74.66</td>\n",
       "      <td>7710188</td>\n",
       "      <td>51.28</td>\n",
       "      <td>11717323</td>\n",
       "      <td>77.93</td>\n",
       "      <td>22679938</td>\n",
       "    </tr>\n",
       "  </tbody>\n",
       "</table>\n",
       "</div>"
      ],
      "text/plain": [
       "   Unnamed: 0    estado  populacao  total_casos  novos_por_dia  a_cada_milhao  \\\n",
       "0           0      Acre     776463       160113              2         202649   \n",
       "1           1   Alagoas    3300938       336822             11         101400   \n",
       "2           2     Amapá     734995       183667              0         244563   \n",
       "3           3  Amazonas    3807923       625274              3         161413   \n",
       "4           4     Bahia   15044127      1783601             16         117908   \n",
       "\n",
       "   total_mortes   2ª dose  2ª dose %  reforco  reforco %   1ª dose  1ª dose %  \\\n",
       "0          2041    597935      65.05   284813      30.99    696619      75.79   \n",
       "1          7230   2355718      69.73  1272731      37.67   2642076      78.21   \n",
       "2          2167    514824      57.63   269240      30.14    614022      68.74   \n",
       "3         14421   2922899      67.48  1691944      39.06   3361647      77.61   \n",
       "4         31353  11226993      74.66  7710188      51.28  11717323      77.93   \n",
       "\n",
       "   total vascinas  \n",
       "0         1280931  \n",
       "1         4941707  \n",
       "2         1111564  \n",
       "3         6209127  \n",
       "4        22679938  "
      ]
     },
     "execution_count": 391,
     "metadata": {},
     "output_type": "execute_result"
    }
   ],
   "source": [
    "df = pd.read_csv('csv/df_covid_full.csv')\n",
    "df.head()"
   ]
  },
  {
   "cell_type": "code",
   "execution_count": 392,
   "metadata": {},
   "outputs": [],
   "source": [
    "df.drop(columns=['Unnamed: 0'], inplace=True)"
   ]
  },
  {
   "cell_type": "code",
   "execution_count": 393,
   "metadata": {},
   "outputs": [
    {
     "data": {
      "text/plain": [
       "(27, 13)"
      ]
     },
     "execution_count": 393,
     "metadata": {},
     "output_type": "execute_result"
    }
   ],
   "source": [
    "df.shape"
   ]
  },
  {
   "cell_type": "code",
   "execution_count": 394,
   "metadata": {},
   "outputs": [
    {
     "name": "stdout",
     "output_type": "stream",
     "text": [
      "<class 'pandas.core.frame.DataFrame'>\n",
      "RangeIndex: 27 entries, 0 to 26\n",
      "Data columns (total 13 columns):\n",
      " #   Column          Non-Null Count  Dtype  \n",
      "---  ------          --------------  -----  \n",
      " 0   estado          27 non-null     object \n",
      " 1   populacao       27 non-null     int64  \n",
      " 2   total_casos     27 non-null     int64  \n",
      " 3   novos_por_dia   27 non-null     int64  \n",
      " 4   a_cada_milhao   27 non-null     int64  \n",
      " 5   total_mortes    27 non-null     int64  \n",
      " 6   2ª dose         27 non-null     int64  \n",
      " 7   2ª dose %       27 non-null     float64\n",
      " 8   reforco         27 non-null     int64  \n",
      " 9   reforco %       27 non-null     float64\n",
      " 10  1ª dose         27 non-null     int64  \n",
      " 11  1ª dose %       27 non-null     float64\n",
      " 12  total vascinas  27 non-null     int64  \n",
      "dtypes: float64(3), int64(9), object(1)\n",
      "memory usage: 2.9+ KB\n"
     ]
    }
   ],
   "source": [
    "df.info()"
   ]
  },
  {
   "cell_type": "code",
   "execution_count": 395,
   "metadata": {},
   "outputs": [
    {
     "data": {
      "text/plain": [
       "estado            0\n",
       "populacao         0\n",
       "total_casos       0\n",
       "novos_por_dia     0\n",
       "a_cada_milhao     0\n",
       "total_mortes      0\n",
       "2ª dose           0\n",
       "2ª dose %         0\n",
       "reforco           0\n",
       "reforco %         0\n",
       "1ª dose           0\n",
       "1ª dose %         0\n",
       "total vascinas    0\n",
       "dtype: int64"
      ]
     },
     "execution_count": 395,
     "metadata": {},
     "output_type": "execute_result"
    }
   ],
   "source": [
    "df.isnull().sum()"
   ]
  },
  {
   "cell_type": "code",
   "execution_count": 396,
   "metadata": {},
   "outputs": [
    {
     "data": {
      "text/plain": [
       "estado            0\n",
       "populacao         0\n",
       "total_casos       0\n",
       "novos_por_dia     0\n",
       "a_cada_milhao     0\n",
       "total_mortes      0\n",
       "2ª dose           0\n",
       "2ª dose %         0\n",
       "reforco           0\n",
       "reforco %         0\n",
       "1ª dose           0\n",
       "1ª dose %         0\n",
       "total vascinas    0\n",
       "dtype: int64"
      ]
     },
     "execution_count": 396,
     "metadata": {},
     "output_type": "execute_result"
    }
   ],
   "source": [
    "df.isna().sum()"
   ]
  },
  {
   "cell_type": "code",
   "execution_count": 397,
   "metadata": {},
   "outputs": [
    {
     "data": {
      "text/html": [
       "<div>\n",
       "<style scoped>\n",
       "    .dataframe tbody tr th:only-of-type {\n",
       "        vertical-align: middle;\n",
       "    }\n",
       "\n",
       "    .dataframe tbody tr th {\n",
       "        vertical-align: top;\n",
       "    }\n",
       "\n",
       "    .dataframe thead th {\n",
       "        text-align: right;\n",
       "    }\n",
       "</style>\n",
       "<table border=\"1\" class=\"dataframe\">\n",
       "  <thead>\n",
       "    <tr style=\"text-align: right;\">\n",
       "      <th></th>\n",
       "      <th>estado</th>\n",
       "      <th>populacao</th>\n",
       "      <th>total_casos</th>\n",
       "      <th>novos_por_dia</th>\n",
       "      <th>a_cada_milhao</th>\n",
       "      <th>total_mortes</th>\n",
       "      <th>2ª dose</th>\n",
       "      <th>2ª dose %</th>\n",
       "      <th>reforco</th>\n",
       "      <th>reforco %</th>\n",
       "      <th>1ª dose</th>\n",
       "      <th>1ª dose %</th>\n",
       "      <th>total vascinas</th>\n",
       "    </tr>\n",
       "  </thead>\n",
       "  <tbody>\n",
       "    <tr>\n",
       "      <th>0</th>\n",
       "      <td>Acre</td>\n",
       "      <td>776463</td>\n",
       "      <td>160113</td>\n",
       "      <td>2</td>\n",
       "      <td>202649</td>\n",
       "      <td>2041</td>\n",
       "      <td>597935</td>\n",
       "      <td>65.05</td>\n",
       "      <td>284813</td>\n",
       "      <td>30.99</td>\n",
       "      <td>696619</td>\n",
       "      <td>75.79</td>\n",
       "      <td>1280931</td>\n",
       "    </tr>\n",
       "  </tbody>\n",
       "</table>\n",
       "</div>"
      ],
      "text/plain": [
       "  estado  populacao  total_casos  novos_por_dia  a_cada_milhao  total_mortes  \\\n",
       "0   Acre     776463       160113              2         202649          2041   \n",
       "\n",
       "   2ª dose  2ª dose %  reforco  reforco %  1ª dose  1ª dose %  total vascinas  \n",
       "0   597935      65.05   284813      30.99   696619      75.79         1280931  "
      ]
     },
     "execution_count": 397,
     "metadata": {},
     "output_type": "execute_result"
    }
   ],
   "source": [
    "df.head(1)"
   ]
  },
  {
   "cell_type": "code",
   "execution_count": 398,
   "metadata": {},
   "outputs": [
    {
     "data": {
      "text/plain": [
       "27"
      ]
     },
     "execution_count": 398,
     "metadata": {},
     "output_type": "execute_result"
    }
   ],
   "source": [
    "df['estado'].nunique()"
   ]
  },
  {
   "cell_type": "code",
   "execution_count": 399,
   "metadata": {},
   "outputs": [
    {
     "data": {
      "text/html": [
       "<div>\n",
       "<style scoped>\n",
       "    .dataframe tbody tr th:only-of-type {\n",
       "        vertical-align: middle;\n",
       "    }\n",
       "\n",
       "    .dataframe tbody tr th {\n",
       "        vertical-align: top;\n",
       "    }\n",
       "\n",
       "    .dataframe thead th {\n",
       "        text-align: right;\n",
       "    }\n",
       "</style>\n",
       "<table border=\"1\" class=\"dataframe\">\n",
       "  <thead>\n",
       "    <tr style=\"text-align: right;\">\n",
       "      <th></th>\n",
       "      <th>populacao</th>\n",
       "      <th>total_casos</th>\n",
       "      <th>novos_por_dia</th>\n",
       "      <th>a_cada_milhao</th>\n",
       "      <th>total_mortes</th>\n",
       "      <th>2ª dose</th>\n",
       "      <th>2ª dose %</th>\n",
       "      <th>reforco</th>\n",
       "      <th>reforco %</th>\n",
       "      <th>1ª dose</th>\n",
       "      <th>1ª dose %</th>\n",
       "      <th>total vascinas</th>\n",
       "    </tr>\n",
       "  </thead>\n",
       "  <tbody>\n",
       "    <tr>\n",
       "      <th>count</th>\n",
       "      <td>2.700000e+01</td>\n",
       "      <td>2.700000e+01</td>\n",
       "      <td>27.000000</td>\n",
       "      <td>27.000000</td>\n",
       "      <td>27.000000</td>\n",
       "      <td>2.700000e+01</td>\n",
       "      <td>27.000000</td>\n",
       "      <td>2.700000e+01</td>\n",
       "      <td>27.000000</td>\n",
       "      <td>2.700000e+01</td>\n",
       "      <td>27.000000</td>\n",
       "      <td>2.700000e+01</td>\n",
       "    </tr>\n",
       "    <tr>\n",
       "      <th>mean</th>\n",
       "      <td>7.445656e+06</td>\n",
       "      <td>1.359928e+06</td>\n",
       "      <td>20.444444</td>\n",
       "      <td>194400.518519</td>\n",
       "      <td>25787.296296</td>\n",
       "      <td>6.402540e+06</td>\n",
       "      <td>74.587778</td>\n",
       "      <td>4.005109e+06</td>\n",
       "      <td>43.677037</td>\n",
       "      <td>6.763174e+06</td>\n",
       "      <td>81.102222</td>\n",
       "      <td>1.299957e+07</td>\n",
       "    </tr>\n",
       "    <tr>\n",
       "      <th>std</th>\n",
       "      <td>8.865548e+06</td>\n",
       "      <td>1.428339e+06</td>\n",
       "      <td>48.513546</td>\n",
       "      <td>84051.495754</td>\n",
       "      <td>35694.002474</td>\n",
       "      <td>8.294569e+06</td>\n",
       "      <td>9.188774</td>\n",
       "      <td>5.713347e+06</td>\n",
       "      <td>11.341412</td>\n",
       "      <td>8.543063e+06</td>\n",
       "      <td>6.492131</td>\n",
       "      <td>1.661247e+07</td>\n",
       "    </tr>\n",
       "    <tr>\n",
       "      <th>min</th>\n",
       "      <td>4.880720e+05</td>\n",
       "      <td>1.601130e+05</td>\n",
       "      <td>0.000000</td>\n",
       "      <td>0.000000</td>\n",
       "      <td>2041.000000</td>\n",
       "      <td>3.632790e+05</td>\n",
       "      <td>54.200000</td>\n",
       "      <td>1.400780e+05</td>\n",
       "      <td>20.900000</td>\n",
       "      <td>4.616320e+05</td>\n",
       "      <td>68.740000</td>\n",
       "      <td>8.125770e+05</td>\n",
       "    </tr>\n",
       "    <tr>\n",
       "      <th>25%</th>\n",
       "      <td>2.688514e+06</td>\n",
       "      <td>4.487605e+05</td>\n",
       "      <td>0.000000</td>\n",
       "      <td>138119.000000</td>\n",
       "      <td>7735.000000</td>\n",
       "      <td>2.296065e+06</td>\n",
       "      <td>67.835000</td>\n",
       "      <td>1.217002e+06</td>\n",
       "      <td>32.645000</td>\n",
       "      <td>2.415816e+06</td>\n",
       "      <td>77.565000</td>\n",
       "      <td>4.592874e+06</td>\n",
       "    </tr>\n",
       "    <tr>\n",
       "      <th>50%</th>\n",
       "      <td>3.839363e+06</td>\n",
       "      <td>8.645730e+05</td>\n",
       "      <td>0.000000</td>\n",
       "      <td>178462.000000</td>\n",
       "      <td>14421.000000</td>\n",
       "      <td>3.227524e+06</td>\n",
       "      <td>77.510000</td>\n",
       "      <td>1.970073e+06</td>\n",
       "      <td>46.440000</td>\n",
       "      <td>3.469351e+06</td>\n",
       "      <td>81.110000</td>\n",
       "      <td>6.585652e+06</td>\n",
       "    </tr>\n",
       "    <tr>\n",
       "      <th>75%</th>\n",
       "      <td>8.993563e+06</td>\n",
       "      <td>1.823943e+06</td>\n",
       "      <td>11.500000</td>\n",
       "      <td>261350.000000</td>\n",
       "      <td>27990.500000</td>\n",
       "      <td>8.033822e+06</td>\n",
       "      <td>81.015000</td>\n",
       "      <td>4.955648e+06</td>\n",
       "      <td>52.290000</td>\n",
       "      <td>8.411306e+06</td>\n",
       "      <td>85.480000</td>\n",
       "      <td>1.623270e+07</td>\n",
       "    </tr>\n",
       "    <tr>\n",
       "      <th>max</th>\n",
       "      <td>4.366367e+07</td>\n",
       "      <td>6.389460e+06</td>\n",
       "      <td>179.000000</td>\n",
       "      <td>365608.000000</td>\n",
       "      <td>178178.000000</td>\n",
       "      <td>4.192301e+07</td>\n",
       "      <td>89.200000</td>\n",
       "      <td>2.863198e+07</td>\n",
       "      <td>60.920000</td>\n",
       "      <td>4.310590e+07</td>\n",
       "      <td>94.770000</td>\n",
       "      <td>8.374280e+07</td>\n",
       "    </tr>\n",
       "  </tbody>\n",
       "</table>\n",
       "</div>"
      ],
      "text/plain": [
       "          populacao   total_casos  novos_por_dia  a_cada_milhao  \\\n",
       "count  2.700000e+01  2.700000e+01      27.000000      27.000000   \n",
       "mean   7.445656e+06  1.359928e+06      20.444444  194400.518519   \n",
       "std    8.865548e+06  1.428339e+06      48.513546   84051.495754   \n",
       "min    4.880720e+05  1.601130e+05       0.000000       0.000000   \n",
       "25%    2.688514e+06  4.487605e+05       0.000000  138119.000000   \n",
       "50%    3.839363e+06  8.645730e+05       0.000000  178462.000000   \n",
       "75%    8.993563e+06  1.823943e+06      11.500000  261350.000000   \n",
       "max    4.366367e+07  6.389460e+06     179.000000  365608.000000   \n",
       "\n",
       "        total_mortes       2ª dose  2ª dose %       reforco  reforco %  \\\n",
       "count      27.000000  2.700000e+01  27.000000  2.700000e+01  27.000000   \n",
       "mean    25787.296296  6.402540e+06  74.587778  4.005109e+06  43.677037   \n",
       "std     35694.002474  8.294569e+06   9.188774  5.713347e+06  11.341412   \n",
       "min      2041.000000  3.632790e+05  54.200000  1.400780e+05  20.900000   \n",
       "25%      7735.000000  2.296065e+06  67.835000  1.217002e+06  32.645000   \n",
       "50%     14421.000000  3.227524e+06  77.510000  1.970073e+06  46.440000   \n",
       "75%     27990.500000  8.033822e+06  81.015000  4.955648e+06  52.290000   \n",
       "max    178178.000000  4.192301e+07  89.200000  2.863198e+07  60.920000   \n",
       "\n",
       "            1ª dose  1ª dose %  total vascinas  \n",
       "count  2.700000e+01  27.000000    2.700000e+01  \n",
       "mean   6.763174e+06  81.102222    1.299957e+07  \n",
       "std    8.543063e+06   6.492131    1.661247e+07  \n",
       "min    4.616320e+05  68.740000    8.125770e+05  \n",
       "25%    2.415816e+06  77.565000    4.592874e+06  \n",
       "50%    3.469351e+06  81.110000    6.585652e+06  \n",
       "75%    8.411306e+06  85.480000    1.623270e+07  \n",
       "max    4.310590e+07  94.770000    8.374280e+07  "
      ]
     },
     "execution_count": 399,
     "metadata": {},
     "output_type": "execute_result"
    }
   ],
   "source": [
    "df.describe()"
   ]
  },
  {
   "cell_type": "code",
   "execution_count": 400,
   "metadata": {},
   "outputs": [
    {
     "data": {
      "text/plain": [
       "1"
      ]
     },
     "execution_count": 400,
     "metadata": {},
     "output_type": "execute_result"
    }
   ],
   "source": [
    "(df['a_cada_milhao'] == 0).sum()"
   ]
  },
  {
   "cell_type": "code",
   "execution_count": 401,
   "metadata": {},
   "outputs": [
    {
     "data": {
      "text/plain": [
       "estado            0\n",
       "populacao         0\n",
       "total_casos       0\n",
       "novos_por_dia     0\n",
       "a_cada_milhao     1\n",
       "total_mortes      0\n",
       "2ª dose           0\n",
       "2ª dose %         0\n",
       "reforco           0\n",
       "reforco %         0\n",
       "1ª dose           0\n",
       "1ª dose %         0\n",
       "total vascinas    0\n",
       "dtype: int64"
      ]
     },
     "execution_count": 401,
     "metadata": {},
     "output_type": "execute_result"
    }
   ],
   "source": [
    "df['a_cada_milhao'].replace(0, np.nan, inplace=True)\n",
    "df.isnull().sum()"
   ]
  },
  {
   "cell_type": "code",
   "execution_count": 402,
   "metadata": {},
   "outputs": [
    {
     "data": {
      "text/plain": [
       "0"
      ]
     },
     "execution_count": 402,
     "metadata": {},
     "output_type": "execute_result"
    }
   ],
   "source": [
    "df['a_cada_milhao'].fillna(value=df['a_cada_milhao'].mean(), inplace=True)\n",
    "df.isnull().sum().sum()"
   ]
  },
  {
   "cell_type": "code",
   "execution_count": 403,
   "metadata": {},
   "outputs": [
    {
     "data": {
      "text/plain": [
       "estado            0\n",
       "populacao         0\n",
       "total_casos       0\n",
       "novos_por_dia     0\n",
       "a_cada_milhao     0\n",
       "total_mortes      0\n",
       "2ª dose           0\n",
       "2ª dose %         0\n",
       "reforco           0\n",
       "reforco %         0\n",
       "1ª dose           0\n",
       "1ª dose %         0\n",
       "total vascinas    0\n",
       "dtype: int64"
      ]
     },
     "execution_count": 403,
     "metadata": {},
     "output_type": "execute_result"
    }
   ],
   "source": [
    "df['a_cada_milhao'].replace(0, np.nan, inplace=True)\n",
    "df.isnull().sum()"
   ]
  },
  {
   "cell_type": "code",
   "execution_count": 404,
   "metadata": {},
   "outputs": [
    {
     "data": {
      "text/html": [
       "<div>\n",
       "<style scoped>\n",
       "    .dataframe tbody tr th:only-of-type {\n",
       "        vertical-align: middle;\n",
       "    }\n",
       "\n",
       "    .dataframe tbody tr th {\n",
       "        vertical-align: top;\n",
       "    }\n",
       "\n",
       "    .dataframe thead th {\n",
       "        text-align: right;\n",
       "    }\n",
       "</style>\n",
       "<table border=\"1\" class=\"dataframe\">\n",
       "  <thead>\n",
       "    <tr style=\"text-align: right;\">\n",
       "      <th></th>\n",
       "      <th>estado</th>\n",
       "      <th>populacao</th>\n",
       "      <th>total_casos</th>\n",
       "      <th>novos_por_dia</th>\n",
       "      <th>a_cada_milhao</th>\n",
       "      <th>total_mortes</th>\n",
       "      <th>2ª dose</th>\n",
       "      <th>2ª dose %</th>\n",
       "      <th>reforco</th>\n",
       "      <th>reforco %</th>\n",
       "      <th>1ª dose</th>\n",
       "      <th>1ª dose %</th>\n",
       "      <th>total vascinas</th>\n",
       "    </tr>\n",
       "  </thead>\n",
       "  <tbody>\n",
       "    <tr>\n",
       "      <th>0</th>\n",
       "      <td>Acre</td>\n",
       "      <td>776463</td>\n",
       "      <td>160113</td>\n",
       "      <td>2</td>\n",
       "      <td>202649.0</td>\n",
       "      <td>2041</td>\n",
       "      <td>597935</td>\n",
       "      <td>65.05</td>\n",
       "      <td>284813</td>\n",
       "      <td>30.99</td>\n",
       "      <td>696619</td>\n",
       "      <td>75.79</td>\n",
       "      <td>1280931</td>\n",
       "    </tr>\n",
       "    <tr>\n",
       "      <th>1</th>\n",
       "      <td>Alagoas</td>\n",
       "      <td>3300938</td>\n",
       "      <td>336822</td>\n",
       "      <td>11</td>\n",
       "      <td>101400.0</td>\n",
       "      <td>7230</td>\n",
       "      <td>2355718</td>\n",
       "      <td>69.73</td>\n",
       "      <td>1272731</td>\n",
       "      <td>37.67</td>\n",
       "      <td>2642076</td>\n",
       "      <td>78.21</td>\n",
       "      <td>4941707</td>\n",
       "    </tr>\n",
       "    <tr>\n",
       "      <th>2</th>\n",
       "      <td>Amapá</td>\n",
       "      <td>734995</td>\n",
       "      <td>183667</td>\n",
       "      <td>0</td>\n",
       "      <td>244563.0</td>\n",
       "      <td>2167</td>\n",
       "      <td>514824</td>\n",
       "      <td>57.63</td>\n",
       "      <td>269240</td>\n",
       "      <td>30.14</td>\n",
       "      <td>614022</td>\n",
       "      <td>68.74</td>\n",
       "      <td>1111564</td>\n",
       "    </tr>\n",
       "    <tr>\n",
       "      <th>3</th>\n",
       "      <td>Amazonas</td>\n",
       "      <td>3807923</td>\n",
       "      <td>625274</td>\n",
       "      <td>3</td>\n",
       "      <td>161413.0</td>\n",
       "      <td>14421</td>\n",
       "      <td>2922899</td>\n",
       "      <td>67.48</td>\n",
       "      <td>1691944</td>\n",
       "      <td>39.06</td>\n",
       "      <td>3361647</td>\n",
       "      <td>77.61</td>\n",
       "      <td>6209127</td>\n",
       "    </tr>\n",
       "    <tr>\n",
       "      <th>4</th>\n",
       "      <td>Bahia</td>\n",
       "      <td>15044127</td>\n",
       "      <td>1783601</td>\n",
       "      <td>16</td>\n",
       "      <td>117908.0</td>\n",
       "      <td>31353</td>\n",
       "      <td>11226993</td>\n",
       "      <td>74.66</td>\n",
       "      <td>7710188</td>\n",
       "      <td>51.28</td>\n",
       "      <td>11717323</td>\n",
       "      <td>77.93</td>\n",
       "      <td>22679938</td>\n",
       "    </tr>\n",
       "  </tbody>\n",
       "</table>\n",
       "</div>"
      ],
      "text/plain": [
       "     estado  populacao  total_casos  novos_por_dia  a_cada_milhao  \\\n",
       "0      Acre     776463       160113              2       202649.0   \n",
       "1   Alagoas    3300938       336822             11       101400.0   \n",
       "2     Amapá     734995       183667              0       244563.0   \n",
       "3  Amazonas    3807923       625274              3       161413.0   \n",
       "4     Bahia   15044127      1783601             16       117908.0   \n",
       "\n",
       "   total_mortes   2ª dose  2ª dose %  reforco  reforco %   1ª dose  1ª dose %  \\\n",
       "0          2041    597935      65.05   284813      30.99    696619      75.79   \n",
       "1          7230   2355718      69.73  1272731      37.67   2642076      78.21   \n",
       "2          2167    514824      57.63   269240      30.14    614022      68.74   \n",
       "3         14421   2922899      67.48  1691944      39.06   3361647      77.61   \n",
       "4         31353  11226993      74.66  7710188      51.28  11717323      77.93   \n",
       "\n",
       "   total vascinas  \n",
       "0         1280931  \n",
       "1         4941707  \n",
       "2         1111564  \n",
       "3         6209127  \n",
       "4        22679938  "
      ]
     },
     "execution_count": 404,
     "metadata": {},
     "output_type": "execute_result"
    }
   ],
   "source": [
    "df.head()"
   ]
  },
  {
   "cell_type": "code",
   "execution_count": 405,
   "metadata": {},
   "outputs": [
    {
     "data": {
      "text/plain": [
       "<seaborn.axisgrid.FacetGrid at 0x7fa62d479270>"
      ]
     },
     "execution_count": 405,
     "metadata": {},
     "output_type": "execute_result"
    },
    {
     "data": {
      "image/png": "[encoded data removed]",
      "text/plain": [
       "<Figure size 500x500 with 1 Axes>"
      ]
     },
     "metadata": {},
     "output_type": "display_data"
    }
   ],
   "source": [
    "ax = sns.lmplot(data = df, x = 'total_casos', y = 'total_mortes')\n",
    "ax.set(title = 'total_casos vs total_mortes')"
   ]
  },
  {
   "cell_type": "code",
   "execution_count": 406,
   "metadata": {},
   "outputs": [
    {
     "data": {
      "text/plain": [
       "<seaborn.axisgrid.FacetGrid at 0x7fa62cc9f8b0>"
      ]
     },
     "execution_count": 406,
     "metadata": {},
     "output_type": "execute_result"
    },
    {
     "data": {
      "image/png": "[encoded data removed]",
      "text/plain": [
       "<Figure size 500x500 with 1 Axes>"
      ]
     },
     "metadata": {},
     "output_type": "display_data"
    }
   ],
   "source": [
    "ax = sns.lmplot(data = df, x = '2ª dose', y = 'total_mortes')\n",
    "ax.set(title = '2ª dose vs total_mortes')"
   ]
  },
  {
   "cell_type": "code",
   "execution_count": 407,
   "metadata": {},
   "outputs": [
    {
     "data": {
      "text/plain": [
       "<seaborn.axisgrid.FacetGrid at 0x7fa62cb15e70>"
      ]
     },
     "execution_count": 407,
     "metadata": {},
     "output_type": "execute_result"
    },
    {
     "data": {
      "image/png": "[encoded data removed]",
      "text/plain": [
       "<Figure size 500x500 with 1 Axes>"
      ]
     },
     "metadata": {},
     "output_type": "display_data"
    }
   ],
   "source": [
    "ax = sns.lmplot(data = df, x = '2ª dose', y = 'total_casos')\n",
    "ax.set(title = '2ª dose vs total_casos')"
   ]
  },
  {
   "cell_type": "code",
   "execution_count": 408,
   "metadata": {},
   "outputs": [
    {
     "name": "stderr",
     "output_type": "stream",
     "text": [
      "/tmp/ipykernel_1028820/1019059574.py:1: UserWarning:\n",
      "\n",
      "\n",
      "\n",
      "`distplot` is a deprecated function and will be removed in seaborn v0.14.0.\n",
      "\n",
      "Please adapt your code to use either `displot` (a figure-level function with\n",
      "similar flexibility) or `histplot` (an axes-level function for histograms).\n",
      "\n",
      "For a guide to updating your code to use the new functions, please see\n",
      "https://gist.github.com/mwaskom/de44147ed2974457ad6372750bbe5751\n",
      "\n",
      "\n"
     ]
    },
    {
     "data": {
      "text/plain": [
       "<AxesSubplot:xlabel='total_casos', ylabel='Density'>"
      ]
     },
     "execution_count": 408,
     "metadata": {},
     "output_type": "execute_result"
    },
    {
     "data": {
      "image/png": "[encoded data removed]",
      "text/plain": [
       "<Figure size 640x480 with 1 Axes>"
      ]
     },
     "metadata": {},
     "output_type": "display_data"
    }
   ],
   "source": [
    "sns.distplot(df['total_casos'])"
   ]
  },
  {
   "cell_type": "code",
   "execution_count": 409,
   "metadata": {},
   "outputs": [
    {
     "name": "stderr",
     "output_type": "stream",
     "text": [
      "/tmp/ipykernel_1028820/234202714.py:1: UserWarning:\n",
      "\n",
      "\n",
      "\n",
      "`distplot` is a deprecated function and will be removed in seaborn v0.14.0.\n",
      "\n",
      "Please adapt your code to use either `displot` (a figure-level function with\n",
      "similar flexibility) or `histplot` (an axes-level function for histograms).\n",
      "\n",
      "For a guide to updating your code to use the new functions, please see\n",
      "https://gist.github.com/mwaskom/de44147ed2974457ad6372750bbe5751\n",
      "\n",
      "\n"
     ]
    },
    {
     "data": {
      "text/plain": [
       "<AxesSubplot:xlabel='total_mortes', ylabel='Density'>"
      ]
     },
     "execution_count": 409,
     "metadata": {},
     "output_type": "execute_result"
    },
    {
     "data": {
      "image/png": "[encoded data removed]",
      "text/plain": [
       "<Figure size 640x480 with 1 Axes>"
      ]
     },
     "metadata": {},
     "output_type": "display_data"
    }
   ],
   "source": [
    "sns.distplot(df['total_mortes'])"
   ]
  },
  {
   "cell_type": "code",
   "execution_count": 412,
   "metadata": {},
   "outputs": [
    {
     "data": {
      "text/html": [
       "<div>\n",
       "<style scoped>\n",
       "    .dataframe tbody tr th:only-of-type {\n",
       "        vertical-align: middle;\n",
       "    }\n",
       "\n",
       "    .dataframe tbody tr th {\n",
       "        vertical-align: top;\n",
       "    }\n",
       "\n",
       "    .dataframe thead th {\n",
       "        text-align: right;\n",
       "    }\n",
       "</style>\n",
       "<table border=\"1\" class=\"dataframe\">\n",
       "  <thead>\n",
       "    <tr style=\"text-align: right;\">\n",
       "      <th></th>\n",
       "      <th>populacao</th>\n",
       "      <th>total_casos</th>\n",
       "      <th>total_mortes</th>\n",
       "      <th>2ª dose</th>\n",
       "      <th>reforco</th>\n",
       "      <th>1ª dose</th>\n",
       "      <th>total vascinas</th>\n",
       "    </tr>\n",
       "  </thead>\n",
       "  <tbody>\n",
       "    <tr>\n",
       "      <th>populacao</th>\n",
       "      <td>1.000000</td>\n",
       "      <td>0.938629</td>\n",
       "      <td>0.974508</td>\n",
       "      <td>0.996112</td>\n",
       "      <td>0.991382</td>\n",
       "      <td>0.997036</td>\n",
       "      <td>0.996897</td>\n",
       "    </tr>\n",
       "    <tr>\n",
       "      <th>total_casos</th>\n",
       "      <td>0.938629</td>\n",
       "      <td>1.000000</td>\n",
       "      <td>0.942987</td>\n",
       "      <td>0.935933</td>\n",
       "      <td>0.937133</td>\n",
       "      <td>0.936839</td>\n",
       "      <td>0.936830</td>\n",
       "    </tr>\n",
       "    <tr>\n",
       "      <th>total_mortes</th>\n",
       "      <td>0.974508</td>\n",
       "      <td>0.942987</td>\n",
       "      <td>1.000000</td>\n",
       "      <td>0.982849</td>\n",
       "      <td>0.981292</td>\n",
       "      <td>0.982816</td>\n",
       "      <td>0.982363</td>\n",
       "    </tr>\n",
       "    <tr>\n",
       "      <th>2ª dose</th>\n",
       "      <td>0.996112</td>\n",
       "      <td>0.935933</td>\n",
       "      <td>0.982849</td>\n",
       "      <td>1.000000</td>\n",
       "      <td>0.996624</td>\n",
       "      <td>0.999757</td>\n",
       "      <td>0.999875</td>\n",
       "    </tr>\n",
       "    <tr>\n",
       "      <th>reforco</th>\n",
       "      <td>0.991382</td>\n",
       "      <td>0.937133</td>\n",
       "      <td>0.981292</td>\n",
       "      <td>0.996624</td>\n",
       "      <td>1.000000</td>\n",
       "      <td>0.995766</td>\n",
       "      <td>0.996080</td>\n",
       "    </tr>\n",
       "    <tr>\n",
       "      <th>1ª dose</th>\n",
       "      <td>0.997036</td>\n",
       "      <td>0.936839</td>\n",
       "      <td>0.982816</td>\n",
       "      <td>0.999757</td>\n",
       "      <td>0.995766</td>\n",
       "      <td>1.000000</td>\n",
       "      <td>0.999949</td>\n",
       "    </tr>\n",
       "    <tr>\n",
       "      <th>total vascinas</th>\n",
       "      <td>0.996897</td>\n",
       "      <td>0.936830</td>\n",
       "      <td>0.982363</td>\n",
       "      <td>0.999875</td>\n",
       "      <td>0.996080</td>\n",
       "      <td>0.999949</td>\n",
       "      <td>1.000000</td>\n",
       "    </tr>\n",
       "  </tbody>\n",
       "</table>\n",
       "</div>"
      ],
      "text/plain": [
       "                populacao  total_casos  total_mortes   2ª dose   reforco  \\\n",
       "populacao        1.000000     0.938629      0.974508  0.996112  0.991382   \n",
       "total_casos      0.938629     1.000000      0.942987  0.935933  0.937133   \n",
       "total_mortes     0.974508     0.942987      1.000000  0.982849  0.981292   \n",
       "2ª dose          0.996112     0.935933      0.982849  1.000000  0.996624   \n",
       "reforco          0.991382     0.937133      0.981292  0.996624  1.000000   \n",
       "1ª dose          0.997036     0.936839      0.982816  0.999757  0.995766   \n",
       "total vascinas   0.996897     0.936830      0.982363  0.999875  0.996080   \n",
       "\n",
       "                 1ª dose  total vascinas  \n",
       "populacao       0.997036        0.996897  \n",
       "total_casos     0.936839        0.936830  \n",
       "total_mortes    0.982816        0.982363  \n",
       "2ª dose         0.999757        0.999875  \n",
       "reforco         0.995766        0.996080  \n",
       "1ª dose         1.000000        0.999949  \n",
       "total vascinas  0.999949        1.000000  "
      ]
     },
     "execution_count": 412,
     "metadata": {},
     "output_type": "execute_result"
    }
   ],
   "source": [
    "df_corr = df.drop(columns=['novos_por_dia', 'a_cada_milhao', '2ª dose %', 'reforco %', '1ª dose %'])\n",
    "df_corr.corr()"
   ]
  },
  {
   "cell_type": "code",
   "execution_count": 413,
   "metadata": {},
   "outputs": [
    {
     "data": {
      "text/plain": [
       "<AxesSubplot:>"
      ]
     },
     "execution_count": 413,
     "metadata": {},
     "output_type": "execute_result"
    },
    {
     "data": {
      "image/png": "[encoded data removed]",
      "text/plain": [
       "<Figure size 1500x700 with 2 Axes>"
      ]
     },
     "metadata": {},
     "output_type": "display_data"
    }
   ],
   "source": [
    "plt.figure(figsize = (15, 7))\n",
    "sns.heatmap(df_corr.corr(), annot = True)"
   ]
  },
  {
   "cell_type": "markdown",
   "metadata": {},
   "source": [
    "## Modelagem dos Dados\n",
    "> ..."
   ]
  },
  {
   "attachments": {},
   "cell_type": "markdown",
   "metadata": {},
   "source": [
    "## Algoritmos de Machine Laearning\n",
    "> ..."
   ]
  },
  {
   "attachments": {},
   "cell_type": "markdown",
   "metadata": {},
   "source": [
    "## Avaliação do algoritimo\n",
    "> ..."
   ]
  },
  {
   "attachments": {},
   "cell_type": "markdown",
   "metadata": {},
   "source": [
    "## Storytelling\n",
    "> ..."
   ]
  },
  {
   "cell_type": "markdown",
   "metadata": {},
   "source": []
  }
 ],
 "metadata": {
  "kernelspec": {
   "display_name": "Python 3",
   "language": "python",
   "name": "python3"
  },
  "language_info": {
   "codemirror_mode": {
    "name": "ipython",
    "version": 3
   },
   "file_extension": ".py",
   "mimetype": "text/x-python",
   "name": "python",
   "nbconvert_exporter": "python",
   "pygments_lexer": "ipython3",
   "version": "3.10.9 (main, Dec  7 2022, 13:47:07) [GCC 12.2.0]"
  },
  "orig_nbformat": 4,
  "vscode": {
   "interpreter": {
    "hash": "767d51c1340bd893661ea55ea3124f6de3c7a262a8b4abca0554b478b1e2ff90"
   }
  }
 },
 "nbformat": 4,
 "nbformat_minor": 2
}
