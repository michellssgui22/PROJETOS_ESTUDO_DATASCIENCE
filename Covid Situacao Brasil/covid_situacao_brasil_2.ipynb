{
 "cells": [
  {
   "attachments": {},
   "cell_type": "markdown",
   "metadata": {},
   "source": [
    "# Projeto Covid - Situação Brasil\n",
    "## Por: Michel Souza Santana\n",
    "> Data: 23/01/2023\n",
    "\n",
    "### Objetivos\n",
    "* Requisitar de um sites on-line via url dados sobre a covid19, vacinação, população, estados mais afetados, casos x mortes, etc.\n",
    "* Armazenar os dados capturados em uma tabela.\n",
    "* Organizar e limpar os dados.\n",
    "* Anlisar os dados e selecionar os mais relevantes para o projeto.\n",
    "\n",
    "### Análise dos dados\n",
    "* Letalidade\n",
    "* Taxa de mortalidade\n",
    "* Índice de vacinação\n",
    "* Casos X Mortes X Vacinação\n",
    "* estados mais afetados\n",
    "* População total"
   ]
  },
  {
   "attachments": {},
   "cell_type": "markdown",
   "metadata": {},
   "source": [
    "## Questão de Negócio\n",
    "> Com base na ánálise verificar a contribuição das vacinas no resultado geeral de casos x mortes."
   ]
  },
  {
   "attachments": {},
   "cell_type": "markdown",
   "metadata": {},
   "source": [
    "## Entendimento do Negócio\n",
    "> ..."
   ]
  },
  {
   "attachments": {},
   "cell_type": "markdown",
   "metadata": {},
   "source": [
    "## Carregamento das bibliotecas Python"
   ]
  },
  {
   "cell_type": "code",
   "execution_count": 176,
   "metadata": {},
   "outputs": [],
   "source": [
    "import pandas as pd\n",
    "import numpy as np\n",
    "from urllib.request import urlopen\n",
    "from bs4 import BeautifulSoup\n",
    "import seaborn as sns\n",
    "import matplotlib.pyplot as plt"
   ]
  },
  {
   "attachments": {},
   "cell_type": "markdown",
   "metadata": {},
   "source": [
    "## Coleta de Dados & Limpeza dos Dados\n",
    "> (Casos x Morte): https://news.google.com/covid19/map?hl=pt-BR&mid=%2Fm%2F015fr&gl=BR&ceid=BR%3Apt-419 (Dados atualizados em: 21/01/2023)\n",
    "\n",
    "> (Vacinação): https://especiais.g1.globo.com/bemestar/vacina/2021/mapa-brasil-vacina-covid/ (Dados atualizado em: 23/01/2023)"
   ]
  },
  {
   "attachments": {},
   "cell_type": "markdown",
   "metadata": {},
   "source": [
    "### Coletando dados de casos x mortes"
   ]
  },
  {
   "cell_type": "code",
   "execution_count": 177,
   "metadata": {},
   "outputs": [
    {
     "data": {
      "text/plain": [
       "[<tr class=\"sgXwHf wdLSAe YvL7re\" data-id=\"/m/01hd58\" jsaction=\"click:KoQL8\" jslog=\"110764; track:click\"><th class=\"l3HOY\" role=\"rowheader\" scope=\"row\"><div class=\"TWa0lb\"><div class=\"ggJ3df\" jsaction=\"JIbuQc:ROTNpb\" jslog=\"113725; track:click\"><button aria-label=\"Liberada\" class=\"VfPpkd-Bz112c-LgbsSe yHy1rc eT1oJ mN1ivc Vs1w5b\" data-disable-idom=\"true\" data-n-mid=\"/m/01hd58\" jsaction=\"click:cOuCgd; mousedown:UX7yZ; mouseup:lbsD7e; mouseenter:tfO1Yc; mouseleave:JywGue; touchstart:p6p2H; touchmove:FwuNnf; touchend:yfqBxc; touchcancel:JMtRjd; focus:AHmuwe; blur:O22p3e; contextmenu:mg9Pef;mlnRJb:fLiPzd;\" jscontroller=\"soHxf\"><div class=\"VfPpkd-Bz112c-Jh9lGc\" jsname=\"s3Eaab\"></div><div class=\"VfPpkd-Bz112c-J1Ukfc-LhBDec\"></div><span aria-hidden=\"true\" class=\"VfPpkd-kBDsod gsIK3e\"><svg class=\"Xa3RBb NMm5M\" focusable=\"false\" height=\"16\" viewbox=\"0 0 24 24\" width=\"16\"><path d=\"M0 0h24v24H0z\" fill=\"none\" stroke=\"#000\" stroke-opacity=\".008\" stroke-width=\"0\"></path><path d=\"M17 4v7l2 3v2h-6v5l-1 1-1-1v-5H5v-2l2-3V4c0-1.1.9-2 2-2h6c1.11 0 2 .89 2 2zM9 4v7.75L7.5 14h9L15 11.75V4H9z\"></path></svg></span></button></div><div class=\"pcAJd\">São Paulo</div></div></th><td class=\"l3HOY\">6.389.460</td><td class=\"l3HOY\">0</td><td class=\"l3HOY\"><img alt=\"Gráfico de tendências de 60 dias\" aria-label=\"Gráfico de tendências de 60 dias\" class=\"dt3Iuf zC7z7b nBjBX\" loading=\"lazy\" src=\"//www.gstatic.com/covid-trends/images/NC60/_m_01hd58.svg\"/><img alt=\"Gráfico de tendências de 60 dias\" aria-label=\"Gráfico de tendências de 60 dias\" class=\"dt3Iuf krHqHb nBjBX\" loading=\"lazy\" src=\"//www.gstatic.com/covid-trends/images/NC60/_m_01hd58_dark.svg\"/></td><td class=\"l3HOY\">145.099</td><td class=\"l3HOY\">178.178</td></tr>,\n",
       " <tr class=\"sgXwHf wdLSAe YvL7re\" data-id=\"/m/01gh6z\" jsaction=\"click:KoQL8\" jslog=\"110764; track:click\"><th class=\"l3HOY\" role=\"rowheader\" scope=\"row\"><div class=\"TWa0lb\"><div class=\"ggJ3df\" jsaction=\"JIbuQc:ROTNpb\" jslog=\"113725; track:click\"><button aria-label=\"Liberada\" class=\"VfPpkd-Bz112c-LgbsSe yHy1rc eT1oJ mN1ivc Vs1w5b\" data-disable-idom=\"true\" data-n-mid=\"/m/01gh6z\" jsaction=\"click:cOuCgd; mousedown:UX7yZ; mouseup:lbsD7e; mouseenter:tfO1Yc; mouseleave:JywGue; touchstart:p6p2H; touchmove:FwuNnf; touchend:yfqBxc; touchcancel:JMtRjd; focus:AHmuwe; blur:O22p3e; contextmenu:mg9Pef;mlnRJb:fLiPzd;\" jscontroller=\"soHxf\"><div class=\"VfPpkd-Bz112c-Jh9lGc\" jsname=\"s3Eaab\"></div><div class=\"VfPpkd-Bz112c-J1Ukfc-LhBDec\"></div><span aria-hidden=\"true\" class=\"VfPpkd-kBDsod gsIK3e\"><svg class=\"Xa3RBb NMm5M\" focusable=\"false\" height=\"16\" viewbox=\"0 0 24 24\" width=\"16\"><path d=\"M0 0h24v24H0z\" fill=\"none\" stroke=\"#000\" stroke-opacity=\".008\" stroke-width=\"0\"></path><path d=\"M17 4v7l2 3v2h-6v5l-1 1-1-1v-5H5v-2l2-3V4c0-1.1.9-2 2-2h6c1.11 0 2 .89 2 2zM9 4v7.75L7.5 14h9L15 11.75V4H9z\"></path></svg></span></button></div><div class=\"pcAJd\">Minas Gerais</div></div></th><td class=\"l3HOY\">4.122.029</td><td class=\"l3HOY\">0</td><td class=\"l3HOY\"><img alt=\"Gráfico de tendências de 60 dias\" aria-label=\"Gráfico de tendências de 60 dias\" class=\"dt3Iuf zC7z7b nBjBX\" loading=\"lazy\" src=\"//www.gstatic.com/covid-trends/images/NC60/_m_01gh6z.svg\"/><img alt=\"Gráfico de tendências de 60 dias\" aria-label=\"Gráfico de tendências de 60 dias\" class=\"dt3Iuf krHqHb nBjBX\" loading=\"lazy\" src=\"//www.gstatic.com/covid-trends/images/NC60/_m_01gh6z_dark.svg\"/></td><td class=\"l3HOY\">197.518</td><td class=\"l3HOY\">64.799</td></tr>]"
      ]
     },
     "execution_count": 177,
     "metadata": {},
     "output_type": "execute_result"
    }
   ],
   "source": [
    "html = urlopen('https://news.google.com/covid19/map?hl=pt-BR&mid=%2Fm%2F015fr&gl=BR&ceid=BR%3Apt-419')\n",
    "bs = BeautifulSoup(html.read(), 'html.parser')\n",
    "dados = bs.findAll('tr', {'class': 'sgXwHf wdLSAe YvL7re'})\n",
    "dados[:2]"
   ]
  },
  {
   "attachments": {},
   "cell_type": "markdown",
   "metadata": {},
   "source": [
    "> Criando DataFrame (Casos x Mortes)"
   ]
  },
  {
   "cell_type": "code",
   "execution_count": 178,
   "metadata": {},
   "outputs": [
    {
     "data": {
      "text/plain": [
       "[['São Paulo', '6.389.460', '0', '145.099', '178.178'],\n",
       " ['Minas Gerais', '4.122.029', '0', '197.518', '64.799'],\n",
       " ['Rio Grande do Sul', '2.940.791', '0', '260.558', '41.716'],\n",
       " ['Paraná', '2.904.979', '179', '262.142', '45.929'],\n",
       " ['Rio de Janeiro', '2.719.059', '0', '165.180', '76.636']]"
      ]
     },
     "execution_count": 178,
     "metadata": {},
     "output_type": "execute_result"
    }
   ],
   "source": [
    "new_data = []\n",
    "for d in dados:\n",
    "    data = []\n",
    "    td = []\n",
    "    data.append(d.find('div', {'class': 'pcAJd'}).get_text())\n",
    "    td = d.findAll('td', {'class': 'l3HOY'})\n",
    "    data.append(td[0].get_text())\n",
    "    data.append(td[1].get_text())\n",
    "    data.append(td[3].get_text())\n",
    "    data.append(td[4].get_text())\n",
    "    new_data.append(data)\n",
    "new_data[:5]"
   ]
  },
  {
   "cell_type": "code",
   "execution_count": 179,
   "metadata": {},
   "outputs": [
    {
     "data": {
      "text/html": [
       "<div>\n",
       "<style scoped>\n",
       "    .dataframe tbody tr th:only-of-type {\n",
       "        vertical-align: middle;\n",
       "    }\n",
       "\n",
       "    .dataframe tbody tr th {\n",
       "        vertical-align: top;\n",
       "    }\n",
       "\n",
       "    .dataframe thead th {\n",
       "        text-align: right;\n",
       "    }\n",
       "</style>\n",
       "<table border=\"1\" class=\"dataframe\">\n",
       "  <thead>\n",
       "    <tr style=\"text-align: right;\">\n",
       "      <th></th>\n",
       "      <th>0</th>\n",
       "      <th>1</th>\n",
       "      <th>2</th>\n",
       "      <th>3</th>\n",
       "      <th>4</th>\n",
       "    </tr>\n",
       "  </thead>\n",
       "  <tbody>\n",
       "    <tr>\n",
       "      <th>0</th>\n",
       "      <td>São Paulo</td>\n",
       "      <td>6.389.460</td>\n",
       "      <td>0</td>\n",
       "      <td>145.099</td>\n",
       "      <td>178.178</td>\n",
       "    </tr>\n",
       "    <tr>\n",
       "      <th>1</th>\n",
       "      <td>Minas Gerais</td>\n",
       "      <td>4.122.029</td>\n",
       "      <td>0</td>\n",
       "      <td>197.518</td>\n",
       "      <td>64.799</td>\n",
       "    </tr>\n",
       "    <tr>\n",
       "      <th>2</th>\n",
       "      <td>Rio Grande do Sul</td>\n",
       "      <td>2.940.791</td>\n",
       "      <td>0</td>\n",
       "      <td>260.558</td>\n",
       "      <td>41.716</td>\n",
       "    </tr>\n",
       "    <tr>\n",
       "      <th>3</th>\n",
       "      <td>Paraná</td>\n",
       "      <td>2.904.979</td>\n",
       "      <td>179</td>\n",
       "      <td>262.142</td>\n",
       "      <td>45.929</td>\n",
       "    </tr>\n",
       "    <tr>\n",
       "      <th>4</th>\n",
       "      <td>Rio de Janeiro</td>\n",
       "      <td>2.719.059</td>\n",
       "      <td>0</td>\n",
       "      <td>165.180</td>\n",
       "      <td>76.636</td>\n",
       "    </tr>\n",
       "  </tbody>\n",
       "</table>\n",
       "</div>"
      ],
      "text/plain": [
       "                   0          1    2        3        4\n",
       "0          São Paulo  6.389.460    0  145.099  178.178\n",
       "1       Minas Gerais  4.122.029    0  197.518   64.799\n",
       "2  Rio Grande do Sul  2.940.791    0  260.558   41.716\n",
       "3             Paraná  2.904.979  179  262.142   45.929\n",
       "4     Rio de Janeiro  2.719.059    0  165.180   76.636"
      ]
     },
     "execution_count": 179,
     "metadata": {},
     "output_type": "execute_result"
    }
   ],
   "source": [
    "df_casos = pd.DataFrame(new_data)\n",
    "df_casos.head()"
   ]
  },
  {
   "cell_type": "code",
   "execution_count": 180,
   "metadata": {},
   "outputs": [
    {
     "data": {
      "text/html": [
       "<div>\n",
       "<style scoped>\n",
       "    .dataframe tbody tr th:only-of-type {\n",
       "        vertical-align: middle;\n",
       "    }\n",
       "\n",
       "    .dataframe tbody tr th {\n",
       "        vertical-align: top;\n",
       "    }\n",
       "\n",
       "    .dataframe thead th {\n",
       "        text-align: right;\n",
       "    }\n",
       "</style>\n",
       "<table border=\"1\" class=\"dataframe\">\n",
       "  <thead>\n",
       "    <tr style=\"text-align: right;\">\n",
       "      <th></th>\n",
       "      <th>local</th>\n",
       "      <th>total_casos</th>\n",
       "      <th>novos_por_dia</th>\n",
       "      <th>a_cada_milhao</th>\n",
       "      <th>total_mortes</th>\n",
       "    </tr>\n",
       "  </thead>\n",
       "  <tbody>\n",
       "    <tr>\n",
       "      <th>0</th>\n",
       "      <td>São Paulo</td>\n",
       "      <td>6.389.460</td>\n",
       "      <td>0</td>\n",
       "      <td>145.099</td>\n",
       "      <td>178.178</td>\n",
       "    </tr>\n",
       "    <tr>\n",
       "      <th>1</th>\n",
       "      <td>Minas Gerais</td>\n",
       "      <td>4.122.029</td>\n",
       "      <td>0</td>\n",
       "      <td>197.518</td>\n",
       "      <td>64.799</td>\n",
       "    </tr>\n",
       "    <tr>\n",
       "      <th>2</th>\n",
       "      <td>Rio Grande do Sul</td>\n",
       "      <td>2.940.791</td>\n",
       "      <td>0</td>\n",
       "      <td>260.558</td>\n",
       "      <td>41.716</td>\n",
       "    </tr>\n",
       "    <tr>\n",
       "      <th>3</th>\n",
       "      <td>Paraná</td>\n",
       "      <td>2.904.979</td>\n",
       "      <td>179</td>\n",
       "      <td>262.142</td>\n",
       "      <td>45.929</td>\n",
       "    </tr>\n",
       "    <tr>\n",
       "      <th>4</th>\n",
       "      <td>Rio de Janeiro</td>\n",
       "      <td>2.719.059</td>\n",
       "      <td>0</td>\n",
       "      <td>165.180</td>\n",
       "      <td>76.636</td>\n",
       "    </tr>\n",
       "  </tbody>\n",
       "</table>\n",
       "</div>"
      ],
      "text/plain": [
       "               local total_casos novos_por_dia a_cada_milhao total_mortes\n",
       "0          São Paulo   6.389.460             0       145.099      178.178\n",
       "1       Minas Gerais   4.122.029             0       197.518       64.799\n",
       "2  Rio Grande do Sul   2.940.791             0       260.558       41.716\n",
       "3             Paraná   2.904.979           179       262.142       45.929\n",
       "4     Rio de Janeiro   2.719.059             0       165.180       76.636"
      ]
     },
     "execution_count": 180,
     "metadata": {},
     "output_type": "execute_result"
    }
   ],
   "source": [
    "df_casos = pd.DataFrame(new_data, columns=['local', 'total_casos', 'novos_por_dia', 'a_cada_milhao', 'total_mortes' ])\n",
    "df_casos.head()"
   ]
  },
  {
   "cell_type": "code",
   "execution_count": 181,
   "metadata": {},
   "outputs": [],
   "source": [
    "df_casos.to_csv('csv/casosXmortes.csv')"
   ]
  },
  {
   "attachments": {},
   "cell_type": "markdown",
   "metadata": {},
   "source": [
    "### Coletando dados das vascinas"
   ]
  },
  {
   "attachments": {},
   "cell_type": "markdown",
   "metadata": {},
   "source": [
    "> Devido à dificuldade de interação sobre os dados via url, copiei manualmente o html da página e extrair os dados necessários."
   ]
  },
  {
   "cell_type": "code",
   "execution_count": 182,
   "metadata": {},
   "outputs": [
    {
     "data": {
      "text/html": [
       "<div>\n",
       "<style scoped>\n",
       "    .dataframe tbody tr th:only-of-type {\n",
       "        vertical-align: middle;\n",
       "    }\n",
       "\n",
       "    .dataframe tbody tr th {\n",
       "        vertical-align: top;\n",
       "    }\n",
       "\n",
       "    .dataframe thead th {\n",
       "        text-align: right;\n",
       "    }\n",
       "</style>\n",
       "<table border=\"1\" class=\"dataframe\">\n",
       "  <thead>\n",
       "    <tr style=\"text-align: right;\">\n",
       "      <th></th>\n",
       "      <th>Estado</th>\n",
       "      <th>2ª doseou doseúnica(Unidades)</th>\n",
       "      <th>2ª doseou doseúnica(Em %)</th>\n",
       "      <th>Dose dereforço*(Unidades)</th>\n",
       "      <th>Dose dereforço*(Em %)</th>\n",
       "      <th>1ª dose(Unidade)</th>\n",
       "      <th>1ª dose(Em %)</th>\n",
       "      <th>Total devacinasaplicadas</th>\n",
       "    </tr>\n",
       "  </thead>\n",
       "  <tbody>\n",
       "    <tr>\n",
       "      <th>0</th>\n",
       "      <td>Acre</td>\n",
       "      <td>597.935</td>\n",
       "      <td>65,05%</td>\n",
       "      <td>284.813</td>\n",
       "      <td>30,99%</td>\n",
       "      <td>696.619</td>\n",
       "      <td>75,79%</td>\n",
       "      <td>1.280.931</td>\n",
       "    </tr>\n",
       "    <tr>\n",
       "      <th>1</th>\n",
       "      <td>Alagoas</td>\n",
       "      <td>2.355.718</td>\n",
       "      <td>69,73%</td>\n",
       "      <td>1.272.731</td>\n",
       "      <td>37,67%</td>\n",
       "      <td>2.642.076</td>\n",
       "      <td>78,21%</td>\n",
       "      <td>4.941.707</td>\n",
       "    </tr>\n",
       "    <tr>\n",
       "      <th>2</th>\n",
       "      <td>Amazonas</td>\n",
       "      <td>2.922.899</td>\n",
       "      <td>67,48%</td>\n",
       "      <td>1.691.944</td>\n",
       "      <td>39,06%</td>\n",
       "      <td>3.361.647</td>\n",
       "      <td>77,61%</td>\n",
       "      <td>6.209.127</td>\n",
       "    </tr>\n",
       "    <tr>\n",
       "      <th>3</th>\n",
       "      <td>Amapá</td>\n",
       "      <td>514.824</td>\n",
       "      <td>57,63%</td>\n",
       "      <td>269.240</td>\n",
       "      <td>30,14%</td>\n",
       "      <td>614.022</td>\n",
       "      <td>68,74%</td>\n",
       "      <td>1.111.564</td>\n",
       "    </tr>\n",
       "    <tr>\n",
       "      <th>4</th>\n",
       "      <td>Bahia</td>\n",
       "      <td>11.226.993</td>\n",
       "      <td>74,66%</td>\n",
       "      <td>7.710.188</td>\n",
       "      <td>51,28%</td>\n",
       "      <td>11.717.323</td>\n",
       "      <td>77,93%</td>\n",
       "      <td>22.679.938</td>\n",
       "    </tr>\n",
       "  </tbody>\n",
       "</table>\n",
       "</div>"
      ],
      "text/plain": [
       "     Estado 2ª doseou doseúnica(Unidades) 2ª doseou doseúnica(Em %)  \\\n",
       "0      Acre                       597.935                    65,05%   \n",
       "1   Alagoas                     2.355.718                    69,73%   \n",
       "2  Amazonas                     2.922.899                    67,48%   \n",
       "3     Amapá                       514.824                    57,63%   \n",
       "4     Bahia                    11.226.993                    74,66%   \n",
       "\n",
       "  Dose dereforço*(Unidades) Dose dereforço*(Em %) 1ª dose(Unidade)  \\\n",
       "0                   284.813                30,99%          696.619   \n",
       "1                 1.272.731                37,67%        2.642.076   \n",
       "2                 1.691.944                39,06%        3.361.647   \n",
       "3                   269.240                30,14%          614.022   \n",
       "4                 7.710.188                51,28%       11.717.323   \n",
       "\n",
       "  1ª dose(Em %) Total devacinasaplicadas  \n",
       "0        75,79%                1.280.931  \n",
       "1        78,21%                4.941.707  \n",
       "2        77,61%                6.209.127  \n",
       "3        68,74%                1.111.564  \n",
       "4        77,93%               22.679.938  "
      ]
     },
     "execution_count": 182,
     "metadata": {},
     "output_type": "execute_result"
    }
   ],
   "source": [
    "html = pd.read_html('html_vacinacao.html')\n",
    "df_vacinas = pd.DataFrame(html[0])\n",
    "df_vacinas.head()"
   ]
  },
  {
   "cell_type": "code",
   "execution_count": 183,
   "metadata": {},
   "outputs": [
    {
     "name": "stderr",
     "output_type": "stream",
     "text": [
      "/tmp/ipykernel_1028820/3013469470.py:1: FutureWarning: The default value of regex will change from True to False in a future version. In addition, single character regular expressions will *not* be treated as literal strings when regex=True.\n",
      "  df_vacinas['2ª doseou doseúnica(Unidades)'] = df_vacinas['2ª doseou doseúnica(Unidades)'].str.replace('.', '')\n",
      "/tmp/ipykernel_1028820/3013469470.py:6: FutureWarning: The default value of regex will change from True to False in a future version. In addition, single character regular expressions will *not* be treated as literal strings when regex=True.\n",
      "  df_vacinas['Dose dereforço*(Unidades)'] = df_vacinas['Dose dereforço*(Unidades)'].str.replace('.', '')\n",
      "/tmp/ipykernel_1028820/3013469470.py:11: FutureWarning: The default value of regex will change from True to False in a future version. In addition, single character regular expressions will *not* be treated as literal strings when regex=True.\n",
      "  df_vacinas['1ª dose(Unidade)'] = df_vacinas['1ª dose(Unidade)'].str.replace('.', '')\n",
      "/tmp/ipykernel_1028820/3013469470.py:16: FutureWarning: The default value of regex will change from True to False in a future version. In addition, single character regular expressions will *not* be treated as literal strings when regex=True.\n",
      "  df_vacinas['Total devacinasaplicadas'] = df_vacinas['Total devacinasaplicadas'].str.replace('.', '')\n"
     ]
    }
   ],
   "source": [
    "df_vacinas['2ª doseou doseúnica(Unidades)'] = df_vacinas['2ª doseou doseúnica(Unidades)'].str.replace('.', '')\n",
    "df_vacinas['2ª doseou doseúnica(Unidades)'] = df_vacinas['2ª doseou doseúnica(Unidades)'].astype('int64')\n",
    "df_vacinas['2ª doseou doseúnica(Em %)'] = df_vacinas['2ª doseou doseúnica(Em %)'].str.replace(',', '.')\n",
    "df_vacinas['2ª doseou doseúnica(Em %)'] = df_vacinas['2ª doseou doseúnica(Em %)'].str.replace('%', '')\n",
    "df_vacinas['2ª doseou doseúnica(Em %)'] = df_vacinas['2ª doseou doseúnica(Em %)'].astype(float)\n",
    "df_vacinas['Dose dereforço*(Unidades)'] = df_vacinas['Dose dereforço*(Unidades)'].str.replace('.', '')\n",
    "df_vacinas['Dose dereforço*(Unidades)'] = df_vacinas['Dose dereforço*(Unidades)'].astype('int64')\n",
    "df_vacinas['Dose dereforço*(Em %)'] = df_vacinas['Dose dereforço*(Em %)'].str.replace(',', '.')\n",
    "df_vacinas['Dose dereforço*(Em %)'] = df_vacinas['Dose dereforço*(Em %)'].str.replace('%', '')\n",
    "df_vacinas['Dose dereforço*(Em %)'] = df_vacinas['Dose dereforço*(Em %)'].astype(float)\n",
    "df_vacinas['1ª dose(Unidade)'] = df_vacinas['1ª dose(Unidade)'].str.replace('.', '')\n",
    "df_vacinas['1ª dose(Unidade)'] = df_vacinas['1ª dose(Unidade)'].astype('int64')\n",
    "df_vacinas['1ª dose(Em %)'] = df_vacinas['1ª dose(Em %)'].str.replace(',', '.')\n",
    "df_vacinas['1ª dose(Em %)'] = df_vacinas['1ª dose(Em %)'].str.replace('%', '')\n",
    "df_vacinas['1ª dose(Em %)'] = df_vacinas['1ª dose(Em %)'].astype(float)\n",
    "df_vacinas['Total devacinasaplicadas'] = df_vacinas['Total devacinasaplicadas'].str.replace('.', '')\n",
    "df_vacinas['Total devacinasaplicadas'] = df_vacinas['Total devacinasaplicadas'].astype('int64')"
   ]
  },
  {
   "cell_type": "code",
   "execution_count": 184,
   "metadata": {},
   "outputs": [],
   "source": [
    "df_vacinas = df_vacinas.rename(columns={'Estado': 'estado', \n",
    "                   '2ª doseou doseúnica(Unidades)': '2ª dose', \n",
    "                   '2ª doseou doseúnica(Unidades)': '2ª dose',\n",
    "                   '2ª doseou doseúnica(Em %)': '2ª dose %',\n",
    "                   'Dose dereforço*(Unidades)': 'reforco',\n",
    "                   'Dose dereforço*(Em %)': 'reforco %',\n",
    "                   '1ª dose(Unidade)': '1ª dose',\n",
    "                   '1ª dose(Em %)': '1ª dose %',\n",
    "                   'Total devacinasaplicadas': 'total vascinas'\n",
    "                   }) "
   ]
  },
  {
   "cell_type": "code",
   "execution_count": 185,
   "metadata": {},
   "outputs": [
    {
     "data": {
      "text/html": [
       "<div>\n",
       "<style scoped>\n",
       "    .dataframe tbody tr th:only-of-type {\n",
       "        vertical-align: middle;\n",
       "    }\n",
       "\n",
       "    .dataframe tbody tr th {\n",
       "        vertical-align: top;\n",
       "    }\n",
       "\n",
       "    .dataframe thead th {\n",
       "        text-align: right;\n",
       "    }\n",
       "</style>\n",
       "<table border=\"1\" class=\"dataframe\">\n",
       "  <thead>\n",
       "    <tr style=\"text-align: right;\">\n",
       "      <th></th>\n",
       "      <th>estado</th>\n",
       "      <th>2ª dose</th>\n",
       "      <th>2ª dose %</th>\n",
       "      <th>reforco</th>\n",
       "      <th>reforco %</th>\n",
       "      <th>1ª dose</th>\n",
       "      <th>1ª dose %</th>\n",
       "      <th>total vascinas</th>\n",
       "    </tr>\n",
       "  </thead>\n",
       "  <tbody>\n",
       "    <tr>\n",
       "      <th>0</th>\n",
       "      <td>Acre</td>\n",
       "      <td>597935</td>\n",
       "      <td>65.05</td>\n",
       "      <td>284813</td>\n",
       "      <td>30.99</td>\n",
       "      <td>696619</td>\n",
       "      <td>75.79</td>\n",
       "      <td>1280931</td>\n",
       "    </tr>\n",
       "    <tr>\n",
       "      <th>1</th>\n",
       "      <td>Alagoas</td>\n",
       "      <td>2355718</td>\n",
       "      <td>69.73</td>\n",
       "      <td>1272731</td>\n",
       "      <td>37.67</td>\n",
       "      <td>2642076</td>\n",
       "      <td>78.21</td>\n",
       "      <td>4941707</td>\n",
       "    </tr>\n",
       "    <tr>\n",
       "      <th>2</th>\n",
       "      <td>Amazonas</td>\n",
       "      <td>2922899</td>\n",
       "      <td>67.48</td>\n",
       "      <td>1691944</td>\n",
       "      <td>39.06</td>\n",
       "      <td>3361647</td>\n",
       "      <td>77.61</td>\n",
       "      <td>6209127</td>\n",
       "    </tr>\n",
       "    <tr>\n",
       "      <th>3</th>\n",
       "      <td>Amapá</td>\n",
       "      <td>514824</td>\n",
       "      <td>57.63</td>\n",
       "      <td>269240</td>\n",
       "      <td>30.14</td>\n",
       "      <td>614022</td>\n",
       "      <td>68.74</td>\n",
       "      <td>1111564</td>\n",
       "    </tr>\n",
       "    <tr>\n",
       "      <th>4</th>\n",
       "      <td>Bahia</td>\n",
       "      <td>11226993</td>\n",
       "      <td>74.66</td>\n",
       "      <td>7710188</td>\n",
       "      <td>51.28</td>\n",
       "      <td>11717323</td>\n",
       "      <td>77.93</td>\n",
       "      <td>22679938</td>\n",
       "    </tr>\n",
       "  </tbody>\n",
       "</table>\n",
       "</div>"
      ],
      "text/plain": [
       "     estado   2ª dose  2ª dose %  reforco  reforco %   1ª dose  1ª dose %  \\\n",
       "0      Acre    597935      65.05   284813      30.99    696619      75.79   \n",
       "1   Alagoas   2355718      69.73  1272731      37.67   2642076      78.21   \n",
       "2  Amazonas   2922899      67.48  1691944      39.06   3361647      77.61   \n",
       "3     Amapá    514824      57.63   269240      30.14    614022      68.74   \n",
       "4     Bahia  11226993      74.66  7710188      51.28  11717323      77.93   \n",
       "\n",
       "   total vascinas  \n",
       "0         1280931  \n",
       "1         4941707  \n",
       "2         6209127  \n",
       "3         1111564  \n",
       "4        22679938  "
      ]
     },
     "execution_count": 185,
     "metadata": {},
     "output_type": "execute_result"
    }
   ],
   "source": [
    "df_vacinas.head()"
   ]
  },
  {
   "cell_type": "code",
   "execution_count": 186,
   "metadata": {},
   "outputs": [],
   "source": [
    "df_vacinas.to_csv('csv/vascinas.csv')"
   ]
  },
  {
   "attachments": {},
   "cell_type": "markdown",
   "metadata": {},
   "source": [
    "### Coletando dados da população"
   ]
  },
  {
   "cell_type": "code",
   "execution_count": 187,
   "metadata": {},
   "outputs": [],
   "source": [
    "html = urlopen('https://www.amunes.org.br/noticia/ler/173/ibge-divulga-nova-estimativa-populacional-dos-estados-e-municipios')\n",
    "bs = BeautifulSoup(html.read(), 'html.parser')\n",
    "populacao = bs.findAll('tr')"
   ]
  },
  {
   "cell_type": "code",
   "execution_count": 188,
   "metadata": {},
   "outputs": [],
   "source": [
    "tabela = []\n",
    "for t in range(len(populacao)):\n",
    "    tabela.append(populacao[t])"
   ]
  },
  {
   "cell_type": "code",
   "execution_count": 189,
   "metadata": {},
   "outputs": [
    {
     "name": "stderr",
     "output_type": "stream",
     "text": [
      "/usr/lib/python3/dist-packages/pandas/core/internals/construction.py:540: VisibleDeprecationWarning: Creating an ndarray from ragged nested sequences (which is a list-or-tuple of lists-or-tuples-or ndarrays with different lengths or shapes) is deprecated. If you meant to do this, you must specify 'dtype=object' when creating the ndarray.\n",
      "  values = np.array([convert(v) for v in values])\n"
     ]
    }
   ],
   "source": [
    "df_populacao = pd.DataFrame(tabela)\n",
    "df_populacao.drop(index=([0, 1]), inplace=True)\n",
    "df_populacao = df_populacao.reset_index()\n",
    "df_populacao.drop(columns=['index'], inplace=True)"
   ]
  },
  {
   "cell_type": "code",
   "execution_count": 190,
   "metadata": {},
   "outputs": [
    {
     "data": {
      "text/html": [
       "<div>\n",
       "<style scoped>\n",
       "    .dataframe tbody tr th:only-of-type {\n",
       "        vertical-align: middle;\n",
       "    }\n",
       "\n",
       "    .dataframe tbody tr th {\n",
       "        vertical-align: top;\n",
       "    }\n",
       "\n",
       "    .dataframe thead th {\n",
       "        text-align: right;\n",
       "    }\n",
       "</style>\n",
       "<table border=\"1\" class=\"dataframe\">\n",
       "  <thead>\n",
       "    <tr style=\"text-align: right;\">\n",
       "      <th></th>\n",
       "      <th>0</th>\n",
       "      <th>1</th>\n",
       "    </tr>\n",
       "  </thead>\n",
       "  <tbody>\n",
       "    <tr>\n",
       "      <th>0</th>\n",
       "      <td>São Paulo</td>\n",
       "      <td>43.663.672</td>\n",
       "    </tr>\n",
       "    <tr>\n",
       "      <th>1</th>\n",
       "      <td>Minas Gerais</td>\n",
       "      <td>20.593.366</td>\n",
       "    </tr>\n",
       "    <tr>\n",
       "      <th>2</th>\n",
       "      <td>Rio de Janeiro</td>\n",
       "      <td>16.369.178</td>\n",
       "    </tr>\n",
       "    <tr>\n",
       "      <th>3</th>\n",
       "      <td>Espírito Santo</td>\n",
       "      <td>3.839.363</td>\n",
       "    </tr>\n",
       "    <tr>\n",
       "      <th>4</th>\n",
       "      <td>Região Nordeste</td>\n",
       "      <td></td>\n",
       "    </tr>\n",
       "  </tbody>\n",
       "</table>\n",
       "</div>"
      ],
      "text/plain": [
       "                 0           1\n",
       "0        São Paulo  43.663.672\n",
       "1     Minas Gerais  20.593.366\n",
       "2   Rio de Janeiro  16.369.178\n",
       "3   Espírito Santo   3.839.363\n",
       "4  Região Nordeste            "
      ]
     },
     "execution_count": 190,
     "metadata": {},
     "output_type": "execute_result"
    }
   ],
   "source": [
    "for i in range(len(df_populacao[0])):\n",
    "    df_populacao[0][i] = df_populacao[0][i].get_text()\n",
    "    df_populacao[1][i] = df_populacao[1][i].get_text()\n",
    "df_populacao.head()"
   ]
  },
  {
   "cell_type": "code",
   "execution_count": 191,
   "metadata": {},
   "outputs": [
    {
     "name": "stderr",
     "output_type": "stream",
     "text": [
      "/tmp/ipykernel_1028820/1068304898.py:1: FutureWarning: The default value of regex will change from True to False in a future version. In addition, single character regular expressions will *not* be treated as literal strings when regex=True.\n",
      "  df_populacao[1] = df_populacao[1].str.replace('.', '')\n"
     ]
    },
    {
     "data": {
      "text/html": [
       "<div>\n",
       "<style scoped>\n",
       "    .dataframe tbody tr th:only-of-type {\n",
       "        vertical-align: middle;\n",
       "    }\n",
       "\n",
       "    .dataframe tbody tr th {\n",
       "        vertical-align: top;\n",
       "    }\n",
       "\n",
       "    .dataframe thead th {\n",
       "        text-align: right;\n",
       "    }\n",
       "</style>\n",
       "<table border=\"1\" class=\"dataframe\">\n",
       "  <thead>\n",
       "    <tr style=\"text-align: right;\">\n",
       "      <th></th>\n",
       "      <th>0</th>\n",
       "      <th>1</th>\n",
       "    </tr>\n",
       "  </thead>\n",
       "  <tbody>\n",
       "    <tr>\n",
       "      <th>0</th>\n",
       "      <td>São Paulo</td>\n",
       "      <td>43663672</td>\n",
       "    </tr>\n",
       "    <tr>\n",
       "      <th>1</th>\n",
       "      <td>Minas Gerais</td>\n",
       "      <td>20593366</td>\n",
       "    </tr>\n",
       "    <tr>\n",
       "      <th>2</th>\n",
       "      <td>Rio de Janeiro</td>\n",
       "      <td>16369178</td>\n",
       "    </tr>\n",
       "    <tr>\n",
       "      <th>3</th>\n",
       "      <td>Espírito Santo</td>\n",
       "      <td>3839363</td>\n",
       "    </tr>\n",
       "    <tr>\n",
       "      <th>4</th>\n",
       "      <td>Região Nordeste</td>\n",
       "      <td></td>\n",
       "    </tr>\n",
       "  </tbody>\n",
       "</table>\n",
       "</div>"
      ],
      "text/plain": [
       "                 0         1\n",
       "0        São Paulo  43663672\n",
       "1     Minas Gerais  20593366\n",
       "2   Rio de Janeiro  16369178\n",
       "3   Espírito Santo   3839363\n",
       "4  Região Nordeste          "
      ]
     },
     "execution_count": 191,
     "metadata": {},
     "output_type": "execute_result"
    }
   ],
   "source": [
    "df_populacao[1] = df_populacao[1].str.replace('.', '')\n",
    "df_populacao = df_populacao.fillna(0)\n",
    "df_populacao.head()"
   ]
  },
  {
   "cell_type": "code",
   "execution_count": 192,
   "metadata": {},
   "outputs": [],
   "source": [
    "for i in range(len(df_populacao[0])):\n",
    "    if df_populacao[1][i] == '' or df_populacao[1][i] == ' ':\n",
    "        df_populacao[1][i] = 0"
   ]
  },
  {
   "cell_type": "code",
   "execution_count": 193,
   "metadata": {},
   "outputs": [
    {
     "data": {
      "text/html": [
       "<div>\n",
       "<style scoped>\n",
       "    .dataframe tbody tr th:only-of-type {\n",
       "        vertical-align: middle;\n",
       "    }\n",
       "\n",
       "    .dataframe tbody tr th {\n",
       "        vertical-align: top;\n",
       "    }\n",
       "\n",
       "    .dataframe thead th {\n",
       "        text-align: right;\n",
       "    }\n",
       "</style>\n",
       "<table border=\"1\" class=\"dataframe\">\n",
       "  <thead>\n",
       "    <tr style=\"text-align: right;\">\n",
       "      <th></th>\n",
       "      <th>0</th>\n",
       "      <th>1</th>\n",
       "    </tr>\n",
       "  </thead>\n",
       "  <tbody>\n",
       "    <tr>\n",
       "      <th>0</th>\n",
       "      <td>São Paulo</td>\n",
       "      <td>43663672</td>\n",
       "    </tr>\n",
       "    <tr>\n",
       "      <th>1</th>\n",
       "      <td>Minas Gerais</td>\n",
       "      <td>20593366</td>\n",
       "    </tr>\n",
       "    <tr>\n",
       "      <th>2</th>\n",
       "      <td>Rio de Janeiro</td>\n",
       "      <td>16369178</td>\n",
       "    </tr>\n",
       "    <tr>\n",
       "      <th>3</th>\n",
       "      <td>Espírito Santo</td>\n",
       "      <td>3839363</td>\n",
       "    </tr>\n",
       "    <tr>\n",
       "      <th>4</th>\n",
       "      <td>Região Nordeste</td>\n",
       "      <td>0</td>\n",
       "    </tr>\n",
       "  </tbody>\n",
       "</table>\n",
       "</div>"
      ],
      "text/plain": [
       "                 0         1\n",
       "0        São Paulo  43663672\n",
       "1     Minas Gerais  20593366\n",
       "2   Rio de Janeiro  16369178\n",
       "3   Espírito Santo   3839363\n",
       "4  Região Nordeste         0"
      ]
     },
     "execution_count": 193,
     "metadata": {},
     "output_type": "execute_result"
    }
   ],
   "source": [
    "df_populacao[1] = df_populacao[1].astype('int64')\n",
    "df_populacao.head()"
   ]
  },
  {
   "cell_type": "code",
   "execution_count": 194,
   "metadata": {},
   "outputs": [
    {
     "data": {
      "text/html": [
       "<div>\n",
       "<style scoped>\n",
       "    .dataframe tbody tr th:only-of-type {\n",
       "        vertical-align: middle;\n",
       "    }\n",
       "\n",
       "    .dataframe tbody tr th {\n",
       "        vertical-align: top;\n",
       "    }\n",
       "\n",
       "    .dataframe thead th {\n",
       "        text-align: right;\n",
       "    }\n",
       "</style>\n",
       "<table border=\"1\" class=\"dataframe\">\n",
       "  <thead>\n",
       "    <tr style=\"text-align: right;\">\n",
       "      <th></th>\n",
       "      <th>0</th>\n",
       "      <th>1</th>\n",
       "    </tr>\n",
       "  </thead>\n",
       "  <tbody>\n",
       "    <tr>\n",
       "      <th>0</th>\n",
       "      <td>São Paulo</td>\n",
       "      <td>43663672</td>\n",
       "    </tr>\n",
       "    <tr>\n",
       "      <th>1</th>\n",
       "      <td>Minas Gerais</td>\n",
       "      <td>20593366</td>\n",
       "    </tr>\n",
       "    <tr>\n",
       "      <th>2</th>\n",
       "      <td>Rio de Janeiro</td>\n",
       "      <td>16369178</td>\n",
       "    </tr>\n",
       "    <tr>\n",
       "      <th>3</th>\n",
       "      <td>Espírito Santo</td>\n",
       "      <td>3839363</td>\n",
       "    </tr>\n",
       "    <tr>\n",
       "      <th>5</th>\n",
       "      <td>Bahia</td>\n",
       "      <td>15044127</td>\n",
       "    </tr>\n",
       "  </tbody>\n",
       "</table>\n",
       "</div>"
      ],
      "text/plain": [
       "                0         1\n",
       "0       São Paulo  43663672\n",
       "1    Minas Gerais  20593366\n",
       "2  Rio de Janeiro  16369178\n",
       "3  Espírito Santo   3839363\n",
       "5           Bahia  15044127"
      ]
     },
     "execution_count": 194,
     "metadata": {},
     "output_type": "execute_result"
    }
   ],
   "source": [
    "df_populacao = df_populacao[df_populacao[1] != 0]\n",
    "df_populacao.head()"
   ]
  },
  {
   "cell_type": "code",
   "execution_count": 195,
   "metadata": {},
   "outputs": [
    {
     "data": {
      "text/html": [
       "<div>\n",
       "<style scoped>\n",
       "    .dataframe tbody tr th:only-of-type {\n",
       "        vertical-align: middle;\n",
       "    }\n",
       "\n",
       "    .dataframe tbody tr th {\n",
       "        vertical-align: top;\n",
       "    }\n",
       "\n",
       "    .dataframe thead th {\n",
       "        text-align: right;\n",
       "    }\n",
       "</style>\n",
       "<table border=\"1\" class=\"dataframe\">\n",
       "  <thead>\n",
       "    <tr style=\"text-align: right;\">\n",
       "      <th></th>\n",
       "      <th>estado</th>\n",
       "      <th>populacao</th>\n",
       "    </tr>\n",
       "  </thead>\n",
       "  <tbody>\n",
       "    <tr>\n",
       "      <th>0</th>\n",
       "      <td>Acre</td>\n",
       "      <td>776463</td>\n",
       "    </tr>\n",
       "    <tr>\n",
       "      <th>1</th>\n",
       "      <td>Alagoas</td>\n",
       "      <td>3300938</td>\n",
       "    </tr>\n",
       "    <tr>\n",
       "      <th>2</th>\n",
       "      <td>Amapá</td>\n",
       "      <td>734995</td>\n",
       "    </tr>\n",
       "    <tr>\n",
       "      <th>3</th>\n",
       "      <td>Amazonas</td>\n",
       "      <td>3807923</td>\n",
       "    </tr>\n",
       "    <tr>\n",
       "      <th>4</th>\n",
       "      <td>Bahia</td>\n",
       "      <td>15044127</td>\n",
       "    </tr>\n",
       "  </tbody>\n",
       "</table>\n",
       "</div>"
      ],
      "text/plain": [
       "     estado  populacao\n",
       "0      Acre     776463\n",
       "1   Alagoas    3300938\n",
       "2     Amapá     734995\n",
       "3  Amazonas    3807923\n",
       "4     Bahia   15044127"
      ]
     },
     "execution_count": 195,
     "metadata": {},
     "output_type": "execute_result"
    }
   ],
   "source": [
    "df_populacao = df_populacao.reset_index()\n",
    "df_populacao.drop(columns=['index'], inplace=True)\n",
    "df_populacao = df_populacao.rename(columns={df_populacao.columns[0]:'estado'})\n",
    "df_populacao = df_populacao.rename(columns={df_populacao.columns[1]:'populacao'})\n",
    "\n",
    "df_populacao = df_populacao.sort_values(by=['estado'])\n",
    "df_populacao = df_populacao.reset_index()\n",
    "df_populacao.drop(columns=['index'], inplace=True)\n",
    "df_populacao.head()"
   ]
  },
  {
   "cell_type": "code",
   "execution_count": 196,
   "metadata": {},
   "outputs": [],
   "source": [
    "df_populacao.to_csv('csv/populacao.csv')"
   ]
  },
  {
   "attachments": {},
   "cell_type": "markdown",
   "metadata": {},
   "source": [
    "## Exploração dos Dados\n",
    "> ..."
   ]
  },
  {
   "cell_type": "markdown",
   "metadata": {},
   "source": [
    "## Modelagem dos Dados\n",
    "> ..."
   ]
  },
  {
   "attachments": {},
   "cell_type": "markdown",
   "metadata": {},
   "source": [
    "## Algoritmos de Machine Laearning\n",
    "> ..."
   ]
  },
  {
   "attachments": {},
   "cell_type": "markdown",
   "metadata": {},
   "source": [
    "## Avaliação do algoritimo\n",
    "> ..."
   ]
  },
  {
   "attachments": {},
   "cell_type": "markdown",
   "metadata": {},
   "source": [
    "## Storytelling\n",
    "> ..."
   ]
  },
  {
   "cell_type": "markdown",
   "metadata": {},
   "source": []
  }
 ],
 "metadata": {
  "kernelspec": {
   "display_name": "Python 3",
   "language": "python",
   "name": "python3"
  },
  "language_info": {
   "codemirror_mode": {
    "name": "ipython",
    "version": 3
   },
   "file_extension": ".py",
   "mimetype": "text/x-python",
   "name": "python",
   "nbconvert_exporter": "python",
   "pygments_lexer": "ipython3",
   "version": "3.10.9"
  },
  "orig_nbformat": 4,
  "vscode": {
   "interpreter": {
    "hash": "767d51c1340bd893661ea55ea3124f6de3c7a262a8b4abca0554b478b1e2ff90"
   }
  }
 },
 "nbformat": 4,
 "nbformat_minor": 2
}
